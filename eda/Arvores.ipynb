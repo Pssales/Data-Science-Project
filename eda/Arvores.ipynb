{
 "cells": [
  {
   "cell_type": "code",
   "execution_count": 6,
   "metadata": {},
   "outputs": [],
   "source": [
    "df = read.csv2(\"../dataset2/dataset_completo.csv\", header=T,sep = \",\")"
   ]
  },
  {
   "cell_type": "code",
   "execution_count": 7,
   "metadata": {},
   "outputs": [
    {
     "name": "stdout",
     "output_type": "stream",
     "text": [
      "'data.frame':\t14596 obs. of  24 variables:\n",
      " $ Halstead_b        : Factor w/ 329 levels \"0.0\",\"0.01\",\"0.02\",..: 131 101 11 8 13 13 2 4 19 46 ...\n",
      " $ Halstead_d        : Factor w/ 3038 levels \"0.0\",\"0.5\",\"0.63\",..: 7 5 2981 540 634 634 834 2610 391 1047 ...\n",
      " $ Halstead_e        : Factor w/ 8849 levels \"0.0\",\"1.0\",\"1.3\",..: 3 2 4178 4818 6926 6926 7459 6951 7911 4317 ...\n",
      " $ Halstead_i        : Factor w/ 4973 levels \"0.0\",\"1.0\",\"1.3\",..: 3 2 2312 452 1150 1150 889 585 2774 4076 ...\n",
      " $ Halstead_l        : Factor w/ 61 levels \"0.0\",\"0.01\",\"0.02\",..: 58 57 12 7 7 7 50 17 8 5 ...\n",
      " $ Halstead_lOBlank  : int  2 1 6 3 3 3 1 7 13 22 ...\n",
      " $ Halstead_lOCode   : int  2 1 1 0 0 0 0 0 12 8 ...\n",
      " $ Halstead_lOComment: int  2 1 0 0 0 0 0 0 16 35 ...\n",
      " $ Halstead_n        : Factor w/ 852 levels \"0.0\",\"1.0\",\"1.3\",..: 3 2 676 541 734 734 38 263 27 275 ...\n",
      " $ Halstead_t        : Factor w/ 8509 levels \"0.0\",\"0.06\",\"0.13\",..: 20 16 1818 2440 4459 4459 4040 4420 5408 1944 ...\n",
      " $ Halstead_v        : Factor w/ 4647 levels \"0.0\",\"1.0\",\"1.3\",..: 3 2 2164 1490 2384 2384 2345 4511 3297 632 ...\n",
      " $ Language          : int  0 0 0 0 0 0 0 0 0 0 ...\n",
      " $ McCabe_ev.g.      : Factor w/ 76 levels \"1.0\",\"1.4\",\"10.0\",..: 2 1 1 43 64 64 1 1 54 32 ...\n",
      " $ McCabe_iv.g.      : Factor w/ 84 levels \"1.0\",\"1.4\",\"10.0\",..: 2 1 35 22 22 22 1 22 57 1 ...\n",
      " $ McCabe_loc        : Factor w/ 371 levels \"0.0\",\"1.0\",\"1.1\",..: 3 2 161 120 161 161 333 27 171 276 ...\n",
      " $ McCabe_v.g.       : Factor w/ 111 levels \"1.0\",\"1.4\",\"10.0\",..: 2 1 68 54 78 78 1 26 68 19 ...\n",
      " $ SOFTWARE          : int  0 0 0 0 0 0 0 0 0 0 ...\n",
      " $ branchCount       : Factor w/ 151 levels \"1.0\",\"1.4\",\"10.0\",..: 2 1 143 125 10 10 1 76 143 75 ...\n",
      " $ defects           : int  0 1 0 0 0 0 0 0 0 0 ...\n",
      " $ locCodeAndComment : int  2 1 0 0 0 0 0 0 0 0 ...\n",
      " $ total_Op          : Factor w/ 612 levels \"0.0\",\"1.0\",\"1.2\",..: 3 2 402 282 417 417 493 82 533 67 ...\n",
      " $ total_Opnd        : Factor w/ 489 levels \"0.0\",\"1.0\",\"1.2\",..: 3 2 116 81 195 195 360 472 297 18 ...\n",
      " $ uniq_Op           : Factor w/ 73 levels \"0.0\",\"1.0\",\"1.2\",..: 3 2 11 13 13 13 41 4 11 11 ...\n",
      " $ uniq_Opnd         : Factor w/ 180 levels \"0.0\",\"1.0\",\"1.2\",..: 3 2 53 157 26 26 121 146 76 105 ...\n"
     ]
    }
   ],
   "source": [
    "str(df)"
   ]
  },
  {
   "cell_type": "code",
   "execution_count": 8,
   "metadata": {
    "scrolled": true
   },
   "outputs": [],
   "source": [
    "library(C50)\n",
    "df[,'defects'] <- as.factor(df[,'defects'])\n",
    "output <- df[[\"defects\"]]\n",
    "df$defects <- NULL\n",
    "input <- df"
   ]
  },
  {
   "cell_type": "code",
   "execution_count": 9,
   "metadata": {},
   "outputs": [
    {
     "name": "stdout",
     "output_type": "stream",
     "text": [
      "'data.frame':\t14596 obs. of  23 variables:\n",
      " $ Halstead_b        : Factor w/ 329 levels \"0.0\",\"0.01\",\"0.02\",..: 131 101 11 8 13 13 2 4 19 46 ...\n",
      " $ Halstead_d        : Factor w/ 3038 levels \"0.0\",\"0.5\",\"0.63\",..: 7 5 2981 540 634 634 834 2610 391 1047 ...\n",
      " $ Halstead_e        : Factor w/ 8849 levels \"0.0\",\"1.0\",\"1.3\",..: 3 2 4178 4818 6926 6926 7459 6951 7911 4317 ...\n",
      " $ Halstead_i        : Factor w/ 4973 levels \"0.0\",\"1.0\",\"1.3\",..: 3 2 2312 452 1150 1150 889 585 2774 4076 ...\n",
      " $ Halstead_l        : Factor w/ 61 levels \"0.0\",\"0.01\",\"0.02\",..: 58 57 12 7 7 7 50 17 8 5 ...\n",
      " $ Halstead_lOBlank  : int  2 1 6 3 3 3 1 7 13 22 ...\n",
      " $ Halstead_lOCode   : int  2 1 1 0 0 0 0 0 12 8 ...\n",
      " $ Halstead_lOComment: int  2 1 0 0 0 0 0 0 16 35 ...\n",
      " $ Halstead_n        : Factor w/ 852 levels \"0.0\",\"1.0\",\"1.3\",..: 3 2 676 541 734 734 38 263 27 275 ...\n",
      " $ Halstead_t        : Factor w/ 8509 levels \"0.0\",\"0.06\",\"0.13\",..: 20 16 1818 2440 4459 4459 4040 4420 5408 1944 ...\n",
      " $ Halstead_v        : Factor w/ 4647 levels \"0.0\",\"1.0\",\"1.3\",..: 3 2 2164 1490 2384 2384 2345 4511 3297 632 ...\n",
      " $ Language          : int  0 0 0 0 0 0 0 0 0 0 ...\n",
      " $ McCabe_ev.g.      : Factor w/ 76 levels \"1.0\",\"1.4\",\"10.0\",..: 2 1 1 43 64 64 1 1 54 32 ...\n",
      " $ McCabe_iv.g.      : Factor w/ 84 levels \"1.0\",\"1.4\",\"10.0\",..: 2 1 35 22 22 22 1 22 57 1 ...\n",
      " $ McCabe_loc        : Factor w/ 371 levels \"0.0\",\"1.0\",\"1.1\",..: 3 2 161 120 161 161 333 27 171 276 ...\n",
      " $ McCabe_v.g.       : Factor w/ 111 levels \"1.0\",\"1.4\",\"10.0\",..: 2 1 68 54 78 78 1 26 68 19 ...\n",
      " $ SOFTWARE          : int  0 0 0 0 0 0 0 0 0 0 ...\n",
      " $ branchCount       : Factor w/ 151 levels \"1.0\",\"1.4\",\"10.0\",..: 2 1 143 125 10 10 1 76 143 75 ...\n",
      " $ locCodeAndComment : int  2 1 0 0 0 0 0 0 0 0 ...\n",
      " $ total_Op          : Factor w/ 612 levels \"0.0\",\"1.0\",\"1.2\",..: 3 2 402 282 417 417 493 82 533 67 ...\n",
      " $ total_Opnd        : Factor w/ 489 levels \"0.0\",\"1.0\",\"1.2\",..: 3 2 116 81 195 195 360 472 297 18 ...\n",
      " $ uniq_Op           : Factor w/ 73 levels \"0.0\",\"1.0\",\"1.2\",..: 3 2 11 13 13 13 41 4 11 11 ...\n",
      " $ uniq_Opnd         : Factor w/ 180 levels \"0.0\",\"1.0\",\"1.2\",..: 3 2 53 157 26 26 121 146 76 105 ...\n"
     ]
    }
   ],
   "source": [
    "str(input)"
   ]
  },
  {
   "cell_type": "code",
   "execution_count": 13,
   "metadata": {},
   "outputs": [
    {
     "data": {
      "image/png": "[encoded data removed]",
      "text/plain": [
       "plot without title"
      ]
     },
     "metadata": {},
     "output_type": "display_data"
    }
   ],
   "source": [
    "model1 <- C5.0(input, output, control = C5.0Control(noGlobalPruning = TRUE,minCases=1,trials=2))\n",
    "plot(model1, main=\"C5.0 Decision Tree - Unpruned, min=1\")"
   ]
  },
  {
   "cell_type": "code",
   "execution_count": null,
   "metadata": {},
   "outputs": [],
   "source": [
    "## ----IntroML-DecTree-Iris-class1res, fig.width=10, fig.height=8----------\n",
    "library(ggplot2)\n",
    "ggplot(iris,aes(x=Petal.Length,y=Petal.Width))+\n",
    "  geom_point(aes(colour = factor(Species)))+\n",
    "  # Petal.Length = 1.9 \n",
    "  geom_segment(aes(x=1.9,y=min(iris$Petal.Width),xend=1.9,yend=max(iris$Petal.Width)))+ \n",
    "  # Petal.Width = 1.7\n",
    "  geom_segment(aes(x=1.9,y=1.7,xend=max(iris$Petal.Length),yend=1.7))+ \n",
    "  # Petal.Length = 4.9\n",
    "  geom_segment(aes(x=4.9,y=1.7,xend=4.9,yend=min(iris$Petal.Width)))+ \n",
    "  # Petal.Width = 1.5\n",
    "  geom_segment(aes(x=4.9,y=1.5,xend=max(iris$Petal.Length),yend=1.5))+\n",
    "  # Petal.Length = 5.4\n",
    "  geom_segment(aes(x=5.4,y=1.5,xend=5.4,yend=min(iris$Petal.Width)))+ \n",
    "  ggtitle(\"Petal Length x Petal Width\")\n",
    "\n"
   ]
  },
  {
   "cell_type": "code",
   "execution_count": null,
   "metadata": {},
   "outputs": [],
   "source": [
    "\n",
    "## ----IntroML-DecTree-Iris-class1a----------------------------------------\n",
    "summary(model1)\n",
    "C5imp(model1,metric='usage')\n"
   ]
  },
  {
   "cell_type": "code",
   "execution_count": null,
   "metadata": {},
   "outputs": [],
   "source": [
    "## ----IntroML-DecTree-Iris-predict----------------------------------------\n",
    "newcases <- df[c(1:3,51:53,101:103),]\n",
    "newcases\n",
    "predicted <- predict(model1, newcases, type=\"class\")\n",
    "predicted\n",
    "\n",
    "\n"
   ]
  },
  {
   "cell_type": "code",
   "execution_count": null,
   "metadata": {},
   "outputs": [],
   "source": [
    "## ----IntroML-DecTree-Iris-class2, fig.width=10, fig.height=8-------------\n",
    "model2 <- C5.0(input, output, control = C5.0Control(noGlobalPruning = FALSE,minCases=1))\n",
    "plot(model2, main=\"C5.0 Decision Tree - Pruned, min=1\")\n",
    "model2\n",
    "\n"
   ]
  },
  {
   "cell_type": "code",
   "execution_count": null,
   "metadata": {},
   "outputs": [],
   "source": [
    "\n",
    "## ----IntroML-DecTree-Iris-class3, fig.width=10, fig.height=8-------------\n",
    "model3 <- C5.0(input, output, control = C5.0Control(noGlobalPruning = FALSE,minCases=500))\n",
    "plot(model3, main=\"C5.0 Decision Tree - Pruned, min=5\")"
   ]
  },
  {
   "cell_type": "code",
   "execution_count": null,
   "metadata": {},
   "outputs": [],
   "source": []
  }
 ],
 "metadata": {
  "kernelspec": {
   "display_name": "R [conda env:R]",
   "language": "R",
   "name": "conda-env-R-r"
  },
  "language_info": {
   "codemirror_mode": "r",
   "file_extension": ".r",
   "mimetype": "text/x-r-source",
   "name": "R",
   "pygments_lexer": "r",
   "version": "3.6.1"
  }
 },
 "nbformat": 4,
 "nbformat_minor": 2
}
