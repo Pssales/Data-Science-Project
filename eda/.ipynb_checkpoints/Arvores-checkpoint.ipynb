{
 "cells": [
  {
   "cell_type": "markdown",
   "metadata": {},
   "source": [
    "# Árvores de decisão"
   ]
  },
  {
   "cell_type": "markdown",
   "metadata": {},
   "source": [
    "Código retirado de http://www.lac.inpe.br/~rafael.santos/Docs/CAP394/IntroML-DecisionTrees-Iris.html"
   ]
  },
  {
   "cell_type": "markdown",
   "metadata": {},
   "source": [
    "Como as arvores de decisões anteriores ficaram muito profundas e espalhadas, independente dos datasets utilizados, mesmo após a seleção de atributos, serão geradas novas arvores de decisão, mais simples, mas que aceitam mais erros, para verificar quais atributos são utilizados para tentar separar os dados."
   ]
  },
  {
   "cell_type": "code",
   "execution_count": 2,
   "metadata": {
    "ExecuteTime": {
     "end_time": "2019-12-18T12:35:17.837730Z",
     "start_time": "2019-12-18T12:35:02.919Z"
    },
    "scrolled": true
   },
   "outputs": [
    {
     "name": "stderr",
     "output_type": "stream",
     "text": [
      "Warning message:\n",
      "\"package 'C50' was built under R version 3.6.1\""
     ]
    }
   ],
   "source": [
    "library(C50)"
   ]
  },
  {
   "cell_type": "code",
   "execution_count": 3,
   "metadata": {
    "ExecuteTime": {
     "end_time": "2019-12-18T12:35:18.073666Z",
     "start_time": "2019-12-18T12:35:02.922Z"
    }
   },
   "outputs": [],
   "source": [
    "df = read.csv2(\"../dataset2/dataset_equilibrado.csv\", header=T,sep = \",\")"
   ]
  },
  {
   "cell_type": "code",
   "execution_count": 4,
   "metadata": {
    "ExecuteTime": {
     "end_time": "2019-12-18T12:35:18.145640Z",
     "start_time": "2019-12-18T12:35:02.926Z"
    }
   },
   "outputs": [
    {
     "name": "stdout",
     "output_type": "stream",
     "text": [
      "'data.frame':\t5110 obs. of  24 variables:\n",
      " $ Halstead_b        : Factor w/ 289 levels \"0.0\",\"0.01\",\"0.02\",..: 101 29 22 43 14 34 198 59 161 240 ...\n",
      " $ Halstead_d        : Factor w/ 1914 levels \"0.0\",\"0.5\",\"0.75\",..: 4 657 156 892 261 472 871 686 954 1770 ...\n",
      " $ Halstead_e        : Factor w/ 3714 levels \"0.0\",\"1.0\",\"100.0\",..: 2 974 3346 2010 2763 1017 859 2182 619 3077 ...\n",
      " $ Halstead_i        : Factor w/ 2859 levels \"0.0\",\"1.0\",\"10.0\",..: 2 1709 2183 2010 1146 2230 965 2652 582 234 ...\n",
      " $ Halstead_l        : Factor w/ 55 levels \"0.0\",\"0.01\",\"0.02\",..: 53 6 9 5 8 6 5 6 5 2 ...\n",
      " $ Halstead_lOBlank  : int  1 15 27 30 9 31 62 36 93 155 ...\n",
      " $ Halstead_lOCode   : int  1 1 4 6 0 7 7 6 11 14 ...\n",
      " $ Halstead_lOComment: int  1 19 22 45 7 30 46 14 57 170 ...\n",
      " $ Halstead_n        : Factor w/ 706 levels \"0.0\",\"1.0\",\"10.0\",..: 2 94 33 205 629 145 656 272 606 43 ...\n",
      " $ Halstead_t        : Factor w/ 3660 levels \"0.0\",\"0.06\",\"0.13\",..: 12 3655 2339 1021 1775 59 3553 1208 3305 2075 ...\n",
      " $ Halstead_v        : Factor w/ 2646 levels \"0.0\",\"1.0\",\"100.0\",..: 2 2432 2116 263 1515 2638 2083 606 1807 2535 ...\n",
      " $ Language          : int  0 0 0 0 0 0 0 0 0 0 ...\n",
      " $ McCabe_ev.g.      : Factor w/ 72 levels \"1.0\",\"10.0\",\"11.0\",..: 1 1 1 68 1 1 1 1 1 21 ...\n",
      " $ McCabe_iv.g.      : Factor w/ 79 levels \"1.0\",\"10.0\",\"104.0\",..: 1 20 33 79 20 54 45 70 8 29 ...\n",
      " $ McCabe_loc        : Factor w/ 329 levels \"0.0\",\"1.0\",\"10.0\",..: 2 192 183 295 62 202 322 238 55 112 ...\n",
      " $ McCabe_v.g.       : Factor w/ 101 levels \"1.0\",\"10.0\",\"104.0\",..: 1 52 66 2 24 76 52 83 14 49 ...\n",
      " $ SOFTWARE          : int  0 0 0 0 0 0 0 0 0 0 ...\n",
      " $ branchCount       : Factor w/ 139 levels \"1.0\",\"10.0\",\"101.0\",..: 1 116 132 48 69 8 116 18 62 117 ...\n",
      " $ defects           : int  1 1 1 1 1 1 1 1 1 1 ...\n",
      " $ locCodeAndComment : int  1 0 0 0 0 0 0 0 0 0 ...\n",
      " $ total_Op          : Factor w/ 513 levels \"0.0\",\"1.0\",\"10.0\",..: 2 494 461 70 368 13 355 91 332 458 ...\n",
      " $ total_Opnd        : Factor w/ 408 levels \"0.0\",\"1.0\",\"10.0\",..: 2 308 251 364 189 351 254 23 204 291 ...\n",
      " $ uniq_Op           : Factor w/ 67 levels \"0.0\",\"1.0\",\"10.0\",..: 2 25 20 24 16 16 22 23 22 54 ...\n",
      " $ uniq_Opnd         : Factor w/ 169 levels \"0.0\",\"1.0\",\"10.0\",..: 2 88 89 91 61 91 56 130 26 54 ...\n"
     ]
    }
   ],
   "source": [
    "str(df)"
   ]
  },
  {
   "cell_type": "markdown",
   "metadata": {},
   "source": [
    "Através das informações dos dados listados acima é necessario realizar algumas conversões de tipos."
   ]
  },
  {
   "cell_type": "code",
   "execution_count": 5,
   "metadata": {
    "ExecuteTime": {
     "end_time": "2019-12-18T12:35:18.233617Z",
     "start_time": "2019-12-18T12:35:02.931Z"
    }
   },
   "outputs": [],
   "source": [
    "df$branchCount  <-  as.numeric(df$branchCount)\n",
    "df$total_Op     <-  as.numeric(df$total_Op)\n",
    "df$total_Opnd   <-  as.numeric(df$total_Opnd)\n",
    "df$uniq_Op      <-  as.numeric(df$uniq_Op)\n",
    "df$uniq_Opnd    <-  as.numeric(df$uniq_Opnd)\n",
    "\n",
    "df$Halstead_b   <-  as.numeric(df$Halstead_b)     \n",
    "df$Halstead_d   <-  as.numeric(df$Halstead_d)  \n",
    "df$Halstead_e   <-  as.numeric(df$Halstead_e)\n",
    "df$Halstead_i   <-  as.numeric(df$Halstead_i)  \n",
    "df$Halstead_l   <-  as.numeric(df$Halstead_l)\n",
    "df$Halstead_n   <-  as.numeric(df$Halstead_n)  \n",
    "df$Halstead_t   <-  as.numeric(df$Halstead_t)\n",
    "df$Halstead_v   <-  as.numeric(df$Halstead_v)\n",
    "df$McCabe_ev.g. <-  as.numeric(df$McCabe_ev.g.)\n",
    "df$McCabe_iv.g. <-  as.numeric(df$McCabe_iv.g.)     \n",
    "df$McCabe_loc   <-  as.numeric(df$McCabe_loc) \n",
    "df$McCabe_v.g.  <-  as.numeric(df$McCabe_v.g.)  \n",
    "df$defects      <-  factor(df$defects)\n",
    "df$SOFTWARE     <-  NULL"
   ]
  },
  {
   "cell_type": "markdown",
   "metadata": {},
   "source": [
    "Após os dados já  estarem com os tipo desejados podemos depara-los nos dados de entrada e no de saida"
   ]
  },
  {
   "cell_type": "code",
   "execution_count": 6,
   "metadata": {
    "ExecuteTime": {
     "end_time": "2019-12-18T12:35:18.277603Z",
     "start_time": "2019-12-18T12:35:02.934Z"
    },
    "scrolled": true
   },
   "outputs": [],
   "source": [
    "output <- df[[\"defects\"]]\n",
    "df$defects <- NULL\n",
    "input <- df"
   ]
  },
  {
   "cell_type": "markdown",
   "metadata": {},
   "source": [
    "Com os dados separados á podemos aplicar gerar a árvore de decisão."
   ]
  },
  {
   "cell_type": "code",
   "execution_count": null,
   "metadata": {},
   "outputs": [],
   "source": [
    "Iniciaremos com m modelo com no minimo 1000 amostras por folha."
   ]
  },
  {
   "cell_type": "code",
   "execution_count": 7,
   "metadata": {
    "ExecuteTime": {
     "end_time": "2019-12-18T12:35:18.913415Z",
     "start_time": "2019-12-18T12:35:02.938Z"
    },
    "collapsed": true
   },
   "outputs": [
    {
     "data": {
      "image/png": "[encoded data removed]",
      "text/plain": [
       "plot without title"
      ]
     },
     "metadata": {},
     "output_type": "display_data"
    }
   ],
   "source": [
    "model1 <- C5.0(input, output, control = C5.0Control(noGlobalPruning = TRUE,minCases=1000))\n",
    "plot(model1)"
   ]
  },
  {
   "cell_type": "code",
   "execution_count": 8,
   "metadata": {
    "ExecuteTime": {
     "end_time": "2019-12-18T12:35:18.969400Z",
     "start_time": "2019-12-18T12:35:02.942Z"
    }
   },
   "outputs": [
    {
     "data": {
      "text/plain": [
       "\n",
       "Call:\n",
       "C5.0.default(x = input, y = output, control = C5.0Control(noGlobalPruning\n",
       " = TRUE, minCases = 1000))\n",
       "\n",
       "\n",
       "C5.0 [Release 2.07 GPL Edition]  \tWed Dec 18 09:35:18 2019\n",
       "-------------------------------\n",
       "\n",
       "Class specified by attribute `outcome'\n",
       "\n",
       "Read 5110 cases (23 attributes) from undefined.data\n",
       "\n",
       "Decision tree:\n",
       "\n",
       "Halstead_lOCode <= 26: 0 (3440/1381)\n",
       "Halstead_lOCode > 26: 1 (1670/496)\n",
       "\n",
       "\n",
       "Evaluation on training data (5110 cases):\n",
       "\n",
       "\t    Decision Tree   \n",
       "\t  ----------------  \n",
       "\t  Size      Errors  \n",
       "\n",
       "\t     2 1877(36.7%)   <<\n",
       "\n",
       "\n",
       "\t   (a)   (b)    <-classified as\n",
       "\t  ----  ----\n",
       "\t  2059   496    (a): class 0\n",
       "\t  1381  1174    (b): class 1\n",
       "\n",
       "\n",
       "\tAttribute usage:\n",
       "\n",
       "\t100.00%\tHalstead_lOCode\n",
       "\n",
       "\n",
       "Time: 0.1 secs\n"
      ]
     },
     "metadata": {},
     "output_type": "display_data"
    }
   ],
   "source": [
    "summary(model1)"
   ]
  },
  {
   "cell_type": "markdown",
   "metadata": {},
   "source": [
    "O modelo 1 não conseguiu realizar a divisão das classes, obtendo 36% de erros. Para tentar melhorar esses resultados diminirá a quantidade de amostras por folha no modelo 2."
   ]
  },
  {
   "cell_type": "code",
   "execution_count": 9,
   "metadata": {
    "ExecuteTime": {
     "end_time": "2019-12-18T12:35:19.872077Z",
     "start_time": "2019-12-18T12:35:02.945Z"
    },
    "scrolled": false
   },
   "outputs": [
    {
     "data": {
      "image/png": "[encoded data removed]",
      "text/plain": [
       "plot without title"
      ]
     },
     "metadata": {},
     "output_type": "display_data"
    }
   ],
   "source": [
    "model2 <- C5.0(input, output, control = C5.0Control(noGlobalPruning = TRUE,minCases=500))\n",
    "plot(model2)"
   ]
  },
  {
   "cell_type": "code",
   "execution_count": 10,
   "metadata": {
    "ExecuteTime": {
     "end_time": "2019-12-18T12:35:19.924062Z",
     "start_time": "2019-12-18T12:35:02.949Z"
    },
    "scrolled": false
   },
   "outputs": [
    {
     "data": {
      "text/plain": [
       "\n",
       "Call:\n",
       "C5.0.default(x = input, y = output, control = C5.0Control(noGlobalPruning\n",
       " = TRUE, minCases = 500))\n",
       "\n",
       "\n",
       "C5.0 [Release 2.07 GPL Edition]  \tWed Dec 18 09:35:19 2019\n",
       "-------------------------------\n",
       "\n",
       "Class specified by attribute `outcome'\n",
       "\n",
       "Read 5110 cases (23 attributes) from undefined.data\n",
       "\n",
       "Decision tree:\n",
       "\n",
       "Halstead_lOCode > 26: 1 (1670/496)\n",
       "Halstead_lOCode <= 26:\n",
       ":...uniq_Op <= 1: 1 (534/207)\n",
       "    uniq_Op > 1:\n",
       "    :...Halstead_lOBlank <= 1: 0 (1489/362)\n",
       "        Halstead_lOBlank > 1:\n",
       "        :...Halstead_lOBlank <= 3: 0 (771/343)\n",
       "            Halstead_lOBlank > 3: 1 (646/297)\n",
       "\n",
       "\n",
       "Evaluation on training data (5110 cases):\n",
       "\n",
       "\t    Decision Tree   \n",
       "\t  ----------------  \n",
       "\t  Size      Errors  \n",
       "\n",
       "\t     5 1705(33.4%)   <<\n",
       "\n",
       "\n",
       "\t   (a)   (b)    <-classified as\n",
       "\t  ----  ----\n",
       "\t  1555  1000    (a): class 0\n",
       "\t   705  1850    (b): class 1\n",
       "\n",
       "\n",
       "\tAttribute usage:\n",
       "\n",
       "\t100.00%\tHalstead_lOCode\n",
       "\t 67.32%\tuniq_Op\n",
       "\t 56.87%\tHalstead_lOBlank\n",
       "\n",
       "\n",
       "Time: 0.1 secs\n"
      ]
     },
     "metadata": {},
     "output_type": "display_data"
    }
   ],
   "source": [
    "summary(model2)"
   ]
  },
  {
   "cell_type": "markdown",
   "metadata": {},
   "source": [
    "O modelo 2 realizou mais divisoes, e utilizou mais atributos, entretanto o desempenho não foi muito superior, pois o modelo obteve 33,4% de erro.\n"
   ]
  },
  {
   "cell_type": "code",
   "execution_count": 15,
   "metadata": {
    "ExecuteTime": {
     "end_time": "2019-12-18T13:00:04.881826Z",
     "start_time": "2019-12-18T13:00:03.803Z"
    },
    "scrolled": false
   },
   "outputs": [
    {
     "data": {
      "image/png": "[encoded data removed]",
      "text/plain": [
       "plot without title"
      ]
     },
     "metadata": {},
     "output_type": "display_data"
    }
   ],
   "source": [
    "model3 <- C5.0(input, output, control = C5.0Control(noGlobalPruning = TRUE,minCases=250))\n",
    "plot(model3)"
   ]
  },
  {
   "cell_type": "code",
   "execution_count": 16,
   "metadata": {
    "ExecuteTime": {
     "end_time": "2019-12-18T13:28:38.388803Z",
     "start_time": "2019-12-18T13:28:38.338Z"
    },
    "scrolled": false
   },
   "outputs": [
    {
     "data": {
      "text/plain": [
       "\n",
       "Call:\n",
       "C5.0.default(x = input, y = output, control = C5.0Control(noGlobalPruning\n",
       " = TRUE, minCases = 250))\n",
       "\n",
       "\n",
       "C5.0 [Release 2.07 GPL Edition]  \tWed Dec 18 10:00:04 2019\n",
       "-------------------------------\n",
       "\n",
       "Class specified by attribute `outcome'\n",
       "\n",
       "Read 5110 cases (23 attributes) from undefined.data\n",
       "\n",
       "Decision tree:\n",
       "\n",
       "Halstead_lOCode > 26: 1 (1670/496)\n",
       "Halstead_lOCode <= 26:\n",
       ":...uniq_Op <= 1: 1 (534/207)\n",
       "    uniq_Op > 1:\n",
       "    :...Halstead_lOBlank <= 1: 0 (1489/362)\n",
       "        Halstead_lOBlank > 1:\n",
       "        :...Halstead_lOBlank > 3: 1 (646/297)\n",
       "            Halstead_lOBlank <= 3:\n",
       "            :...Halstead_l <= 11: 0 (386/147)\n",
       "                Halstead_l > 11: 1 (385/189)\n",
       "\n",
       "\n",
       "Evaluation on training data (5110 cases):\n",
       "\n",
       "\t    Decision Tree   \n",
       "\t  ----------------  \n",
       "\t  Size      Errors  \n",
       "\n",
       "\t     6 1698(33.2%)   <<\n",
       "\n",
       "\n",
       "\t   (a)   (b)    <-classified as\n",
       "\t  ----  ----\n",
       "\t  1366  1189    (a): class 0\n",
       "\t   509  2046    (b): class 1\n",
       "\n",
       "\n",
       "\tAttribute usage:\n",
       "\n",
       "\t100.00%\tHalstead_lOCode\n",
       "\t 67.32%\tuniq_Op\n",
       "\t 56.87%\tHalstead_lOBlank\n",
       "\t 15.09%\tHalstead_l\n",
       "\n",
       "\n",
       "Time: 0.1 secs\n"
      ]
     },
     "metadata": {},
     "output_type": "display_data"
    }
   ],
   "source": [
    "summary(model3)"
   ]
  },
  {
   "cell_type": "markdown",
   "metadata": {},
   "source": [
    "No modelo 3, mesmo diminuindo a quantidade minima de amostras por folhas, não obteve-se diminuição significante no erro, alcansando 33,2%, apenas 0,2% melhor do que o modelo 2."
   ]
  },
  {
   "cell_type": "markdown",
   "metadata": {},
   "source": [
    "<div style='text-align:left;width:40%;float:left;'>\n",
    "    <a href=\"../Selecao_de_Atributos.ipynb\">Anterior</a>\n",
    "</div>\n",
    "<div style='text-align:right;width:30%; float:right'>\n",
    "    <a href=\"../comparacao.ipynb\">Próximo</a>\n",
    "</div>"
   ]
  }
 ],
 "metadata": {
  "kernelspec": {
   "display_name": "R [conda env:R]",
   "language": "R",
   "name": "conda-env-R-r"
  },
  "language_info": {
   "codemirror_mode": "r",
   "file_extension": ".r",
   "mimetype": "text/x-r-source",
   "name": "R",
   "pygments_lexer": "r",
   "version": "3.6.1"
  }
 },
 "nbformat": 4,
 "nbformat_minor": 2
}
