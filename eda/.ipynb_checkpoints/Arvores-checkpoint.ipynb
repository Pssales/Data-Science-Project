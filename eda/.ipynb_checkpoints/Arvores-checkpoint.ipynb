{
 "cells": [
  {
   "cell_type": "code",
   "execution_count": 1,
   "metadata": {
    "scrolled": true
   },
   "outputs": [
    {
     "name": "stdout",
     "output_type": "stream",
     "text": [
      "'data.frame':\t150 obs. of  5 variables:\n",
      " $ Sepal.Length: num  5.1 4.9 4.7 4.6 5 5.4 4.6 5 4.4 4.9 ...\n",
      " $ Sepal.Width : num  3.5 3 3.2 3.1 3.6 3.9 3.4 3.4 2.9 3.1 ...\n",
      " $ Petal.Length: num  1.4 1.4 1.3 1.5 1.4 1.7 1.4 1.5 1.4 1.5 ...\n",
      " $ Petal.Width : num  0.2 0.2 0.2 0.2 0.2 0.4 0.3 0.2 0.2 0.1 ...\n",
      " $ Species     : Factor w/ 3 levels \"setosa\",\"versicolor\",..: 1 1 1 1 1 1 1 1 1 1 ...\n"
     ]
    }
   ],
   "source": [
    "## ----IntroML-DecTree-Iris-readdata---------------------------------------\n",
    "library(datasets)\n",
    "str(iris)\n"
   ]
  },
  {
   "cell_type": "code",
   "execution_count": 9,
   "metadata": {},
   "outputs": [],
   "source": [
    "df = read.csv2(\"../dataset2/dataset_completo.csv\", header=T)"
   ]
  },
  {
   "cell_type": "code",
   "execution_count": 14,
   "metadata": {},
   "outputs": [
    {
     "name": "stderr",
     "output_type": "stream",
     "text": [
      "IOPub data rate exceeded.\n",
      "The notebook server will temporarily stop sending output\n",
      "to the client in order to avoid crashing it.\n",
      "To change this limit, set the config variable\n",
      "`--NotebookApp.iopub_data_rate_limit`.\n",
      "\n",
      "Current values:\n",
      "NotebookApp.iopub_data_rate_limit=1000000.0 (bytes/sec)\n",
      "NotebookApp.rate_limit_window=3.0 (secs)\n",
      "\n"
     ]
    }
   ],
   "source": [
    "library(C50)\n",
    "output <- df[[\"defects\"]]\n",
    "df$defects <- NULL\n",
    "input <- df\n",
    "print(input)"
   ]
  },
  {
   "cell_type": "code",
   "execution_count": 12,
   "metadata": {},
   "outputs": [
    {
     "name": "stdout",
     "output_type": "stream",
     "text": [
      "    Sepal.Length Sepal.Width Petal.Length Petal.Width\n",
      "1            5.1         3.5          1.4         0.2\n",
      "2            4.9         3.0          1.4         0.2\n",
      "3            4.7         3.2          1.3         0.2\n",
      "4            4.6         3.1          1.5         0.2\n",
      "5            5.0         3.6          1.4         0.2\n",
      "6            5.4         3.9          1.7         0.4\n",
      "7            4.6         3.4          1.4         0.3\n",
      "8            5.0         3.4          1.5         0.2\n",
      "9            4.4         2.9          1.4         0.2\n",
      "10           4.9         3.1          1.5         0.1\n",
      "11           5.4         3.7          1.5         0.2\n",
      "12           4.8         3.4          1.6         0.2\n",
      "13           4.8         3.0          1.4         0.1\n",
      "14           4.3         3.0          1.1         0.1\n",
      "15           5.8         4.0          1.2         0.2\n",
      "16           5.7         4.4          1.5         0.4\n",
      "17           5.4         3.9          1.3         0.4\n",
      "18           5.1         3.5          1.4         0.3\n",
      "19           5.7         3.8          1.7         0.3\n",
      "20           5.1         3.8          1.5         0.3\n",
      "21           5.4         3.4          1.7         0.2\n",
      "22           5.1         3.7          1.5         0.4\n",
      "23           4.6         3.6          1.0         0.2\n",
      "24           5.1         3.3          1.7         0.5\n",
      "25           4.8         3.4          1.9         0.2\n",
      "26           5.0         3.0          1.6         0.2\n",
      "27           5.0         3.4          1.6         0.4\n",
      "28           5.2         3.5          1.5         0.2\n",
      "29           5.2         3.4          1.4         0.2\n",
      "30           4.7         3.2          1.6         0.2\n",
      "31           4.8         3.1          1.6         0.2\n",
      "32           5.4         3.4          1.5         0.4\n",
      "33           5.2         4.1          1.5         0.1\n",
      "34           5.5         4.2          1.4         0.2\n",
      "35           4.9         3.1          1.5         0.2\n",
      "36           5.0         3.2          1.2         0.2\n",
      "37           5.5         3.5          1.3         0.2\n",
      "38           4.9         3.6          1.4         0.1\n",
      "39           4.4         3.0          1.3         0.2\n",
      "40           5.1         3.4          1.5         0.2\n",
      "41           5.0         3.5          1.3         0.3\n",
      "42           4.5         2.3          1.3         0.3\n",
      "43           4.4         3.2          1.3         0.2\n",
      "44           5.0         3.5          1.6         0.6\n",
      "45           5.1         3.8          1.9         0.4\n",
      "46           4.8         3.0          1.4         0.3\n",
      "47           5.1         3.8          1.6         0.2\n",
      "48           4.6         3.2          1.4         0.2\n",
      "49           5.3         3.7          1.5         0.2\n",
      "50           5.0         3.3          1.4         0.2\n",
      "51           7.0         3.2          4.7         1.4\n",
      "52           6.4         3.2          4.5         1.5\n",
      "53           6.9         3.1          4.9         1.5\n",
      "54           5.5         2.3          4.0         1.3\n",
      "55           6.5         2.8          4.6         1.5\n",
      "56           5.7         2.8          4.5         1.3\n",
      "57           6.3         3.3          4.7         1.6\n",
      "58           4.9         2.4          3.3         1.0\n",
      "59           6.6         2.9          4.6         1.3\n",
      "60           5.2         2.7          3.9         1.4\n",
      "61           5.0         2.0          3.5         1.0\n",
      "62           5.9         3.0          4.2         1.5\n",
      "63           6.0         2.2          4.0         1.0\n",
      "64           6.1         2.9          4.7         1.4\n",
      "65           5.6         2.9          3.6         1.3\n",
      "66           6.7         3.1          4.4         1.4\n",
      "67           5.6         3.0          4.5         1.5\n",
      "68           5.8         2.7          4.1         1.0\n",
      "69           6.2         2.2          4.5         1.5\n",
      "70           5.6         2.5          3.9         1.1\n",
      "71           5.9         3.2          4.8         1.8\n",
      "72           6.1         2.8          4.0         1.3\n",
      "73           6.3         2.5          4.9         1.5\n",
      "74           6.1         2.8          4.7         1.2\n",
      "75           6.4         2.9          4.3         1.3\n",
      "76           6.6         3.0          4.4         1.4\n",
      "77           6.8         2.8          4.8         1.4\n",
      "78           6.7         3.0          5.0         1.7\n",
      "79           6.0         2.9          4.5         1.5\n",
      "80           5.7         2.6          3.5         1.0\n",
      "81           5.5         2.4          3.8         1.1\n",
      "82           5.5         2.4          3.7         1.0\n",
      "83           5.8         2.7          3.9         1.2\n",
      "84           6.0         2.7          5.1         1.6\n",
      "85           5.4         3.0          4.5         1.5\n",
      "86           6.0         3.4          4.5         1.6\n",
      "87           6.7         3.1          4.7         1.5\n",
      "88           6.3         2.3          4.4         1.3\n",
      "89           5.6         3.0          4.1         1.3\n",
      "90           5.5         2.5          4.0         1.3\n",
      "91           5.5         2.6          4.4         1.2\n",
      "92           6.1         3.0          4.6         1.4\n",
      "93           5.8         2.6          4.0         1.2\n",
      "94           5.0         2.3          3.3         1.0\n",
      "95           5.6         2.7          4.2         1.3\n",
      "96           5.7         3.0          4.2         1.2\n",
      "97           5.7         2.9          4.2         1.3\n",
      "98           6.2         2.9          4.3         1.3\n",
      "99           5.1         2.5          3.0         1.1\n",
      "100          5.7         2.8          4.1         1.3\n",
      "101          6.3         3.3          6.0         2.5\n",
      "102          5.8         2.7          5.1         1.9\n",
      "103          7.1         3.0          5.9         2.1\n",
      "104          6.3         2.9          5.6         1.8\n",
      "105          6.5         3.0          5.8         2.2\n",
      "106          7.6         3.0          6.6         2.1\n",
      "107          4.9         2.5          4.5         1.7\n",
      "108          7.3         2.9          6.3         1.8\n",
      "109          6.7         2.5          5.8         1.8\n",
      "110          7.2         3.6          6.1         2.5\n",
      "111          6.5         3.2          5.1         2.0\n",
      "112          6.4         2.7          5.3         1.9\n",
      "113          6.8         3.0          5.5         2.1\n",
      "114          5.7         2.5          5.0         2.0\n",
      "115          5.8         2.8          5.1         2.4\n",
      "116          6.4         3.2          5.3         2.3\n",
      "117          6.5         3.0          5.5         1.8\n",
      "118          7.7         3.8          6.7         2.2\n",
      "119          7.7         2.6          6.9         2.3\n",
      "120          6.0         2.2          5.0         1.5\n",
      "121          6.9         3.2          5.7         2.3\n",
      "122          5.6         2.8          4.9         2.0\n",
      "123          7.7         2.8          6.7         2.0\n",
      "124          6.3         2.7          4.9         1.8\n",
      "125          6.7         3.3          5.7         2.1\n",
      "126          7.2         3.2          6.0         1.8\n",
      "127          6.2         2.8          4.8         1.8\n",
      "128          6.1         3.0          4.9         1.8\n",
      "129          6.4         2.8          5.6         2.1\n",
      "130          7.2         3.0          5.8         1.6\n",
      "131          7.4         2.8          6.1         1.9\n",
      "132          7.9         3.8          6.4         2.0\n",
      "133          6.4         2.8          5.6         2.2\n",
      "134          6.3         2.8          5.1         1.5\n",
      "135          6.1         2.6          5.6         1.4\n",
      "136          7.7         3.0          6.1         2.3\n",
      "137          6.3         3.4          5.6         2.4\n",
      "138          6.4         3.1          5.5         1.8\n",
      "139          6.0         3.0          4.8         1.8\n",
      "140          6.9         3.1          5.4         2.1\n",
      "141          6.7         3.1          5.6         2.4\n",
      "142          6.9         3.1          5.1         2.3\n",
      "143          5.8         2.7          5.1         1.9\n",
      "144          6.8         3.2          5.9         2.3\n",
      "145          6.7         3.3          5.7         2.5\n",
      "146          6.7         3.0          5.2         2.3\n",
      "147          6.3         2.5          5.0         1.9\n",
      "148          6.5         3.0          5.2         2.0\n",
      "149          6.2         3.4          5.4         2.3\n",
      "150          5.9         3.0          5.1         1.8\n"
     ]
    }
   ],
   "source": [
    "\n",
    "\n",
    "## ----IntroML-DecTree-Iris-class1, fig.width=10, fig.height=8-------------\n",
    "library(C50)\n",
    "input <- iris[,1:4]\n",
    "\n",
    "print(input)\n",
    "\n",
    "\n"
   ]
  },
  {
   "cell_type": "code",
   "execution_count": 3,
   "metadata": {},
   "outputs": [
    {
     "data": {
      "image/png": "[encoded data removed]",
      "text/plain": [
       "plot without title"
      ]
     },
     "metadata": {},
     "output_type": "display_data"
    }
   ],
   "source": [
    "## ----IntroML-DecTree-Iris-class1res, fig.width=10, fig.height=8----------\n",
    "library(ggplot2)\n",
    "ggplot(iris,aes(x=Petal.Length,y=Petal.Width))+\n",
    "  geom_point(aes(colour = factor(Species)))+\n",
    "  # Petal.Length = 1.9 \n",
    "  geom_segment(aes(x=1.9,y=min(iris$Petal.Width),xend=1.9,yend=max(iris$Petal.Width)))+ \n",
    "  # Petal.Width = 1.7\n",
    "  geom_segment(aes(x=1.9,y=1.7,xend=max(iris$Petal.Length),yend=1.7))+ \n",
    "  # Petal.Length = 4.9\n",
    "  geom_segment(aes(x=4.9,y=1.7,xend=4.9,yend=min(iris$Petal.Width)))+ \n",
    "  # Petal.Width = 1.5\n",
    "  geom_segment(aes(x=4.9,y=1.5,xend=max(iris$Petal.Length),yend=1.5))+\n",
    "  # Petal.Length = 5.4\n",
    "  geom_segment(aes(x=5.4,y=1.5,xend=5.4,yend=min(iris$Petal.Width)))+ \n",
    "  ggtitle(\"Petal Length x Petal Width\")\n",
    "\n"
   ]
  },
  {
   "cell_type": "code",
   "execution_count": 4,
   "metadata": {},
   "outputs": [
    {
     "data": {
      "text/plain": [
       "\n",
       "Call:\n",
       "C5.0.default(x = input, y = output, control = C5.0Control(noGlobalPruning\n",
       " = TRUE, minCases = 1))\n",
       "\n",
       "\n",
       "C5.0 [Release 2.07 GPL Edition]  \tMon Dec 02 10:35:55 2019\n",
       "-------------------------------\n",
       "\n",
       "Class specified by attribute `outcome'\n",
       "\n",
       "Read 150 cases (5 attributes) from undefined.data\n",
       "\n",
       "Decision tree:\n",
       "\n",
       "Petal.Length <= 1.9: setosa (50)\n",
       "Petal.Length > 1.9:\n",
       ":...Petal.Width > 1.7: virginica (46/1)\n",
       "    Petal.Width <= 1.7:\n",
       "    :...Petal.Length <= 4.9: versicolor (48/1)\n",
       "        Petal.Length > 4.9:\n",
       "        :...Petal.Width <= 1.5: virginica (3)\n",
       "            Petal.Width > 1.5:\n",
       "            :...Petal.Length <= 5.4: versicolor (2)\n",
       "                Petal.Length > 5.4: virginica (1)\n",
       "\n",
       "\n",
       "Evaluation on training data (150 cases):\n",
       "\n",
       "\t    Decision Tree   \n",
       "\t  ----------------  \n",
       "\t  Size      Errors  \n",
       "\n",
       "\t     6    2( 1.3%)   <<\n",
       "\n",
       "\n",
       "\t   (a)   (b)   (c)    <-classified as\n",
       "\t  ----  ----  ----\n",
       "\t    50                (a): class setosa\n",
       "\t          49     1    (b): class versicolor\n",
       "\t           1    49    (c): class virginica\n",
       "\n",
       "\n",
       "\tAttribute usage:\n",
       "\n",
       "\t100.00%\tPetal.Length\n",
       "\t 66.67%\tPetal.Width\n",
       "\n",
       "\n",
       "Time: 0.0 secs\n"
      ]
     },
     "metadata": {},
     "output_type": "display_data"
    },
    {
     "data": {
      "text/html": [
       "<table>\n",
       "<thead><tr><th></th><th scope=col>Overall</th></tr></thead>\n",
       "<tbody>\n",
       "\t<tr><th scope=row>Petal.Length</th><td>100.00</td></tr>\n",
       "\t<tr><th scope=row>Petal.Width</th><td> 66.67</td></tr>\n",
       "\t<tr><th scope=row>Sepal.Length</th><td>  0.00</td></tr>\n",
       "\t<tr><th scope=row>Sepal.Width</th><td>  0.00</td></tr>\n",
       "</tbody>\n",
       "</table>\n"
      ],
      "text/latex": [
       "\\begin{tabular}{r|l}\n",
       "  & Overall\\\\\n",
       "\\hline\n",
       "\tPetal.Length & 100.00\\\\\n",
       "\tPetal.Width &  66.67\\\\\n",
       "\tSepal.Length &   0.00\\\\\n",
       "\tSepal.Width &   0.00\\\\\n",
       "\\end{tabular}\n"
      ],
      "text/markdown": [
       "\n",
       "| <!--/--> | Overall |\n",
       "|---|---|\n",
       "| Petal.Length | 100.00 |\n",
       "| Petal.Width |  66.67 |\n",
       "| Sepal.Length |   0.00 |\n",
       "| Sepal.Width |   0.00 |\n",
       "\n"
      ],
      "text/plain": [
       "             Overall\n",
       "Petal.Length 100.00 \n",
       "Petal.Width   66.67 \n",
       "Sepal.Length   0.00 \n",
       "Sepal.Width    0.00 "
      ]
     },
     "metadata": {},
     "output_type": "display_data"
    }
   ],
   "source": [
    "\n",
    "## ----IntroML-DecTree-Iris-class1a----------------------------------------\n",
    "summary(model1)\n",
    "C5imp(model1,metric='usage')\n",
    "\n",
    "\n"
   ]
  },
  {
   "cell_type": "code",
   "execution_count": 5,
   "metadata": {},
   "outputs": [
    {
     "data": {
      "text/html": [
       "<table>\n",
       "<thead><tr><th></th><th scope=col>Sepal.Length</th><th scope=col>Sepal.Width</th><th scope=col>Petal.Length</th><th scope=col>Petal.Width</th><th scope=col>Species</th></tr></thead>\n",
       "<tbody>\n",
       "\t<tr><th scope=row>1</th><td>5.1       </td><td>3.5       </td><td>1.4       </td><td>0.2       </td><td>setosa    </td></tr>\n",
       "\t<tr><th scope=row>2</th><td>4.9       </td><td>3.0       </td><td>1.4       </td><td>0.2       </td><td>setosa    </td></tr>\n",
       "\t<tr><th scope=row>3</th><td>4.7       </td><td>3.2       </td><td>1.3       </td><td>0.2       </td><td>setosa    </td></tr>\n",
       "\t<tr><th scope=row>51</th><td>7.0       </td><td>3.2       </td><td>4.7       </td><td>1.4       </td><td>versicolor</td></tr>\n",
       "\t<tr><th scope=row>52</th><td>6.4       </td><td>3.2       </td><td>4.5       </td><td>1.5       </td><td>versicolor</td></tr>\n",
       "\t<tr><th scope=row>53</th><td>6.9       </td><td>3.1       </td><td>4.9       </td><td>1.5       </td><td>versicolor</td></tr>\n",
       "\t<tr><th scope=row>101</th><td>6.3       </td><td>3.3       </td><td>6.0       </td><td>2.5       </td><td>virginica </td></tr>\n",
       "\t<tr><th scope=row>102</th><td>5.8       </td><td>2.7       </td><td>5.1       </td><td>1.9       </td><td>virginica </td></tr>\n",
       "\t<tr><th scope=row>103</th><td>7.1       </td><td>3.0       </td><td>5.9       </td><td>2.1       </td><td>virginica </td></tr>\n",
       "</tbody>\n",
       "</table>\n"
      ],
      "text/latex": [
       "\\begin{tabular}{r|lllll}\n",
       "  & Sepal.Length & Sepal.Width & Petal.Length & Petal.Width & Species\\\\\n",
       "\\hline\n",
       "\t1 & 5.1        & 3.5        & 1.4        & 0.2        & setosa    \\\\\n",
       "\t2 & 4.9        & 3.0        & 1.4        & 0.2        & setosa    \\\\\n",
       "\t3 & 4.7        & 3.2        & 1.3        & 0.2        & setosa    \\\\\n",
       "\t51 & 7.0        & 3.2        & 4.7        & 1.4        & versicolor\\\\\n",
       "\t52 & 6.4        & 3.2        & 4.5        & 1.5        & versicolor\\\\\n",
       "\t53 & 6.9        & 3.1        & 4.9        & 1.5        & versicolor\\\\\n",
       "\t101 & 6.3        & 3.3        & 6.0        & 2.5        & virginica \\\\\n",
       "\t102 & 5.8        & 2.7        & 5.1        & 1.9        & virginica \\\\\n",
       "\t103 & 7.1        & 3.0        & 5.9        & 2.1        & virginica \\\\\n",
       "\\end{tabular}\n"
      ],
      "text/markdown": [
       "\n",
       "| <!--/--> | Sepal.Length | Sepal.Width | Petal.Length | Petal.Width | Species |\n",
       "|---|---|---|---|---|---|\n",
       "| 1 | 5.1        | 3.5        | 1.4        | 0.2        | setosa     |\n",
       "| 2 | 4.9        | 3.0        | 1.4        | 0.2        | setosa     |\n",
       "| 3 | 4.7        | 3.2        | 1.3        | 0.2        | setosa     |\n",
       "| 51 | 7.0        | 3.2        | 4.7        | 1.4        | versicolor |\n",
       "| 52 | 6.4        | 3.2        | 4.5        | 1.5        | versicolor |\n",
       "| 53 | 6.9        | 3.1        | 4.9        | 1.5        | versicolor |\n",
       "| 101 | 6.3        | 3.3        | 6.0        | 2.5        | virginica  |\n",
       "| 102 | 5.8        | 2.7        | 5.1        | 1.9        | virginica  |\n",
       "| 103 | 7.1        | 3.0        | 5.9        | 2.1        | virginica  |\n",
       "\n"
      ],
      "text/plain": [
       "    Sepal.Length Sepal.Width Petal.Length Petal.Width Species   \n",
       "1   5.1          3.5         1.4          0.2         setosa    \n",
       "2   4.9          3.0         1.4          0.2         setosa    \n",
       "3   4.7          3.2         1.3          0.2         setosa    \n",
       "51  7.0          3.2         4.7          1.4         versicolor\n",
       "52  6.4          3.2         4.5          1.5         versicolor\n",
       "53  6.9          3.1         4.9          1.5         versicolor\n",
       "101 6.3          3.3         6.0          2.5         virginica \n",
       "102 5.8          2.7         5.1          1.9         virginica \n",
       "103 7.1          3.0         5.9          2.1         virginica "
      ]
     },
     "metadata": {},
     "output_type": "display_data"
    },
    {
     "data": {
      "text/html": [
       "<ol class=list-inline>\n",
       "\t<li>setosa</li>\n",
       "\t<li>setosa</li>\n",
       "\t<li>setosa</li>\n",
       "\t<li>versicolor</li>\n",
       "\t<li>versicolor</li>\n",
       "\t<li>versicolor</li>\n",
       "\t<li>virginica</li>\n",
       "\t<li>virginica</li>\n",
       "\t<li>virginica</li>\n",
       "</ol>\n",
       "\n",
       "<details>\n",
       "\t<summary style=display:list-item;cursor:pointer>\n",
       "\t\t<strong>Levels</strong>:\n",
       "\t</summary>\n",
       "\t<ol class=list-inline>\n",
       "\t\t<li>'setosa'</li>\n",
       "\t\t<li>'versicolor'</li>\n",
       "\t\t<li>'virginica'</li>\n",
       "\t</ol>\n",
       "</details>"
      ],
      "text/latex": [
       "\\begin{enumerate*}\n",
       "\\item setosa\n",
       "\\item setosa\n",
       "\\item setosa\n",
       "\\item versicolor\n",
       "\\item versicolor\n",
       "\\item versicolor\n",
       "\\item virginica\n",
       "\\item virginica\n",
       "\\item virginica\n",
       "\\end{enumerate*}\n",
       "\n",
       "\\emph{Levels}: \\begin{enumerate*}\n",
       "\\item 'setosa'\n",
       "\\item 'versicolor'\n",
       "\\item 'virginica'\n",
       "\\end{enumerate*}\n"
      ],
      "text/markdown": [
       "1. setosa\n",
       "2. setosa\n",
       "3. setosa\n",
       "4. versicolor\n",
       "5. versicolor\n",
       "6. versicolor\n",
       "7. virginica\n",
       "8. virginica\n",
       "9. virginica\n",
       "\n",
       "\n",
       "\n",
       "**Levels**: 1. 'setosa'\n",
       "2. 'versicolor'\n",
       "3. 'virginica'\n",
       "\n",
       "\n"
      ],
      "text/plain": [
       "[1] setosa     setosa     setosa     versicolor versicolor versicolor virginica \n",
       "[8] virginica  virginica \n",
       "Levels: setosa versicolor virginica"
      ]
     },
     "metadata": {},
     "output_type": "display_data"
    }
   ],
   "source": [
    "## ----IntroML-DecTree-Iris-predict----------------------------------------\n",
    "newcases <- iris[c(1:3,51:53,101:103),]\n",
    "newcases\n",
    "predicted <- predict(model1, newcases, type=\"class\")\n",
    "predicted\n",
    "\n",
    "\n"
   ]
  },
  {
   "cell_type": "code",
   "execution_count": 6,
   "metadata": {},
   "outputs": [
    {
     "data": {
      "text/plain": [
       "\n",
       "Call:\n",
       "C5.0.default(x = input, y = output, control = C5.0Control(noGlobalPruning\n",
       " = FALSE, minCases = 1))\n",
       "\n",
       "Classification Tree\n",
       "Number of samples: 150 \n",
       "Number of predictors: 4 \n",
       "\n",
       "Tree size: 5 \n",
       "\n",
       "Non-standard options: attempt to group attributes, minimum number of cases: 1\n"
      ]
     },
     "metadata": {},
     "output_type": "display_data"
    },
    {
     "data": {
      "image/png": "[encoded data removed]",
      "text/plain": [
       "plot without title"
      ]
     },
     "metadata": {},
     "output_type": "display_data"
    }
   ],
   "source": [
    "## ----IntroML-DecTree-Iris-class2, fig.width=10, fig.height=8-------------\n",
    "model2 <- C5.0(input, output, control = C5.0Control(noGlobalPruning = FALSE,minCases=1))\n",
    "plot(model2, main=\"C5.0 Decision Tree - Pruned, min=1\")\n",
    "model2\n",
    "\n"
   ]
  },
  {
   "cell_type": "code",
   "execution_count": 7,
   "metadata": {},
   "outputs": [
    {
     "data": {
      "image/png": "[encoded data removed]",
      "text/plain": [
       "plot without title"
      ]
     },
     "metadata": {},
     "output_type": "display_data"
    }
   ],
   "source": [
    "\n",
    "## ----IntroML-DecTree-Iris-class3, fig.width=10, fig.height=8-------------\n",
    "model3 <- C5.0(input, output, control = C5.0Control(noGlobalPruning = FALSE,minCases=5))\n",
    "plot(model3, main=\"C5.0 Decision Tree - Pruned, min=5\")"
   ]
  }
 ],
 "metadata": {
  "kernelspec": {
   "display_name": "R",
   "language": "R",
   "name": "ir"
  },
  "language_info": {
   "codemirror_mode": "r",
   "file_extension": ".r",
   "mimetype": "text/x-r-source",
   "name": "R",
   "pygments_lexer": "r",
   "version": "3.6.1"
  }
 },
 "nbformat": 4,
 "nbformat_minor": 2
}
