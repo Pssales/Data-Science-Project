{
 "cells": [
  {
   "cell_type": "markdown",
   "metadata": {},
   "source": [
    "# <span style=\"color:#336699\">CAP394 - Introdução à Data Science \n",
    "<hr style=\"border:1px solid #0077b9;\">\n",
    "\n",
    "Professores:\n",
    "- Rafael Santos\n",
    "- Gilberto Ribeiro de Queiroz\n",
    "\n",
    "Discente:\n",
    "- Camila Pereira Sales"
   ]
  },
  {
   "cell_type": "markdown",
   "metadata": {},
   "source": [
    "## <span style=\"color:#336699\">Projeto Final</span>\n",
    "\n"
   ]
  },
  {
   "cell_type": "markdown",
   "metadata": {},
   "source": [
    "### <span style=\"color:#336699\">Introdução</span>\n",
    "<hr>\n",
    "Este projeto tem como objetivo relizar análise dos dados da área de Engenharia de Software, a partir deste dados busca-se verificar a existência de padrões que possam auxiliar na identificação de falhas.\n"
   ]
  },
  {
   "cell_type": "markdown",
   "metadata": {},
   "source": [
    "### <span style=\"color:#336699\">Dados</span>\n",
    "<hr>\n",
    "Os dados utilizados neste projeto foram obtidos do Repositório de Engenharia de Software Promise (PRedictOr Models In Software Engineering). <br>\n",
    "Neste repositório estão disponiveis o resultado da aplicação de algumas métricas de software, dentre elas algumas métricas de McCabe e de Halstead\n",
    "<br>\n",
    "\n",
    "#### Atributos\n",
    "O conjunto de dados utilizado é formado por 22 atributos, sendo 11 correspondentes valores obtidos a partir das métricas de Halstead, 4 atributos referentes as métricas de McCabe, outras 6 atributos referentes ao código e um atributo onde relata a presença, ou não, de erros.\n",
    "\n",
    "\n",
    "| Atributo   | Tipo | Descrição |\n",
    "|--------|-------|---|\n",
    "|loc             | numeric | McCabe's line count of code  | \n",
    "|v(g)            | numeric | McCabe \"cyclomatic complexity\" | \n",
    "|ev(g)           | numeric | McCabe \"essential complexity\" | \n",
    "|iv(g)           | numeric | McCabe \"design complexity\" | \n",
    "|n               | numeric | Halstead total operators + operands | \n",
    "|v               | numeric | Halstead \"volume\" | \n",
    "|l               | numeric | Halstead \"program length\" | \n",
    "|d               | numeric | Halstead \"difficulty\" | \n",
    "|i               | numeric | Halstead \"intelligence\" | \n",
    "|e               | numeric | Halstead \"effort\" | \n",
    "|b               | numeric | Halstead  | \n",
    "|t               | numeric | Halstead's time estimator | \n",
    "|lOCode          | numeric | Halstead's line count | \n",
    "|lOComment       | numeric | Halstead's count of lines of comments | \n",
    "|lOBlank         | numeric | Halstead's count of blank lines | \n",
    "|lOCodeAndComment| numeric | Lines of comment and code | \n",
    "|uniq_Op         | numeric | unique operators | \n",
    "|uniq_Opnd       | numeric | unique operands | \n",
    "|total_Op        | numeric | total operators | \n",
    "|total_Opnd      | numeric | total operands | \n",
    "|branchCount     | numeric | of the flow graph | \n",
    "|defects         | boolean | module has/has not one or more reported defects | \n",
    "\n",
    "\n",
    "\n",
    "##### Métricas McCabe\n",
    "\n",
    "As métricas McCabe são uma coleção de quatro métricas de software: complexidade essencial, complexidade ciclomática, complexidade de design e LOC, linhas de código.\n",
    "\n",
    " - Complexidade ciclomática, ou \"v (G)\", mede o número de \"caminhos linearmente independentes\". Um conjunto de caminhos é considerado linearmente independente se nenhum caminho no conjunto for uma combinação linear de quaisquer outros caminhos no conjunto através do \"fluxograma\" de um programa. \"v (G)\" é calculado por \"v (G) = e - n + 2\" onde \"G\" é o fluxograma de um programa, \"e\" é o número de arcos no fluxograma e \"n\" é o número de nós no fluxograma. As regras padrão do McCabes (\"v (G)\"> 10) são usadas para identificar o módulo propenso a falhas.\n",
    " \n",
    " <br>\n",
    " \n",
    " - Complexidade essencial, ou \"ev (G)\", é a extensão em que um fluxograma pode ser \"reduzido\" decompondo todos os subfluxogramas de $ G $ que são \"primos estruturados em D\". Tais \"primos estruturados em D\" também são algumas vezes referidos como \"subfluxogramas apropriados de uma entrada e uma saída\". \"ev (G)\" é calculado usando \"ev (G) = v (G) - m\" em que $ m $ é o número de subfluxogramas de \"G\" que são primos estruturados em D.\n",
    " \n",
    " <br>\n",
    " \n",
    " - Complexidade do projeto, ou \"iv (G)\", é a complexidade ciclomática do fluxograma reduzido de um módulo. O fluxograma \"G\" de um módulo é reduzido para eliminar qualquer complexidade que não influencie a inter-relação entre os módulos de projeto. Segundo McCabe, essa medição de complexidade reflete os módulos que chamam padrões para seus módulos subordinados imediatos.\n",
    " <br>\n",
    " - As linhas de código são medidas de acordo com as convenções de contagem de linhas de McCabe.\n",
    "\n",
    "##### Métricas Halstead\n",
    "\n",
    "##### Outros Atributos"
   ]
  },
  {
   "cell_type": "markdown",
   "metadata": {},
   "source": [
    "### <span style=\"color:#336699\">Perguntas</span>\n",
    "<hr>\n",
    "<ol type=\"a\">\n",
    "    <li> Qual linguagem apresenta mais defeitos porpocionalmente?\n",
    "    <li> A complexidade do código está relacionada a presença de defeitos?    \n",
    "    <li> A complexidade do código  almenta devido a quantidade de branches?\n",
    "    <li> As métricas de Halstead são eficientes para a predição de defeitos?    \n",
    "    <li> As métricas de McCabe são eficientes para a predição de defeitos?\n",
    "    <li> As métricas de McCabe e de Halstead são complementares ou redundantes?\n",
    "</ol>    \n"
   ]
  },
  {
   "cell_type": "markdown",
   "metadata": {},
   "source": [
    "### <span style=\"color:#336699\">Notebooks</span>\n",
    "<hr>\n",
    "\n",
    "- [Manipulação dos dados](./Manipulação_dos_dados.ipynb)\n",
    "<br>\n",
    "\n",
    "#### EDA\n",
    "\n",
    "- [Análise exploratória dos dados](./eda/3_Análise_Exploratória_dos_Dados.ipynb)\n",
    "<br>\n",
    "- [Análise exploratória dos dados - Halstead](./eda/3.1_Análise_Exploratória_dos_Dados_Halstead.ipynb)\n",
    "<br>\n",
    "- [Análise exploratória dos dados - McCabe](./eda/3.2_Análise_Exploratória_dos_Dados_McCabe.ipynb)\n",
    "<br>\n",
    "\n",
    "#### Classificação\n",
    "- [Random Forest](./classificacao/Random_Forest.ipynb)\n",
    "<br>\n",
    "- [MLP](./classificacao/MLP.ipynb)\n",
    "<br>\n",
    "- [SVM](./classificacao/SVM.ipynb)\n",
    "<br>\n",
    "\n",
    "#### Comparação\n",
    "- [Comparação de Algoritmos](./comparacao.ipynb)\n",
    "<br>\n",
    "\n",
    "#### Resultados"
   ]
  },
  {
   "cell_type": "markdown",
   "metadata": {},
   "source": [
    "### <span style=\"color:#336699\">Referências</span>\n",
    "<hr>\n",
    "\n",
    "D. Gray, D. Bowes, N. Davey, Y. Sun and B. Christianson, \"The misuse of the NASA metrics data program data sets for automated software defect prediction,\" 15th Annual Conference on Evaluation & Assessment in Software Engineering (EASE 2011), Durham, 2011, pp. 96-103.\n",
    "doi: 10.1049/ic.2011.0012,\n",
    "Disponível: http://ieeexplore.ieee.org/stamp/stamp.jsp?tp=&arnumber=6083167&isnumber=6083155\n",
    "<br><br>\n",
    "\n",
    "Sayyad Shirabad, J. e Menzies, TJ (2005) O PROMISE Repository of Software Engineering Databases. Escola de Engenharia e Tecnologia da Informação, Universidade de Ottawa, Canadá. Disponível: http://promise.site.uottawa.ca/SERepository"
   ]
  },
  {
   "cell_type": "markdown",
   "metadata": {},
   "source": [
    "<div style='text-align:right;width:30%; float:right'>\n",
    "    <a href=\"./Manipulação_dos_dados.ipynb\">Próximo</a>\n",
    "</div>"
   ]
  }
 ],
 "metadata": {
  "kernelspec": {
   "display_name": "Python [conda env:pdi] *",
   "language": "python",
   "name": "conda-env-pdi-py"
  },
  "language_info": {
   "codemirror_mode": {
    "name": "ipython",
    "version": 3
   },
   "file_extension": ".py",
   "mimetype": "text/x-python",
   "name": "python",
   "nbconvert_exporter": "python",
   "pygments_lexer": "ipython3",
   "version": "3.6.8"
  }
 },
 "nbformat": 4,
 "nbformat_minor": 2
}
