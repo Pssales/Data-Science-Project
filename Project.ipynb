{
 "cells": [
  {
   "cell_type": "markdown",
   "metadata": {},
   "source": [
    "# <span style=\"color:#336699\">CAP394 - Introdução à Data Science \n",
    "<hr style=\"border:1px solid #0077b9;\">\n",
    "\n",
    "Professores:\n",
    "- Rafael Santos\n",
    "- Gilberto Ribeiro de Queiroz\n",
    "\n",
    "Discente:\n",
    "- Camila Pereira Sales"
   ]
  },
  {
   "cell_type": "markdown",
   "metadata": {},
   "source": [
    "## <span style=\"color:#336699\">Projeto Final</span>\n",
    "\n"
   ]
  },
  {
   "cell_type": "markdown",
   "metadata": {},
   "source": [
    "### <span style=\"color:#336699\">Introdução</span>\n",
    "<hr>\n",
    "Este projeto tem como objetivo relizar análise dos dados da área de Engenharia de Software, a partir deste dados busca-se verificar a existência de padrões que possam auxiliar na identificação de falhas.\n"
   ]
  },
  {
   "cell_type": "markdown",
   "metadata": {},
   "source": [
    "### <span style=\"color:#336699\">Dados</span>\n",
    "<hr>\n",
    "Os dados utilizados neste projeto foram obtidos do Repositório de Engenharia de Software Promise (PRedictOr Models In Software Engineering). <br>\n",
    "Neste repositório estão disponiveis o resultado da aplicação de algumas métricas de software, dentre elas algumas métricas de McCabe e de Halstead.\n",
    "    O dataset utilizado neste estudo é formado por mais de um connto de dados disponível no repositório, foram utilizados os datasets referentes aos software CM1, JM1, KC1 e PC1. Para trabalhar com os dados em conunto foi necessario acrecentar informações a fim de identificar a origem dos dados, essas alterações serão feitas em <a href=\"./Manipulação_dos_dados.ipynb\"> Manipulação de dados</a>.\n",
    "<br>"
   ]
  },
  {
   "cell_type": "markdown",
   "metadata": {},
   "source": [
    "#### Atributos\n",
    "O conjunto de dados utilizado é formado por 22 atributos, sendo 11 correspondentes valores obtidos a partir das métricas de Halstead, 4 atributos referentes as métricas de McCabe, outras 6 atributos referentes ao código e um atributo onde relata a presença, ou não, de erros.\n",
    "\n",
    "\n",
    "| Atributo   | Tipo | Descrição |\n",
    "|--------|-------|---|\n",
    "|loc             | numeric | McCabe quantidade de linhas no código  | \n",
    "|v(g)            | numeric | McCabe Complexidade ciclomática | \n",
    "|ev(g)           | numeric | McCabe Complexidade essencial | \n",
    "|iv(g)           | numeric | McCabe Complexidade do projeto | \n",
    "|n               | numeric | Halstead total operadores+ operandos | \n",
    "|v               | numeric | Halstead volume | \n",
    "|l               | numeric | Halstead tamanho do programa | \n",
    "|d               | numeric | Halstead dificuldade | \n",
    "|i               | numeric | Halstead inteligência | \n",
    "|e               | numeric | Halstead esforço | \n",
    "|b               | numeric | Halstead  | \n",
    "|t               | numeric | Halstead estimador de tempo | \n",
    "|lOCode          | numeric | Halstead contador de linhas | \n",
    "|lOComment       | numeric | Halstead Contagem de linhas de comentários | \n",
    "|lOBlank         | numeric | Halstead contagem de linhas em branco | \n",
    "|lOCodeAndComment| numeric | Linhas de comentário e código | \n",
    "|uniq_Op         | numeric | Operadores Únicos | \n",
    "|uniq_Opnd       | numeric | Operandos Únicos | \n",
    "|total_Op        | numeric | Total de operadores | \n",
    "|total_Opnd      | numeric | Total de operandos | \n",
    "|branchCount     | numeric | Contagem de branches| \n",
    "|defects         | boolean | O módulo possui / não possui um ou mais defeitos relatados | \n",
    "\n"
   ]
  },
  {
   "cell_type": "markdown",
   "metadata": {},
   "source": [
    "### <span style=\"color:#336699\">Perguntas</span>\n",
    "<hr>\n",
    "<ol type=\"a\">\n",
    "    <li> Qual linguagem apresenta mais defeitos porpocionalmente?\n",
    "    <li> A complexidade do código está relacionada a presença de defeitos?    \n",
    "    <li> A complexidade do código  almenta devido a quantidade de branches?\n",
    "    <li> As métricas de Halstead são eficientes para a predição de defeitos?    \n",
    "    <li> As métricas de McCabe são eficientes para a predição de defeitos?\n",
    "    <li> As métricas de McCabe e de Halstead são complementares ou redundantes?\n",
    "</ol>    \n"
   ]
  },
  {
   "cell_type": "markdown",
   "metadata": {},
   "source": [
    "### <span style=\"color:#336699\">Notebooks</span>\n",
    "<hr>\n",
    "\n",
    "<ol type=\"a\">\n",
    "    <li> <a href=\"./Manipulação_dos_dados.ipynb\">Manipulação dos dados</a>\n",
    "    <li> <a href=\"./eda/3_Análise_Exploratória_dos_Dados.ipynb\">Análise exploratória dos dados</a>  \n",
    "    <ul type=\"a\">\n",
    "        <li> <a href=\"./eda/3.1_Análise_Exploratória_dos_Dados_Halstead.ipynb\">Análise exploratória dos dados - Halstead</a>\n",
    "        <li> <a href=\"./eda/3.2_Análise_Exploratória_dos_Dados_McCabe.ipynb\">Análise exploratória dos dados - McCabe</a>   \n",
    "    </ul> \n",
    "    <li> <a href=\"./Selecao_de_Atributos.ipynb\">Seleção de atributos</a> \n",
    "    <li> <a href=\"./comparacao.ipynb\">Divisão do espaço de atributos por algoritmos</a>    \n",
    "    <li> Classificação\n",
    "    <ul type=\"a\">\n",
    "        <li> <a href=\"./classificacao/RandomForest-10.ipynb\">Random Forest 10</a>\n",
    "        <li> <a href=\"./classificacao/RandomForest-100.ipynb\">Random Forest 100</a>          \n",
    "        <li> <a href=\"./classificacao/MLP.ipynb\">MPL</a>   \n",
    "        <li> <a href=\"./classificacao/LogisticRegression.ipynb\">Regressão Logistica</a>         \n",
    "        <li> <a href=\"./classificacao/SVM.ipynb\">SVM</a>  \n",
    "    </ul>\n",
    "    <li> Resultado\n",
    "</ol> \n"
   ]
  },
  {
   "cell_type": "markdown",
   "metadata": {},
   "source": [
    "### <span style=\"color:#336699\">Referências</span>\n",
    "<hr>\n",
    "\n",
    "D. Gray, D. Bowes, N. Davey, Y. Sun and B. Christianson, \"The misuse of the NASA metrics data program data sets for automated software defect prediction,\" 15th Annual Conference on Evaluation & Assessment in Software Engineering (EASE 2011), Durham, 2011, pp. 96-103.\n",
    "doi: 10.1049/ic.2011.0012,\n",
    "Disponível: http://ieeexplore.ieee.org/stamp/stamp.jsp?tp=&arnumber=6083167&isnumber=6083155\n",
    "<br><br>\n",
    "\n",
    "Sayyad Shirabad, J. e Menzies, TJ (2005) O PROMISE Repository of Software Engineering Databases. Escola de Engenharia e Tecnologia da Informação, Universidade de Ottawa, Canadá. Disponível: http://promise.site.uottawa.ca/SERepository"
   ]
  },
  {
   "cell_type": "markdown",
   "metadata": {},
   "source": [
    "<div style='text-align:right;width:30%; float:right'>\n",
    "    <a href=\"./Manipulação_dos_dados.ipynb\">Próximo</a>\n",
    "</div>"
   ]
  }
 ],
 "metadata": {
  "kernelspec": {
   "display_name": "Python [conda env:pdi] *",
   "language": "python",
   "name": "conda-env-pdi-py"
  },
  "language_info": {
   "codemirror_mode": {
    "name": "ipython",
    "version": 3
   },
   "file_extension": ".py",
   "mimetype": "text/x-python",
   "name": "python",
   "nbconvert_exporter": "python",
   "pygments_lexer": "ipython3",
   "version": "3.6.8"
  }
 },
 "nbformat": 4,
 "nbformat_minor": 2
}
