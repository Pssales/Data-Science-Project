{
 "cells": [
  {
   "cell_type": "markdown",
   "metadata": {},
   "source": [
    "A seleção de variáveis é um componente muito importante no fluxo de trabalho de um cientista de dados. \n",
    "\n",
    "A seleção de recursos é um processo no qual você seleciona automaticamente os recursos em seus dados que mais contribuem para a variável de previsão ou saída em que você está interessado.\n",
    "<br>\n",
    "Os modelos tem um risco crescente de overfitting com o aumento do número de colunas, desta forma, perde-se eficácia ao tentar aplicar o modelo aos novos dados."
   ]
  },
  {
   "cell_type": "code",
   "execution_count": null,
   "metadata": {
    "ExecuteTime": {
     "end_time": "2019-10-09T18:17:22.358180Z",
     "start_time": "2019-10-09T18:17:20.120172Z"
    }
   },
   "outputs": [],
   "source": [
    "%matplotlib inline\n",
    "import pandas as pd\n",
    "import numpy as np\n",
    "import matplotlib.pyplot as plt\n",
    "import seaborn as sns\n",
    "import math\n",
    "import datetime as dt\n",
    "from sklearn.preprocessing import MinMaxScaler, StandardScaler, Normalizer\n",
    "from sklearn.model_selection import train_test_split\n",
    "from sklearn.feature_selection import mutual_info_classif, mutual_info_regression, SelectKBest, SelectPercentile"
   ]
  },
  {
   "cell_type": "code",
   "execution_count": null,
   "metadata": {
    "ExecuteTime": {
     "end_time": "2019-10-09T18:17:22.498093Z",
     "start_time": "2019-10-09T18:17:22.361177Z"
    }
   },
   "outputs": [],
   "source": [
    "data = pd.read_csv('./dataset2/dataset_completo.csv')\n",
    "data.head()"
   ]
  },
  {
   "cell_type": "markdown",
   "metadata": {},
   "source": [
    "### Selecionando somente as variaveis numéricas para nossa análise!"
   ]
  },
  {
   "cell_type": "code",
   "execution_count": null,
   "metadata": {
    "ExecuteTime": {
     "end_time": "2019-10-09T18:17:22.527074Z",
     "start_time": "2019-10-09T18:17:22.503090Z"
    }
   },
   "outputs": [],
   "source": [
    "numerics = ['int16', 'int32', 'int64', 'float16', 'float32', 'float64']\n",
    "numerical = list(data.select_dtypes(include=numerics).columns)\n",
    "data = data[numerical]"
   ]
  },
  {
   "cell_type": "markdown",
   "metadata": {},
   "source": [
    "Para simplificar a separação dos dados de treino e teste iremos utilizar o train_test_split"
   ]
  },
  {
   "cell_type": "code",
   "execution_count": null,
   "metadata": {
    "ExecuteTime": {
     "end_time": "2019-10-09T18:17:22.634009Z",
     "start_time": "2019-10-09T18:17:22.531072Z"
    }
   },
   "outputs": [],
   "source": [
    "X_train, X_test, y_train, y_test = train_test_split(data.drop(['defects'], axis=1), data['defects'],\n",
    "                                                   test_size = 0.3, random_state = 0)\n",
    "print('Dados de treino {}'.format(X_train.shape))\n",
    "print('\\n')\n",
    "print('Dados de teste{}'.format(X_test.shape))"
   ]
  },
  {
   "cell_type": "markdown",
   "metadata": {},
   "source": [
    "## Mutual information\n",
    "\n",
    "#### Relação entre as variaveis e a variavel defects.\n",
    "\n",
    "Se X e Y são independentes, então nenhuma informação sobre Y pode ser obtida conhecendo X ou vice-versa. \n",
    "Portanto sua informação mútua é 0.\n",
    "\n",
    "<br>\n",
    "Se X é uma função determinística de Y, então podemos determinar X de Y e Y de X com informação mútua 1.\n",
    "\n",
    "<br>\n",
    "Quanto menor o valor, menos a variavel descreve  a relação com o Defects!\n",
    "\n",
    "<br>\n",
    "A vantagem de usar informações mútuas sobre o F-Test é que ele se dá bem com a relação não linear entre as variáveis de recursos e de Defects."
   ]
  },
  {
   "cell_type": "markdown",
   "metadata": {},
   "source": [
    "A seguir é gerado o fator de relação entre variáveis."
   ]
  },
  {
   "cell_type": "code",
   "execution_count": null,
   "metadata": {
    "ExecuteTime": {
     "end_time": "2019-10-09T18:17:25.388200Z",
     "start_time": "2019-10-09T18:17:22.637008Z"
    }
   },
   "outputs": [],
   "source": [
    "mi = mutual_info_classif(X_train.fillna(0), y_train)\n",
    "mi = pd.Series(mi)\n",
    "mi.index = X_train.columns\n",
    "mi = mi.sort_values(ascending = False)"
   ]
  },
  {
   "cell_type": "code",
   "execution_count": null,
   "metadata": {
    "ExecuteTime": {
     "end_time": "2019-10-09T18:17:25.395193Z",
     "start_time": "2019-10-09T18:17:20.149Z"
    }
   },
   "outputs": [],
   "source": [
    "mi.plot.bar(figsize=(22,10));"
   ]
  },
  {
   "cell_type": "markdown",
   "metadata": {},
   "source": [
    "O código usando a classe SelectKBest da biblioteca feature_selection combinada com o método de máximo coeficiente de informações para selecionar recursos é a seguinte:"
   ]
  },
  {
   "cell_type": "code",
   "execution_count": null,
   "metadata": {
    "ExecuteTime": {
     "end_time": "2019-10-09T18:17:25.398192Z",
     "start_time": "2019-10-09T18:17:20.156Z"
    }
   },
   "outputs": [],
   "source": [
    "sel_ = SelectKBest(mutual_info_classif, k= 10).fit(X_train.fillna(0), y_train)\n",
    "X_train.columns[sel_.get_support()]"
   ]
  },
  {
   "cell_type": "markdown",
   "metadata": {},
   "source": [
    "Abaixo estão as melhores features de acordo com o método Mutual Information"
   ]
  },
  {
   "cell_type": "code",
   "execution_count": null,
   "metadata": {
    "ExecuteTime": {
     "end_time": "2019-10-09T18:17:25.401193Z",
     "start_time": "2019-10-09T18:17:20.164Z"
    }
   },
   "outputs": [],
   "source": [
    "data_mutual_info_classif = data[X_train.columns[sel_.get_support()]]\n",
    "data_mutual_info_classif['defects'] = data['defects']\n",
    "data_mutual_info_classif.to_csv('./dataset2/dataset_mutual_info_classif.csv', index=False)\n",
    "data_mutual_info_classif.head()"
   ]
  },
  {
   "cell_type": "markdown",
   "metadata": {},
   "source": [
    "### Aplicando o método de Regressao (mutual_info_regression)\n"
   ]
  },
  {
   "cell_type": "code",
   "execution_count": null,
   "metadata": {
    "ExecuteTime": {
     "end_time": "2019-10-09T18:17:25.404189Z",
     "start_time": "2019-10-09T18:17:20.170Z"
    }
   },
   "outputs": [],
   "source": [
    "# Selecionando somente as variaveis numericas\n",
    "numerics = ['int16', 'int32', 'int64', 'float16', 'float32', 'float64']\n",
    "numerical = list(data.select_dtypes(include=numerics).columns)\n",
    "data = data[numerical]"
   ]
  },
  {
   "cell_type": "code",
   "execution_count": null,
   "metadata": {
    "ExecuteTime": {
     "end_time": "2019-10-09T18:17:25.407187Z",
     "start_time": "2019-10-09T18:17:20.176Z"
    }
   },
   "outputs": [],
   "source": [
    "# Separando os dados de treino e teste\n",
    "X_train, X_test, y_train, y_test = train_test_split(data.drop(['defects'], axis=1), data['defects'],\n",
    "                                                   test_size = 0.3, random_state = 0)"
   ]
  },
  {
   "cell_type": "markdown",
   "metadata": {},
   "source": [
    "#### Encontrando o Mutual Information com Regressão!"
   ]
  },
  {
   "cell_type": "code",
   "execution_count": null,
   "metadata": {
    "ExecuteTime": {
     "end_time": "2019-10-09T18:17:25.409188Z",
     "start_time": "2019-10-09T18:17:20.182Z"
    }
   },
   "outputs": [],
   "source": [
    "mi = mutual_info_regression(X_train.fillna(0), y_train)\n",
    "mi = pd.Series(mi)\n",
    "mi.index = X_train.columns\n",
    "mi.sort_values(ascending=False)[:10].index"
   ]
  },
  {
   "cell_type": "code",
   "execution_count": null,
   "metadata": {
    "ExecuteTime": {
     "end_time": "2019-10-09T18:17:25.413183Z",
     "start_time": "2019-10-09T18:17:20.199Z"
    }
   },
   "outputs": [],
   "source": [
    "data_mutual_info_regression = data[mi.sort_values(ascending=False)[:10].index]\n",
    "data_mutual_info_regression['defects'] = data['defects']\n",
    "data_mutual_info_regression.to_csv('./dataset2/data_mutual_info_regression.csv', index=False)\n",
    "data_mutual_info_regression"
   ]
  },
  {
   "cell_type": "code",
   "execution_count": null,
   "metadata": {
    "ExecuteTime": {
     "end_time": "2019-10-09T18:17:25.415181Z",
     "start_time": "2019-10-09T18:17:20.204Z"
    }
   },
   "outputs": [],
   "source": [
    "mi.sort_values(ascending=False).plot.bar(figsize = (13,8));"
   ]
  },
  {
   "cell_type": "markdown",
   "metadata": {},
   "source": [
    "# Regressão"
   ]
  },
  {
   "cell_type": "code",
   "execution_count": null,
   "metadata": {
    "ExecuteTime": {
     "end_time": "2019-10-09T18:17:25.418180Z",
     "start_time": "2019-10-09T18:17:20.210Z"
    }
   },
   "outputs": [],
   "source": [
    "from sklearn.feature_selection import f_classif, f_regression"
   ]
  },
  {
   "cell_type": "markdown",
   "metadata": {},
   "source": [
    "# Univariada ROC-AUC ou MSE"
   ]
  },
  {
   "cell_type": "markdown",
   "metadata": {},
   "source": [
    "* Primeiramente, cria-se uma árvore de decisao para cada variavel.\n",
    "* Realiza a predição com a árvore de decisao mencionada.\n",
    "* Ranqueia os itens de acordo com a metrica ROC-AUC ou MSE.\n",
    "* Seleciona os mais altos índices das variaveis. "
   ]
  },
  {
   "cell_type": "code",
   "execution_count": null,
   "metadata": {
    "ExecuteTime": {
     "end_time": "2019-10-09T18:17:25.421178Z",
     "start_time": "2019-10-09T18:17:20.216Z"
    }
   },
   "outputs": [],
   "source": [
    "from sklearn.tree import DecisionTreeClassifier, DecisionTreeRegressor\n",
    "from sklearn.metrics import roc_auc_score, mean_squared_error"
   ]
  },
  {
   "cell_type": "code",
   "execution_count": null,
   "metadata": {
    "ExecuteTime": {
     "end_time": "2019-10-09T18:17:25.423177Z",
     "start_time": "2019-10-09T18:17:20.221Z"
    }
   },
   "outputs": [],
   "source": [
    "data = pd.read_csv('./dataset2/dataset_completo.csv')\n",
    "data.head()\n",
    "\n",
    "# Selecionando somente as variaveis numericas\n",
    "numerics = ['int16', 'int32', 'int64', 'float16', 'float32', 'float64']\n",
    "numerical = list(data.select_dtypes(include=numerics).columns)\n",
    "data = data[numerical]"
   ]
  },
  {
   "cell_type": "code",
   "execution_count": null,
   "metadata": {
    "ExecuteTime": {
     "end_time": "2019-10-09T18:17:25.426177Z",
     "start_time": "2019-10-09T18:17:20.226Z"
    }
   },
   "outputs": [],
   "source": [
    "# Separando os dados de treino e teste\n",
    "X_train, X_test, y_train, y_test = train_test_split(data.drop(['defects'], axis=1), data['defects'],\n",
    "                                                   test_size = 0.3, random_state = 0)"
   ]
  },
  {
   "cell_type": "markdown",
   "metadata": {},
   "source": [
    "Criação do laço para preencher a variavel roc_values com as prediçoes da árvore de decisão!"
   ]
  },
  {
   "cell_type": "code",
   "execution_count": null,
   "metadata": {
    "ExecuteTime": {
     "end_time": "2019-10-09T18:17:25.429174Z",
     "start_time": "2019-10-09T18:17:20.231Z"
    }
   },
   "outputs": [],
   "source": [
    "roc_values = []\n",
    "for feature in X_train.columns:\n",
    "    clf = DecisionTreeClassifier()\n",
    "    clf.fit(X_train[feature].fillna(0).to_frame(), y_train)\n",
    "    y_scored = clf.predict_proba(X_test[feature].fillna(0).to_frame())\n",
    "    roc_values.append(roc_auc_score(y_test, y_scored[:, 1]))"
   ]
  },
  {
   "cell_type": "markdown",
   "metadata": {},
   "source": [
    "Ordenando as colunas em roc_values para facilitar a visualização"
   ]
  },
  {
   "cell_type": "code",
   "execution_count": null,
   "metadata": {
    "ExecuteTime": {
     "end_time": "2019-10-09T18:17:25.432172Z",
     "start_time": "2019-10-09T18:17:20.237Z"
    }
   },
   "outputs": [],
   "source": [
    "roc_values = pd.Series(roc_values)\n",
    "roc_values.index = X_train.columns\n",
    "roc_values.sort_values(ascending = False)[0:10]"
   ]
  },
  {
   "cell_type": "markdown",
   "metadata": {},
   "source": [
    "Pode-se notar que diversas variaveis estão com o mesmo score 0.6"
   ]
  },
  {
   "cell_type": "code",
   "execution_count": null,
   "metadata": {
    "ExecuteTime": {
     "end_time": "2019-10-09T18:17:25.435169Z",
     "start_time": "2019-10-09T18:17:20.244Z"
    },
    "scrolled": false
   },
   "outputs": [],
   "source": [
    "roc_values.sort_values(ascending = False).plot.bar(figsize = (17,6));"
   ]
  },
  {
   "cell_type": "markdown",
   "metadata": {},
   "source": [
    "Verificando quantas variaveis estão acima do threshold de 0.6"
   ]
  },
  {
   "cell_type": "code",
   "execution_count": null,
   "metadata": {
    "ExecuteTime": {
     "end_time": "2019-10-09T18:17:25.439167Z",
     "start_time": "2019-10-09T18:17:20.249Z"
    }
   },
   "outputs": [],
   "source": [
    "roc_values[roc_values > 0.6]"
   ]
  },
  {
   "cell_type": "markdown",
   "metadata": {},
   "source": [
    "### Exemplo com o caso de Regressão"
   ]
  },
  {
   "cell_type": "markdown",
   "metadata": {},
   "source": [
    "#### Para o caso  de regressão, quanto menor o valor de MSE, melhor!!!\n",
    "* Metodo útil quando se esta trabalhando com datasets enormes!\n",
    "\n",
    "* Experimente valores diferentes para as diversas opções de parâmetros e assim verificar quais funcionam melhor para uma tarefa de machine learning.\n",
    "\n",
    "* A seleção de variáveis é uma etapa crítica de um fluxo de trabalho no aprendizado de máquina. O cientista de dados precisa executar várias iterações para otimizar os dados e modelos.\n"
   ]
  },
  {
   "cell_type": "code",
   "execution_count": null,
   "metadata": {
    "ExecuteTime": {
     "end_time": "2019-10-09T18:17:25.444165Z",
     "start_time": "2019-10-09T18:17:20.256Z"
    }
   },
   "outputs": [],
   "source": [
    "data = pd.read_csv('./dataset2/dataset_completo.csv')\n",
    "\n",
    "numerics = ['int16', 'int32', 'int64', 'float16', 'float32', 'float64']\n",
    "numerical = list(data.select_dtypes(include=numerics).columns)\n",
    "data = data[numerical]"
   ]
  },
  {
   "cell_type": "code",
   "execution_count": null,
   "metadata": {
    "ExecuteTime": {
     "end_time": "2019-10-09T18:17:25.449161Z",
     "start_time": "2019-10-09T18:17:20.261Z"
    }
   },
   "outputs": [],
   "source": [
    "# Separando os dados de treino e teste\n",
    "X_train, X_test, y_train, y_test = train_test_split(data.drop(['defects'], axis=1), data['defects'],\n",
    "                                                   test_size = 0.3, random_state = 0)"
   ]
  },
  {
   "cell_type": "code",
   "execution_count": null,
   "metadata": {
    "ExecuteTime": {
     "end_time": "2019-10-09T18:17:25.453158Z",
     "start_time": "2019-10-09T18:17:20.265Z"
    }
   },
   "outputs": [],
   "source": [
    "# Criacao do laco para gerar o classificador de arvore de decisao (MSE)\n",
    "mse_values = []\n",
    "for feature in X_train.columns:\n",
    "    clf = DecisionTreeRegressor()\n",
    "    clf.fit(X_train[feature].fillna(0).to_frame(), y_train)\n",
    "    y_scored = clf.predict(X_test[feature].fillna(0).to_frame())\n",
    "    mse_values.append(mean_squared_error(y_test, y_scored))"
   ]
  },
  {
   "cell_type": "code",
   "execution_count": null,
   "metadata": {
    "ExecuteTime": {
     "end_time": "2019-10-09T18:17:25.456157Z",
     "start_time": "2019-10-09T18:17:20.269Z"
    }
   },
   "outputs": [],
   "source": [
    "mse_values = pd.Series(mse_values)\n",
    "mse_values.index = X_train.columns\n",
    "mse_values.sort_values(ascending = False, inplace = True)"
   ]
  },
  {
   "cell_type": "code",
   "execution_count": null,
   "metadata": {
    "ExecuteTime": {
     "end_time": "2019-10-09T18:17:25.459155Z",
     "start_time": "2019-10-09T18:17:20.274Z"
    }
   },
   "outputs": [],
   "source": [
    "mse_values[0:10]"
   ]
  },
  {
   "cell_type": "code",
   "execution_count": null,
   "metadata": {
    "ExecuteTime": {
     "end_time": "2019-10-09T18:17:25.462154Z",
     "start_time": "2019-10-09T18:17:20.279Z"
    }
   },
   "outputs": [],
   "source": [
    "mse_values.plot.bar(figsize = (12,6));"
   ]
  },
  {
   "cell_type": "code",
   "execution_count": null,
   "metadata": {},
   "outputs": [],
   "source": []
  },
  {
   "cell_type": "markdown",
   "metadata": {},
   "source": [
    "## Arvore de decisão "
   ]
  },
  {
   "cell_type": "code",
   "execution_count": null,
   "metadata": {
    "ExecuteTime": {
     "end_time": "2019-10-09T18:17:25.466151Z",
     "start_time": "2019-10-09T18:17:20.286Z"
    }
   },
   "outputs": [],
   "source": [
    "from sklearn import tree"
   ]
  },
  {
   "cell_type": "code",
   "execution_count": null,
   "metadata": {
    "ExecuteTime": {
     "end_time": "2019-10-09T18:17:25.469149Z",
     "start_time": "2019-10-09T18:17:20.291Z"
    }
   },
   "outputs": [],
   "source": [
    "classes = data_mutual_info_classif['defects']"
   ]
  },
  {
   "cell_type": "code",
   "execution_count": null,
   "metadata": {
    "ExecuteTime": {
     "end_time": "2019-10-09T18:17:25.472146Z",
     "start_time": "2019-10-09T18:17:20.297Z"
    }
   },
   "outputs": [],
   "source": [
    "del data_mutual_info_classif['defects']"
   ]
  },
  {
   "cell_type": "code",
   "execution_count": null,
   "metadata": {
    "ExecuteTime": {
     "end_time": "2019-10-09T18:17:25.476144Z",
     "start_time": "2019-10-09T18:17:20.309Z"
    }
   },
   "outputs": [],
   "source": [
    "clf = tree.DecisionTreeClassifier()\n",
    "clf = clf.fit(data_mutual_info_classif, classes)"
   ]
  },
  {
   "cell_type": "code",
   "execution_count": null,
   "metadata": {
    "ExecuteTime": {
     "end_time": "2019-10-09T18:17:25.479142Z",
     "start_time": "2019-10-09T18:17:20.317Z"
    }
   },
   "outputs": [],
   "source": [
    "tree.plot_tree(clf.fit(data_mutual_info_classif, classes))"
   ]
  },
  {
   "cell_type": "code",
   "execution_count": 1,
   "metadata": {
    "ExecuteTime": {
     "end_time": "2019-10-09T18:23:31.182050Z",
     "start_time": "2019-10-09T18:23:31.091102Z"
    }
   },
   "outputs": [
    {
     "ename": "ModuleNotFoundError",
     "evalue": "No module named 'graphviz'",
     "output_type": "error",
     "traceback": [
      "\u001b[1;31m---------------------------------------------------------------------------\u001b[0m",
      "\u001b[1;31mModuleNotFoundError\u001b[0m                       Traceback (most recent call last)",
      "\u001b[1;32m<ipython-input-1-fb33000767ad>\u001b[0m in \u001b[0;36m<module>\u001b[1;34m\u001b[0m\n\u001b[1;32m----> 1\u001b[1;33m \u001b[1;32mimport\u001b[0m \u001b[0mgraphviz\u001b[0m\u001b[1;33m\u001b[0m\u001b[1;33m\u001b[0m\u001b[0m\n\u001b[0m\u001b[0;32m      2\u001b[0m \u001b[1;32mimport\u001b[0m \u001b[0mos\u001b[0m\u001b[1;33m\u001b[0m\u001b[1;33m\u001b[0m\u001b[0m\n",
      "\u001b[1;31mModuleNotFoundError\u001b[0m: No module named 'graphviz'"
     ]
    }
   ],
   "source": [
    "import graphviz\n",
    "import os"
   ]
  },
  {
   "cell_type": "code",
   "execution_count": null,
   "metadata": {
    "ExecuteTime": {
     "end_time": "2019-10-09T18:17:25.488137Z",
     "start_time": "2019-10-09T18:17:20.334Z"
    }
   },
   "outputs": [],
   "source": [
    "os.environ[\"PATH\"] += os.pathsep + 'C:/Program Files (x86)/Graphviz2.38/bin/'\n",
    "\n",
    "dot_data = tree.export_graphviz(clf, out_file=None) \n",
    "graph = graphviz.Source(dot_data)\n",
    "graph.render(\"Software Defective\")"
   ]
  },
  {
   "cell_type": "code",
   "execution_count": null,
   "metadata": {
    "ExecuteTime": {
     "end_time": "2019-10-09T18:17:25.490135Z",
     "start_time": "2019-10-09T18:17:20.339Z"
    }
   },
   "outputs": [],
   "source": [
    "graph =dot_data = tree.export_graphviz(clf, out_file=None, \n",
    "                      feature_names=np.array(data.columns),  \n",
    "                      class_names=np.array(['OK', 'Defeito']),  \n",
    "                      filled=True, rounded=True,  \n",
    "                      special_characters=True)  \n",
    "dot_data\n",
    "graph = graphviz.Source(dot_data)  \n",
    "graph.render(\"arvore\")"
   ]
  }
 ],
 "metadata": {
  "kernelspec": {
   "display_name": "Python 3",
   "language": "python",
   "name": "python3"
  },
  "language_info": {
   "codemirror_mode": {
    "name": "ipython",
    "version": 3
   },
   "file_extension": ".py",
   "mimetype": "text/x-python",
   "name": "python",
   "nbconvert_exporter": "python",
   "pygments_lexer": "ipython3",
   "version": "3.7.3"
  }
 },
 "nbformat": 4,
 "nbformat_minor": 2
}
