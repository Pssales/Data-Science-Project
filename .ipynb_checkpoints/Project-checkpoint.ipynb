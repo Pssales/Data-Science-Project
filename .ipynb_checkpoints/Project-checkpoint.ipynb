{
 "cells": [
  {
   "cell_type": "markdown",
   "metadata": {},
   "source": [
    "# <span style=\"color:#336699\">CAP394 - Introdução à Data Science \n",
    "<hr style=\"border:1px solid #0077b9;\">\n",
    "\n",
    "Professores:\n",
    "- Rafael Santos\n",
    "- Gilberto Ribeiro de Queiroz\n",
    "\n",
    "Discente:\n",
    "- Camila Pereira Sales"
   ]
  },
  {
   "cell_type": "markdown",
   "metadata": {},
   "source": [
    "## <span style=\"color:#336699\">Projeto Final</span>\n",
    "\n"
   ]
  },
  {
   "cell_type": "markdown",
   "metadata": {},
   "source": [
    "### <span style=\"color:#336699\">Introdução</span>\n",
    "<hr>\n",
    "Este projeto tem como objetivo relizar análise dos dados da área de Engenharia de Software, a partir deste dados busca-se verificar a existência de padrões que possam auxiliar na identificação de falhas.\n"
   ]
  },
  {
   "cell_type": "markdown",
   "metadata": {},
   "source": [
    "### <span style=\"color:#336699\">Dados</span>\n",
    "<hr>\n",
    "Os dados utilizados neste projeto foram obtidos do Repositório de Engenharia de Software Promise. <br>\n",
    "Neste repositório estão disponiveis o resultado da aplicação de algumas métricas de software."
   ]
  },
  {
   "cell_type": "code",
   "execution_count": 1,
   "metadata": {},
   "outputs": [],
   "source": [
    "import pandas as pd\n",
    "import seaborn as sns\n",
    "import matplotlib.pyplot as plt\n",
    "import numpy as np \n",
    "import glob, os"
   ]
  },
  {
   "cell_type": "markdown",
   "metadata": {},
   "source": [
    "<br>\n",
    "Listagem dos datasets presentes na pasta, todos estão em formato arff."
   ]
  },
  {
   "cell_type": "code",
   "execution_count": 2,
   "metadata": {},
   "outputs": [
    {
     "name": "stdout",
     "output_type": "stream",
     "text": [
      "CM1.arff\n",
      "KC3.arff\n",
      "KC4.arff\n",
      "MC1.arff\n",
      "MC2.arff\n",
      "MW1.arff\n",
      "PC1.arff\n",
      "PC2.arff\n",
      "PC3.arff\n",
      "PC4.arff\n",
      "PC5.arff\n"
     ]
    }
   ],
   "source": [
    "path = os.getcwd()\n",
    "os.chdir(\"dataset1\")\n",
    "files = []\n",
    "for file in glob.glob(\"*.arff\"):\n",
    "    files.append(file)\n",
    "    print(file)"
   ]
  },
  {
   "cell_type": "markdown",
   "metadata": {},
   "source": [
    "<br>\n",
    "Conteudo do arquivo KC4."
   ]
  },
  {
   "cell_type": "code",
   "execution_count": 3,
   "metadata": {
    "scrolled": true
   },
   "outputs": [
    {
     "name": "stdout",
     "output_type": "stream",
     "text": [
      "@relation 'KC4'\n",
      "\n",
      "@attribute LOC_BLANK numeric\n",
      "@attribute BRANCH_COUNT numeric\n",
      "@attribute CALL_PAIRS numeric\n",
      "@attribute LOC_CODE_AND_COMMENT numeric\n",
      "@attribute LOC_COMMENTS numeric\n",
      "@attribute CONDITION_COUNT numeric\n",
      "@attribute CYCLOMATIC_COMPLEXITY numeric\n",
      "@attribute CYCLOMATIC_DENSITY numeric\n",
      "@attribute DECISION_COUNT numeric\n",
      "@attribute DECISION_DENSITY numeric\n",
      "@attribute DESIGN_COMPLEXITY numeric\n",
      "@attribute DESIGN_DENSITY numeric\n",
      "@attribute EDGE_COUNT numeric\n",
      "@attribute ESSENTIAL_COMPLEXITY numeric\n",
      "@attribute ESSENTIAL_DENSITY numeric\n",
      "@attribute LOC_EXECUTABLE numeric\n",
      "@attribute PARAMETER_COUNT numeric\n",
      "@attribute GLOBAL_DATA_COMPLEXITY numeric\n",
      "@attribute GLOBAL_DATA_DENSITY numeric\n",
      "@attribute HALSTEAD_CONTENT numeric\n",
      "@attribute HALSTEAD_DIFFICULTY numeric\n",
      "@attribute HALSTEAD_EFFORT numeric\n",
      "@attribute HALSTEAD_ERROR_EST numeric\n",
      "@attribute HALSTEAD_LENGTH numeric\n",
      "@attribute HALSTEAD_LEVEL numeric\n",
      "@attribute HALSTEAD_PROG_TIME numeric\n",
      "@attribute HALSTEAD_VOLUME numeric\n",
      "@attribute MAINTENANCE_SEVERITY numeric\n",
      "@attribute MODIFIED_CONDITION_COUNT numeric\n",
      "@attribute MULTIPLE_CONDITION_COUNT numeric\n",
      "@attribute NODE_COUNT numeric\n",
      "@attribute NORMALIZED_CYLOMATIC_COMPLEXITY numeric\n",
      "@attribute NUM_OPERANDS numeric\n",
      "@attribute NUM_OPERATORS numeric\n",
      "@attribute NUM_UNIQUE_OPERANDS numeric\n",
      "@attribute NUM_UNIQUE_OPERATORS numeric\n",
      "@attribute NUMBER_OF_LINES numeric\n",
      "@attribute PATHOLOGICAL_COMPLEXITY numeric\n",
      "@attribute PERCENT_COMMENTS numeric\n",
      "@attribute LOC_TOTAL numeric\n",
      "@attribute Defective {Y,N}\n",
      "\n",
      "@data\n",
      "0,7,5,0,0,0,4,1,0,0,4,1,93,1,0,0,0,0,0,0,0,0,0,0,0,0,0,0.25,0,0,91,0.04,0,0,0,0,100,1,0,100,N\n",
      "0,125,11,0,0,0,63,1,0,0,56,0.89,462,1,0,0,0,0,0,0,0,0,0,0,0,0,0,0.02,0,0,401,0.13,0,0,0,0,489,1,0,489,Y\n",
      "0,23,2,0,0,0,12,1,0,0,2,0.17,64,1,0,0,0,0,0,0,0,0,0,0,0,0,0,0.08,0,0,54,0.19,0,0,0,0,62,1,0,62,Y\n",
      "0,3,8,0,0,0,2,1,0,0,2,1,37,1,0,0,0,0,0,0,0,0,0,0,0,0,0,0.5,0,0,37,0.03,0,0,0,0,58,1,0,58,Y\n",
      "0,1,1,0,0,0,1,1,0,0,1,1,6,1,0,0,0,0,0,0,0,0,0,0,0,0,0,1,0,0,7,0,0,0,0,0,613,1,0,613,N\n",
      "0,9,2,0,0,0,5,1,0,0,2,0.4,29,1,0,0,0,0,0,0,0,0,0,0,0,0,0,0.2,0,0,26,0.12,0,0,0,0,41,1,0,41,Y\n",
      "0,1,3,0,0,0,1,1,0,0,1,1,24,1,0,0,0,0,0,0,0,0,0,0,0,0,0,1,0,0,25,0.03,0,0,0,0,36,1,0,36,Y\n",
      "0,1,1,0,0,0,1,1,0,0,1,1,5,1,0,0,0,0,0,0,0,0,0,0,0,0,0,1,0,0,6,0.01,0,0,0,0,81,1,0,81,N\n",
      "0,29,9,0,0,0,15,1,0,0,14,0.93,133,1,0,0,0,0,0,0,0,0,0,0,0,0,0,0.07,0,0,120,0.1,0,0,0,0,145,1,0,145,Y\n",
      "0,3,8,0,0,0,2,1,0,0,2,1,38,1,0,0,0,0,0,0,0,0,0,0,0,0,0,0.5,0,0,38,0.03,0,0,0,0,58,1,0,58,Y\n",
      "0,1,1,0,0,0,1,0,0,0,1,1,6,1,0,0,0,0,0,0,0,0,0,0,0,0,0,1,0,0,7,0,0,0,0,0,269,1,0,269,N\n",
      "0,3,15,0,0,0,2,0,0,0,2,1,33,1,0,0,0,0,0,0,0,0,0,0,0,0,0,0.5,0,0,33,0.01,0,0,0,0,181,1,0,181,N\n",
      "0,1,3,0,0,0,1,0,0,0,1,1,11,1,0,0,0,0,0,0,0,0,0,0,0,0,0,1,0,0,12,0.06,0,0,0,0,18,1,0,18,N\n",
      "0,35,2,0,0,0,18,0,0,0,2,0.11,94,1,0,0,0,0,0,0,0,0,0,0,0,0,0,0.06,0,0,78,0.23,0,0,0,0,80,1,0,80,N\n",
      "0,467,19,0,0,0,234,0,0,0,139,0.59,1871,1,0,0,0,0,0,0,0,0,0,0,0,0,0,0,0,0,1639,0.13,0,0,0,0,1810,1,0,1810,Y\n",
      "0,27,9,0,0,0,14,0,0,0,10,0.71,106,1,0,0,0,0,0,0,0,0,0,0,0,0,0,0.07,0,0,94,0.15,0,0,0,0,91,1,0,91,Y\n",
      "0,5,10,0,0,0,3,0,0,0,3,1,50,1,0,0,0,0,0,0,0,0,0,0,0,0,0,0.33,0,0,49,0.04,0,0,0,0,77,1,0,77,Y\n",
      "0,1,1,0,0,0,1,0,0,0,1,1,7,1,0,0,0,0,0,0,0,0,0,0,0,0,0,1,0,0,8,0,0,0,0,0,2064,1,0,2064,N\n",
      "0,13,2,0,0,0,7,0,0,0,2,0.29,39,1,0,0,0,0,0,0,0,0,0,0,0,0,0,0.14,0,0,34,0.15,0,0,0,0,47,1,0,47,Y\n",
      "0,3,2,0,0,0,2,0,0,0,2,1,51,1,0,0,0,0,0,0,0,0,0,0,0,0,0,0.5,0,0,51,0.03,0,0,0,0,66,1,0,66,Y\n",
      "0,3,5,0,0,0,2,0,0,0,2,1,30,1,0,0,0,0,0,0,0,0,0,0,0,0,0,0.5,0,0,30,0.04,0,0,0,0,47,1,0,47,Y\n",
      "0,1,1,0,0,0,1,0,0,0,1,1,6,1,0,0,0,0,0,0,0,0,0,0,0,0,0,1,0,0,7,0.01,0,0,0,0,164,1,0,164,N\n",
      "0,29,2,0,0,0,15,0,0,0,2,0.13,79,1,0,0,0,0,0,0,0,0,0,0,0,0,0,0.07,0,0,66,0.21,0,0,0,0,71,1,0,71,N\n",
      "0,15,14,0,0,0,8,0,0,0,7,0.88,119,1,0,0,0,0,0,0,0,0,0,0,0,0,0,0.13,0,0,113,0.06,0,0,0,0,138,1,0,138,Y\n",
      "0,5,11,0,0,0,3,0,0,0,3,1,52,1,0,0,0,0,0,0,0,0,0,0,0,0,0,0.33,0,0,51,0.04,0,0,0,0,80,1,0,80,Y\n",
      "0,1,1,0,0,0,1,0,0,0,1,1,6,1,0,0,0,0,0,0,0,0,0,0,0,0,0,1,0,0,7,0,0,0,0,0,294,1,0,294,N\n",
      "0,35,2,0,0,0,18,0,0,0,2,0.11,94,1,0,0,0,0,0,0,0,0,0,0,0,0,0,0.06,0,0,78,0.23,0,0,0,0,80,1,0,80,Y\n",
      "0,127,17,0,0,0,64,0,0,0,42,0.66,645,1,0,0,0,0,0,0,0,0,0,0,0,0,0,0.02,0,0,583,0.1,0,0,0,0,634,1,0,634,Y\n",
      "0,1,5,0,0,0,1,0,0,0,1,1,31,1,0,0,0,0,0,0,0,0,0,0,0,0,0,1,0,0,32,0.02,0,0,0,0,49,1,0,49,Y\n",
      "0,1,1,0,0,0,1,0,0,0,1,1,6,1,0,0,0,0,0,0,0,0,0,0,0,0,0,1,0,0,7,0,0,0,0,0,768,1,0,768,N\n",
      "0,11,11,0,0,0,6,0,0,0,6,1,53,1,0,0,0,0,0,0,0,0,0,0,0,0,0,0.17,0,0,49,0.11,0,0,0,0,55,1,0,55,Y\n",
      "0,1,1,0,0,0,1,0,0,0,1,1,9,1,0,0,0,0,0,0,0,0,0,0,0,0,0,1,0,0,10,0.06,0,0,0,0,16,1,0,16,N\n",
      "0,13,9,0,0,0,7,0,0,0,7,1,64,1,0,0,0,0,0,0,0,0,0,0,0,0,0,0.14,0,0,59,0.11,0,0,0,0,64,1,0,64,Y\n",
      "0,13,9,0,0,0,7,0,0,0,6,0.86,57,1,0,0,0,0,0,0,0,0,0,0,0,0,0,0.14,0,0,52,0.02,0,0,0,0,407,1,0,407,N\n",
      "0,1,2,0,0,0,1,0,0,0,1,1,7,1,0,0,0,0,0,0,0,0,0,0,0,0,0,1,0,0,8,0.01,0,0,0,0,91,1,0,91,Y\n",
      "0,1,1,0,0,0,1,0,0,0,1,1,9,1,0,0,0,0,0,0,0,0,0,0,0,0,0,1,0,0,10,0.04,0,0,0,0,24,1,0,24,N\n",
      "0,13,11,0,0,0,7,0,0,0,7,1,78,1,0,0,0,0,0,0,0,0,0,0,0,0,0,0.14,0,0,73,0.08,0,0,0,0,89,1,0,89,N\n",
      "0,33,10,0,0,0,17,0,0,0,12,0.71,145,4,0.19,0,0,0,0,0,0,0,0,0,0,0,0,0.24,0,0,130,0.1,0,0,0,0,169,1,0,169,Y\n",
      "0,1,2,0,0,0,1,0,0,0,1,1,7,1,0,0,0,0,0,0,0,0,0,0,0,0,0,1,0,0,8,0.05,0,0,0,0,20,1,0,20,N\n",
      "0,1,1,0,0,0,1,0,0,0,1,1,5,1,0,0,0,0,0,0,0,0,0,0,0,0,0,1,0,0,6,0.01,0,0,0,0,193,1,0,193,N\n",
      "0,33,12,0,0,0,17,0,0,0,14,0.82,145,1,0,0,0,0,0,0,0,0,0,0,0,0,0,0.06,0,0,130,0.07,0,0,0,0,245,1,0,245,N\n",
      "0,15,5,0,0,0,8,0,0,0,2,0.25,52,1,0,0,0,0,0,0,0,0,0,0,0,0,0,0.13,0,0,46,0.16,0,0,0,0,50,1,0,50,Y\n",
      "0,23,6,0,0,0,12,0,0,0,2,0.17,82,1,0,0,0,0,0,0,0,0,0,0,0,0,0,0.08,0,0,72,0.07,0,0,0,0,163,1,0,163,Y\n",
      "0,11,4,0,0,0,6,0,0,0,4,0.67,39,1,0,0,0,0,0,0,0,0,0,0,0,0,0,0.17,0,0,35,0.05,0,0,0,0,111,1,0,111,N\n",
      "0,7,10,0,0,0,4,0,0,0,4,1,36,1,0,0,0,0,0,0,0,0,0,0,0,0,0,0.25,0,0,34,0.07,0,0,0,0,58,1,0,58,Y\n",
      "0,1,1,0,0,0,1,0,0,0,1,1,8,1,0,0,0,0,0,0,0,0,0,0,0,0,0,1,0,0,9,0,0,0,0,0,405,1,0,405,N\n",
      "0,3,2,0,0,0,2,0,0,0,2,1,12,1,0,0,0,0,0,0,0,0,0,0,0,0,0,0.5,0,0,12,0.14,0,0,0,0,14,1,0,14,N\n",
      "0,11,7,0,0,0,6,0,0,0,2,0.33,69,1,0,0,0,0,0,0,0,0,0,0,0,0,0,0.17,0,0,65,0.05,0,0,0,0,124,1,0,124,Y\n",
      "0,5,2,0,0,0,3,0,0,0,3,1,15,1,0,0,0,0,0,0,0,0,0,0,0,0,0,0.33,0,0,14,0.08,0,0,0,0,38,1,0,38,N\n",
      "0,1,1,0,0,0,1,0,0,0,1,1,4,1,0,0,0,0,0,0,0,0,0,0,0,0,0,1,0,0,5,0.08,0,0,0,0,13,1,0,13,N\n",
      "0,5,2,0,0,0,3,0,0,0,3,1,22,1,0,0,0,0,0,0,0,0,0,0,0,0,0,0.33,0,0,21,0.05,0,0,0,0,60,1,0,60,Y\n",
      "0,1,1,0,0,0,1,0,0,0,1,1,4,1,0,0,0,0,0,0,0,0,0,0,0,0,0,1,0,0,5,0.03,0,0,0,0,33,1,0,33,N\n",
      "0,11,5,0,0,0,6,0,0,0,4,0.67,38,1,0,0,0,0,0,0,0,0,0,0,0,0,0,0.17,0,0,34,0.06,0,0,0,0,94,1,0,94,Y\n",
      "0,3,6,0,0,0,2,0,0,0,2,1,25,1,0,0,0,0,0,0,0,0,0,0,0,0,0,0.5,0,0,25,0.01,0,0,0,0,399,1,0,399,N\n",
      "0,1,8,0,0,0,1,0,0,0,1,1,21,1,0,0,0,0,0,0,0,0,0,0,0,0,0,1,0,0,22,0.01,0,0,0,0,69,1,0,69,Y\n",
      "0,1,2,0,0,0,1,0,0,0,1,1,6,1,0,0,0,0,0,0,0,0,0,0,0,0,0,1,0,0,7,0.03,0,0,0,0,29,1,0,29,Y\n",
      "0,1,8,0,0,0,1,0,0,0,1,1,23,1,0,0,0,0,0,0,0,0,0,0,0,0,0,1,0,0,24,0.01,0,0,0,0,116,1,0,116,Y\n",
      "0,5,12,0,0,0,3,0,0,0,3,1,35,1,0,0,0,0,0,0,0,0,0,0,0,0,0,0.33,0,0,34,0.01,0,0,0,0,495,1,0,495,N\n",
      "0,197,11,0,0,0,99,0,0,0,99,1,684,1,0,0,0,0,0,0,0,0,0,0,0,0,0,0.01,0,0,587,0.15,0,0,0,0,672,1,0,672,Y\n",
      "0,3,8,0,0,0,2,0,0,0,2,1,37,1,0,0,0,0,0,0,0,0,0,0,0,0,0,0.5,0,0,37,0.03,0,0,0,0,58,1,0,58,Y\n",
      "0,1,1,0,0,0,1,0,0,0,1,1,6,1,0,0,0,0,0,0,0,0,0,0,0,0,0,1,0,0,7,0,0,0,0,0,797,1,0,797,N\n",
      "0,9,2,0,0,0,5,0,0,0,2,0.4,29,1,0,0,0,0,0,0,0,0,0,0,0,0,0,0.2,0,0,26,0.12,0,0,0,0,41,1,0,41,Y\n",
      "0,1,3,0,0,0,1,0,0,0,1,1,22,1,0,0,0,0,0,0,0,0,0,0,0,0,0,1,0,0,23,0.03,0,0,0,0,34,1,0,34,Y\n",
      "0,1,1,0,0,0,1,0,0,0,1,1,5,1,0,0,0,0,0,0,0,0,0,0,0,0,0,1,0,0,6,0.01,0,0,0,0,79,1,0,79,N\n",
      "0,23,10,0,0,0,12,0,0,0,12,1,121,1,0,0,0,0,0,0,0,0,0,0,0,0,0,0.08,0,0,111,0.1,0,0,0,0,124,1,0,124,Y\n",
      "0,3,8,0,0,0,2,0,0,0,2,1,38,1,0,0,0,0,0,0,0,0,0,0,0,0,0,0.5,0,0,38,0.03,0,0,0,0,58,1,0,58,Y\n",
      "0,1,1,0,0,0,1,0,0,0,1,1,6,1,0,0,0,0,0,0,0,0,0,0,0,0,0,1,0,0,7,0,0,0,0,0,248,1,0,248,N\n",
      "0,1,4,0,0,0,1,0,0,0,1,1,64,1,0,0,0,0,0,0,0,0,0,0,0,0,0,1,0,0,65,0.01,0,0,0,0,80,1,0,80,N\n",
      "0,1,1,0,0,0,1,0,0,0,1,1,4,1,0,0,0,0,0,0,0,0,0,0,0,0,0,1,0,0,5,0.01,0,0,0,0,83,1,0,83,N\n",
      "0,17,10,0,0,0,9,0,0,0,8,0.89,127,1,0,0,0,0,0,0,0,0,0,0,0,0,0,0.11,0,0,120,0.07,0,0,0,0,132,1,0,132,Y\n",
      "0,3,9,0,0,0,2,0,0,0,2,1,39,1,0,0,0,0,0,0,0,0,0,0,0,0,0,0.5,0,0,39,0.03,0,0,0,0,59,1,0,59,N\n",
      "0,1,1,0,0,0,1,0,0,0,1,1,6,1,0,0,0,0,0,0,0,0,0,0,0,0,0,1,0,0,7,0,0,0,0,0,257,1,0,257,N\n",
      "0,21,9,0,0,0,11,0,0,0,9,0.82,138,1,0,0,0,0,0,0,0,0,0,0,0,0,0,0.09,0,0,129,0.05,0,0,0,0,213,1,0,213,Y\n",
      "0,3,8,0,0,0,2,0,0,0,2,1,39,1,0,0,0,0,0,0,0,0,0,0,0,0,0,0.5,0,0,39,0.03,0,0,0,0,59,1,0,59,Y\n",
      "0,1,1,0,0,0,1,0,0,0,1,1,6,1,0,0,0,0,0,0,0,0,0,0,0,0,0,1,0,0,7,0,0,0,0,0,338,1,0,338,N\n",
      "0,9,8,0,0,0,5,0,0,0,4,0.8,49,1,0,0,0,0,0,0,0,0,0,0,0,0,0,0.2,0,0,46,0.07,0,0,0,0,71,1,0,71,Y\n",
      "0,1,3,0,0,0,1,0,0,0,1,1,9,1,0,0,0,0,0,0,0,0,0,0,0,0,0,1,0,0,10,0.05,0,0,0,0,22,1,0,22,N\n",
      "0,1,1,0,0,0,1,0,0,0,1,1,5,1,0,0,0,0,0,0,0,0,0,0,0,0,0,1,0,0,6,0.01,0,0,0,0,96,1,0,96,N\n",
      "0,1,1,0,0,0,1,0,0,0,1,1,4,1,0,0,0,0,0,0,0,0,0,0,0,0,0,1,0,0,5,0.05,0,0,0,0,19,1,0,19,N\n",
      "0,1,3,0,0,0,1,0,0,0,1,1,9,1,0,0,0,0,0,0,0,0,0,0,0,0,0,1,0,0,10,0.05,0,0,0,0,22,1,0,22,N\n",
      "0,1,1,0,0,0,1,0,0,0,1,1,5,1,0,0,0,0,0,0,0,0,0,0,0,0,0,1,0,0,6,0.02,0,0,0,0,44,1,0,44,N\n",
      "0,7,10,0,0,0,4,0,0,0,4,1,40,1,0,0,0,0,0,0,0,0,0,0,0,0,0,0.25,0,0,38,0.08,0,0,0,0,50,1,0,50,Y\n",
      "0,1,3,0,0,0,1,0,0,0,1,1,9,1,0,0,0,0,0,0,0,0,0,0,0,0,0,1,0,0,10,0.05,0,0,0,0,22,1,0,22,N\n",
      "0,1,1,0,0,0,1,0,0,0,1,1,5,1,0,0,0,0,0,0,0,0,0,0,0,0,0,1,0,0,6,0.01,0,0,0,0,76,1,0,76,N\n",
      "0,7,2,0,0,0,4,0,0,0,1,0.25,35,1,0,0,0,0,0,0,0,0,0,0,0,0,0,0.25,0,0,33,0.12,0,0,0,0,34,1,0,34,N\n",
      "0,1,8,0,0,0,1,0,0,0,1,1,40,1,0,0,0,0,0,0,0,0,0,0,0,0,0,1,0,0,41,0.01,0,0,0,0,73,1,0,73,N\n",
      "0,3,8,0,0,0,2,0,0,0,2,1,25,1,0,0,0,0,0,0,0,0,0,0,0,0,0,0.5,0,0,25,0.01,0,0,0,0,202,1,0,202,Y\n",
      "0,5,8,0,0,0,3,0,0,0,2,0.67,54,1,0,0,0,0,0,0,0,0,0,0,0,0,0,0.33,0,0,53,0.03,0,0,0,0,96,1,0,96,Y\n",
      "0,5,8,0,0,0,3,0,0,0,2,0.67,55,1,0,0,0,0,0,0,0,0,0,0,0,0,0,0.33,0,0,54,0.03,0,0,0,0,116,1,0,116,N\n",
      "0,5,8,0,0,0,3,0,0,0,3,1,59,1,0,0,0,0,0,0,0,0,0,0,0,0,0,0.33,0,0,58,0.02,0,0,0,0,173,1,0,173,N\n",
      "0,7,10,0,0,0,4,0,0,0,4,1,38,1,0,0,0,0,0,0,0,0,0,0,0,0,0,0.25,0,0,36,0.01,0,0,0,0,633,1,0,633,N\n",
      "0,37,13,0,0,0,19,0,0,0,13,0.68,183,1,0,0,0,0,0,0,0,0,0,0,0,0,0,0.05,0,0,166,0.1,0,0,0,0,194,1,0,194,Y\n",
      "0,3,9,0,0,0,2,0,0,0,2,1,39,1,0,0,0,0,0,0,0,0,0,0,0,0,0,0.5,0,0,39,0.03,0,0,0,0,61,1,0,61,Y\n",
      "0,1,1,0,0,0,1,0,0,0,1,1,7,1,0,0,0,0,0,0,0,0,0,0,0,0,0,1,0,0,8,0,0,0,0,0,341,1,0,341,N\n",
      "0,3,1,0,0,0,2,0,0,0,2,1,13,1,0,0,0,0,0,0,0,0,0,0,0,0,0,0.5,0,0,13,0.11,0,0,0,0,18,1,0,18,N\n",
      "0,9,2,0,0,0,5,0,0,0,2,0.4,29,1,0,0,0,0,0,0,0,0,0,0,0,0,0,0.2,0,0,26,0.12,0,0,0,0,41,1,0,41,Y\n",
      "0,15,4,0,0,0,8,0,0,0,1,0.13,72,1,0,0,0,0,0,0,0,0,0,0,0,0,0,0.13,0,0,66,0.1,0,0,0,0,77,1,0,77,Y\n",
      "0,1,1,0,0,0,1,0,0,0,1,1,5,1,0,0,0,0,0,0,0,0,0,0,0,0,0,1,0,0,6,0.01,0,0,0,0,122,1,0,122,N\n",
      "0,9,2,0,0,0,5,0,0,0,2,0.4,30,1,0,0,0,0,0,0,0,0,0,0,0,0,0,0.2,0,0,27,0.12,0,0,0,0,42,1,0,42,N\n",
      "0,15,8,0,0,0,8,0,0,0,1,0.13,83,1,0,0,0,0,0,0,0,0,0,0,0,0,0,0.13,0,0,77,0.08,0,0,0,0,96,1,0,96,Y\n",
      "0,1,1,0,0,0,1,0,0,0,1,1,5,1,0,0,0,0,0,0,0,0,0,0,0,0,0,1,0,0,6,0.01,0,0,0,0,142,1,0,142,N\n",
      "0,1,2,0,0,0,1,0,0,0,1,1,78,1,0,0,0,0,0,0,0,0,0,0,0,0,0,1,0,0,79,0.01,0,0,0,0,80,1,0,80,N\n",
      "0,51,11,0,0,0,26,0,0,0,20,0.77,233,1,0,0,0,0,0,0,0,0,0,0,0,0,0,0.04,0,0,209,0.11,0,0,0,0,228,1,0,228,Y\n",
      "0,3,9,0,0,0,2,0,0,0,2,1,39,1,0,0,0,0,0,0,0,0,0,0,0,0,0,0.5,0,0,39,0.03,0,0,0,0,59,1,0,59,Y\n",
      "0,1,1,0,0,0,1,0,0,0,1,1,6,1,0,0,0,0,0,0,0,0,0,0,0,0,0,1,0,0,7,0,0,0,0,0,353,1,0,353,N\n",
      "0,9,10,0,0,0,5,0,0,0,5,1,67,1,0,0,0,0,0,0,0,0,0,0,0,0,0,0.2,0,0,64,0.06,0,0,0,0,79,1,0,79,N\n",
      "0,35,2,0,0,0,18,0,0,0,2,0.11,93,1,0,0,0,0,0,0,0,0,0,0,0,0,0,0.06,0,0,77,0.23,0,0,0,0,78,1,0,78,Y\n",
      "0,11,13,0,0,0,6,0,0,0,6,1,80,1,0,0,0,0,0,0,0,0,0,0,0,0,0,0.17,0,0,76,0.05,0,0,0,0,112,1,0,112,Y\n",
      "0,1,1,0,0,0,1,0,0,0,1,1,8,1,0,0,0,0,0,0,0,0,0,0,0,0,0,1,0,0,9,0,0,0,0,0,2571,1,0,2571,Y\n",
      "0,461,19,0,0,0,231,0,0,0,190,0.82,1940,1,0,0,0,0,0,0,0,0,0,0,0,0,0,0,0,0,1711,0.13,0,0,0,0,1832,1,0,1832,Y\n",
      "0,97,11,0,0,0,49,0,0,0,47,0.96,462,1,0,0,0,0,0,0,0,0,0,0,0,0,0,0.02,0,0,415,0.11,0,0,0,0,463,1,0,463,Y\n",
      "0,5,8,0,0,0,3,0,0,0,3,1,19,1,0,0,0,0,0,0,0,0,0,0,0,0,0,0.33,0,0,18,0.15,0,0,0,0,20,1,0,20,N\n",
      "0,7,8,0,0,0,4,0,0,0,4,1,36,1,0,0,0,0,0,0,0,0,0,0,0,0,0,0.25,0,0,34,0.07,0,0,0,0,55,1,0,55,N\n",
      "0,1,1,0,0,0,1,0,0,0,1,1,7,1,0,0,0,0,0,0,0,0,0,0,0,0,0,1,0,0,8,0.01,0,0,0,0,121,1,0,121,N\n",
      "0,5,8,0,0,0,3,0,0,0,3,1,19,1,0,0,0,0,0,0,0,0,0,0,0,0,0,0.33,0,0,18,0.15,0,0,0,0,20,1,0,20,N\n",
      "0,5,8,0,0,0,3,0,0,0,3,1,19,1,0,0,0,0,0,0,0,0,0,0,0,0,0,0.33,0,0,18,0.15,0,0,0,0,20,1,0,20,N\n",
      "0,1,3,0,0,0,1,0,0,0,1,1,9,1,0,0,0,0,0,0,0,0,0,0,0,0,0,1,0,0,10,0.05,0,0,0,0,22,1,0,22,Y\n",
      "0,1,1,0,0,0,1,0,0,0,1,1,5,1,0,0,0,0,0,0,0,0,0,0,0,0,0,1,0,0,6,0.01,0,0,0,0,92,1,0,92,N\n",
      "0,9,10,0,0,0,5,0,0,0,4,0.8,43,1,0,0,0,0,0,0,0,0,0,0,0,0,0,0.2,0,0,40,0.08,0,0,0,0,66,1,0,66,Y\n",
      "0,1,2,0,0,0,1,0,0,0,1,1,8,1,0,0,0,0,0,0,0,0,0,0,0,0,0,1,0,0,9,0.02,0,0,0,0,41,1,0,41,Y\n",
      "0,3,8,0,0,0,2,0,0,0,2,1,36,1,0,0,0,0,0,0,0,0,0,0,0,0,0,0.5,0,0,36,0.01,0,0,0,0,151,1,0,151,N\n",
      "0,25,2,0,0,0,13,0,0,0,2,0.15,68,1,0,0,0,0,0,0,0,0,0,0,0,0,0,0.08,0,0,57,0.2,0,0,0,0,64,1,0,64,Y\n",
      "0,3,9,0,0,0,2,0,0,0,2,1,39,1,0,0,0,0,0,0,0,0,0,0,0,0,0,0.5,0,0,39,0.03,0,0,0,0,59,1,0,59,N\n",
      "0,1,1,0,0,0,1,0,0,0,1,1,6,1,0,0,0,0,0,0,0,0,0,0,0,0,0,1,0,0,7,0,0,0,0,0,204,1,0,204,N\n",
      "0,11,9,0,0,0,6,0,0,0,6,1,72,1,0,0,0,0,0,0,0,0,0,0,0,0,0,0.17,0,0,68,0.08,0,0,0,0,76,1,0,76,Y\n"
     ]
    }
   ],
   "source": [
    "KC4 = open(\"KC4.arff\", 'r')\n",
    "content = KC4.read()\n",
    "print(content)\n"
   ]
  },
  {
   "cell_type": "markdown",
   "metadata": {},
   "source": [
    "Os dados não podem ser analisados como estão pois todos os arquivos contém o mesmo texto inicial exposto anteriormente. <br>\n",
    "A função abaixo é responsável por remover as linhas que não correspondem a dados e criar arquivos csv com o cabeçalho e dados formatados."
   ]
  },
  {
   "cell_type": "code",
   "execution_count": 4,
   "metadata": {
    "scrolled": true
   },
   "outputs": [],
   "source": [
    "def cleanDataset(file):\n",
    "    f = open(file)\n",
    "    newfilename = file.split('.')\n",
    "    output = []\n",
    "    i = 0;\n",
    "\n",
    "    for line in f:\n",
    "        if(i>44):\n",
    "            output.append(line)\n",
    "        i = i+1\n",
    "    \n",
    "    f.close()\n",
    "    newfile = open(newfilename[0]+\".csv\", 'w+')\n",
    "    if(newfilename[0]!= \"MC1\") and (newfilename[0]!= \"PC5\"):\n",
    "        newfile.write(\"LOC_BLANK,BRANCH_COUNT,CALL_PAIRS,LOC_CODE_AND_COMMENT,LOC_COMMENTS,CONDITION_COUNT,CYCLOMATIC_COMPLEXITY,CYCLOMATIC_DENSITY,DECISION_COUNT,DECISION_DENSITY,DESIGN_COMPLEXITY,DESIGN_DENSITY,EDGE_COUNT,ESSENTIAL_COMPLEXITY,ESSENTIAL_DENSITY,LOC_EXECUTABLE,PARAMETER_COUNT,GLOBAL_DATA_COMPLEXITY,GLOBAL_DATA_DENSITY,HALSTEAD_CONTENT,HALSTEAD_DIFFICULTY,HALSTEAD_EFFORT,HALSTEAD_ERROR_EST,HALSTEAD_LENGTH,HALSTEAD_LEVEL,HALSTEAD_PROG_TIME,HALSTEAD_VOLUME,MAINTENANCE_SEVERITY,MODIFIED_CONDITION_COUNT,MULTIPLE_CONDITION_COUNT,NODE_COUNT,NORMALIZED_CYLOMATIC_COMPLEXITY,NUM_OPERANDS,NUM_OPERATORS,NUM_UNIQUE_OPERANDS,NUM_UNIQUE_OPERATORS,NUMBER_OF_LINES,PATHOLOGICAL_COMPLEXITY,PERCENT_COMMENTS,LOC_TOTAL,Defective\"+\"\\n\")\n",
    "    else:\n",
    "        newfile.write(\"LOC_BLANK,BRANCH_COUNT,CALL_PAIRS,LOC_CODE_AND_COMMENT,LOC_COMMENTS,CONDITION_COUNT,CYCLOMATIC_COMPLEXITY,CYCLOMATIC_DENSITY,DECISION_COUNT,DESIGN_COMPLEXITY,DESIGN_DENSITY,EDGE_COUNT,ESSENTIAL_COMPLEXITY,ESSENTIAL_DENSITY,LOC_EXECUTABLE,PARAMETER_COUNT,GLOBAL_DATA_COMPLEXITY,GLOBAL_DATA_DENSITY,HALSTEAD_CONTENT,HALSTEAD_DIFFICULTY,HALSTEAD_EFFORT,HALSTEAD_ERROR_EST,HALSTEAD_LENGTH,HALSTEAD_LEVEL,HALSTEAD_PROG_TIME,HALSTEAD_VOLUME,MAINTENANCE_SEVERITY,MODIFIED_CONDITION_COUNT,MULTIPLE_CONDITION_COUNT,NODE_COUNT,NORMALIZED_CYLOMATIC_COMPLEXITY,NUM_OPERANDS,NUM_OPERATORS,NUM_UNIQUE_OPERANDS,NUM_UNIQUE_OPERATORS,NUMBER_OF_LINES,PATHOLOGICAL_COMPLEXITY,PERCENT_COMMENTS,LOC_TOTAL,Defective\"+\"\\n\")\n",
    "\n",
    "    newfile.writelines(output)\n",
    "    f.close()"
   ]
  },
  {
   "cell_type": "markdown",
   "metadata": {},
   "source": [
    "É necessário chamar a função criada passando como parrametro cada um dos arquivos do diretório."
   ]
  },
  {
   "cell_type": "code",
   "execution_count": 5,
   "metadata": {},
   "outputs": [],
   "source": [
    "for file in files:\n",
    "    cleanDataset(file)"
   ]
  },
  {
   "cell_type": "markdown",
   "metadata": {},
   "source": [
    "Após a execução da função pode-se observar que os arquivos csv foram criados."
   ]
  },
  {
   "cell_type": "code",
   "execution_count": 6,
   "metadata": {},
   "outputs": [
    {
     "name": "stdout",
     "output_type": "stream",
     "text": [
      "CM1.csv\n",
      "KC3.csv\n",
      "KC4.csv\n",
      "MC1.csv\n",
      "MC2.csv\n",
      "MW1.csv\n",
      "PC1.csv\n",
      "PC2.csv\n",
      "PC3.csv\n",
      "PC4.csv\n",
      "PC5.csv\n"
     ]
    }
   ],
   "source": [
    "os.chdir(os.getcwd())\n",
    "for file in glob.glob(\"*.csv\"):\n",
    "    print(file)"
   ]
  },
  {
   "cell_type": "markdown",
   "metadata": {},
   "source": [
    "Os datasets MC1 e PC5 não tem a coluna DECISION_DENSITY, então esta coluna será removida para que os datasets possam ser unificados."
   ]
  },
  {
   "cell_type": "code",
   "execution_count": 7,
   "metadata": {
    "scrolled": true
   },
   "outputs": [],
   "source": [
    "CM1 = pd.read_csv('CM1.csv').drop('DECISION_DENSITY',axis=1)\n",
    "KC3 = pd.read_csv('KC3.csv').drop('DECISION_DENSITY',axis=1)\n",
    "KC4 = pd.read_csv('KC4.csv').drop('DECISION_DENSITY',axis=1)\n",
    "MC1 = pd.read_csv('MC1.csv')\n",
    "MW1 = pd.read_csv('MC2.csv').drop('DECISION_DENSITY',axis=1)\n",
    "MC2 = pd.read_csv('MC2.csv').drop('DECISION_DENSITY',axis=1)\n",
    "PC1 = pd.read_csv('PC1.csv').drop('DECISION_DENSITY',axis=1)\n",
    "PC2 = pd.read_csv('PC2.csv').drop('DECISION_DENSITY',axis=1)\n",
    "PC3 = pd.read_csv('PC3.csv').drop('DECISION_DENSITY',axis=1)\n",
    "PC4 = pd.read_csv('PC4.csv').drop('DECISION_DENSITY',axis=1)\n",
    "PC5 = pd.read_csv('PC5.csv')"
   ]
  },
  {
   "cell_type": "markdown",
   "metadata": {},
   "source": [
    "Nos datasets, não está presente a linguagem de cada software, mas para a análise pode ser interessante analisa-la também, então para isso foram adicionadas de acordo com as descrita em (Gray et al. 2011).  "
   ]
  },
  {
   "cell_type": "code",
   "execution_count": 8,
   "metadata": {},
   "outputs": [],
   "source": [
    "CM1['LANGUAGE'] = \"C\"\n",
    "KC3['LANGUAGE'] = \"Java\"\n",
    "KC4['LANGUAGE'] = \"Perl\"\n",
    "MC1['LANGUAGE'] = \"C - C++\"\n",
    "MC2['LANGUAGE'] = \"C++\"\n",
    "MW1['LANGUAGE'] = \"C\"\n",
    "PC1['LANGUAGE'] = \"C\"\n",
    "PC2['LANGUAGE'] = \"C\"\n",
    "PC3['LANGUAGE'] = \"C\"\n",
    "PC4['LANGUAGE'] = \"C\"\n",
    "PC5['LANGUAGE'] = \"C++\""
   ]
  },
  {
   "cell_type": "markdown",
   "metadata": {},
   "source": [
    "Para unificar os datasets e manter o software que cada dataset está relacionado, foi adicionado mais uma coluna contendo esta informação."
   ]
  },
  {
   "cell_type": "code",
   "execution_count": 9,
   "metadata": {},
   "outputs": [],
   "source": [
    "CM1['SOFTWARE'] = \"CM1\"\n",
    "KC3['SOFTWARE'] = \"KC3\"\n",
    "KC4['SOFTWARE'] = \"KC4\"\n",
    "MC1['SOFTWARE'] = \"MC1\"\n",
    "MC2['SOFTWARE'] = \"MC2\"\n",
    "MW1['SOFTWARE'] = \"MW1\"\n",
    "PC1['SOFTWARE'] = \"PC1\"\n",
    "PC2['SOFTWARE'] = \"PC2\"\n",
    "PC3['SOFTWARE'] = \"pC3\"\n",
    "PC4['SOFTWARE'] = \"PC4\"\n",
    "PC5['SOFTWARE'] = \"PC5\""
   ]
  },
  {
   "cell_type": "markdown",
   "metadata": {},
   "source": [
    "Após adicionar as informações descritas anteriormente, é possivel realizar a junção dos datasets."
   ]
  },
  {
   "cell_type": "code",
   "execution_count": 10,
   "metadata": {},
   "outputs": [],
   "source": [
    "data = pd.concat([CM1,KC3,KC4,MC2,MW1,PC1,PC2,PC3,PC4,PC5], ignore_index=True, sort=True)"
   ]
  },
  {
   "cell_type": "code",
   "execution_count": 11,
   "metadata": {
    "scrolled": true
   },
   "outputs": [
    {
     "name": "stdout",
     "output_type": "stream",
     "text": [
      "<class 'pandas.core.frame.DataFrame'>\n",
      "RangeIndex: 28313 entries, 0 to 28312\n",
      "Data columns (total 42 columns):\n",
      "BRANCH_COUNT                       28313 non-null int64\n",
      "CALL_PAIRS                         28313 non-null int64\n",
      "CONDITION_COUNT                    28313 non-null int64\n",
      "CYCLOMATIC_COMPLEXITY              28313 non-null int64\n",
      "CYCLOMATIC_DENSITY                 28313 non-null float64\n",
      "DECISION_COUNT                     28313 non-null int64\n",
      "DESIGN_COMPLEXITY                  28313 non-null int64\n",
      "DESIGN_DENSITY                     28313 non-null float64\n",
      "Defective                          28313 non-null object\n",
      "EDGE_COUNT                         28313 non-null int64\n",
      "ESSENTIAL_COMPLEXITY               28313 non-null int64\n",
      "ESSENTIAL_DENSITY                  28313 non-null float64\n",
      "GLOBAL_DATA_COMPLEXITY             28313 non-null int64\n",
      "GLOBAL_DATA_DENSITY                28313 non-null float64\n",
      "HALSTEAD_CONTENT                   28313 non-null float64\n",
      "HALSTEAD_DIFFICULTY                28313 non-null float64\n",
      "HALSTEAD_EFFORT                    28313 non-null float64\n",
      "HALSTEAD_ERROR_EST                 28313 non-null float64\n",
      "HALSTEAD_LENGTH                    28313 non-null int64\n",
      "HALSTEAD_LEVEL                     28313 non-null float64\n",
      "HALSTEAD_PROG_TIME                 28313 non-null float64\n",
      "HALSTEAD_VOLUME                    28313 non-null float64\n",
      "LANGUAGE                           28313 non-null object\n",
      "LOC_BLANK                          28313 non-null int64\n",
      "LOC_CODE_AND_COMMENT               28313 non-null int64\n",
      "LOC_COMMENTS                       28313 non-null int64\n",
      "LOC_EXECUTABLE                     28313 non-null int64\n",
      "LOC_TOTAL                          28313 non-null int64\n",
      "MAINTENANCE_SEVERITY               28313 non-null float64\n",
      "MODIFIED_CONDITION_COUNT           28313 non-null int64\n",
      "MULTIPLE_CONDITION_COUNT           28313 non-null int64\n",
      "NODE_COUNT                         28313 non-null int64\n",
      "NORMALIZED_CYLOMATIC_COMPLEXITY    28313 non-null float64\n",
      "NUMBER_OF_LINES                    28313 non-null int64\n",
      "NUM_OPERANDS                       28313 non-null int64\n",
      "NUM_OPERATORS                      28313 non-null int64\n",
      "NUM_UNIQUE_OPERANDS                28313 non-null int64\n",
      "NUM_UNIQUE_OPERATORS               28313 non-null int64\n",
      "PARAMETER_COUNT                    28313 non-null int64\n",
      "PATHOLOGICAL_COMPLEXITY            28313 non-null int64\n",
      "PERCENT_COMMENTS                   28313 non-null float64\n",
      "SOFTWARE                           28313 non-null object\n",
      "dtypes: float64(14), int64(25), object(3)\n",
      "memory usage: 9.1+ MB\n"
     ]
    }
   ],
   "source": [
    "data.info()"
   ]
  },
  {
   "cell_type": "markdown",
   "metadata": {},
   "source": [
    "A coluna Defective deve ser do tipo boolean, para realizar essa alteração foi utilizada a solução encontrada em https://stackoverflow.com/questions/17702272/convert-pandas-series-containing-string-to-boolean"
   ]
  },
  {
   "cell_type": "code",
   "execution_count": 12,
   "metadata": {},
   "outputs": [],
   "source": [
    "d = {'Y': 1, 'N': 0}\n",
    "data['Defective'] = data['Defective'].map(d)"
   ]
  },
  {
   "cell_type": "code",
   "execution_count": 13,
   "metadata": {},
   "outputs": [],
   "source": [
    "data = data[['HALSTEAD_CONTENT',\n",
    "'HALSTEAD_DIFFICULTY',\n",
    "'HALSTEAD_EFFORT',\n",
    "'HALSTEAD_ERROR_EST',\n",
    "'HALSTEAD_LENGTH',\n",
    "'HALSTEAD_LEVEL',\n",
    "'HALSTEAD_PROG_TIME',\n",
    "'HALSTEAD_VOLUME','SOFTWARE','LANGUAGE','Defective']]"
   ]
  },
  {
   "cell_type": "code",
   "execution_count": 14,
   "metadata": {
    "scrolled": true
   },
   "outputs": [
    {
     "data": {
      "text/html": [
       "<div>\n",
       "<style scoped>\n",
       "    .dataframe tbody tr th:only-of-type {\n",
       "        vertical-align: middle;\n",
       "    }\n",
       "\n",
       "    .dataframe tbody tr th {\n",
       "        vertical-align: top;\n",
       "    }\n",
       "\n",
       "    .dataframe thead th {\n",
       "        text-align: right;\n",
       "    }\n",
       "</style>\n",
       "<table border=\"1\" class=\"dataframe\">\n",
       "  <thead>\n",
       "    <tr style=\"text-align: right;\">\n",
       "      <th></th>\n",
       "      <th>HALSTEAD_CONTENT</th>\n",
       "      <th>HALSTEAD_DIFFICULTY</th>\n",
       "      <th>HALSTEAD_EFFORT</th>\n",
       "      <th>HALSTEAD_ERROR_EST</th>\n",
       "      <th>HALSTEAD_LENGTH</th>\n",
       "      <th>HALSTEAD_LEVEL</th>\n",
       "      <th>HALSTEAD_PROG_TIME</th>\n",
       "      <th>HALSTEAD_VOLUME</th>\n",
       "      <th>SOFTWARE</th>\n",
       "      <th>LANGUAGE</th>\n",
       "      <th>Defective</th>\n",
       "    </tr>\n",
       "  </thead>\n",
       "  <tbody>\n",
       "    <tr>\n",
       "      <th>0</th>\n",
       "      <td>32.54</td>\n",
       "      <td>9.50</td>\n",
       "      <td>2936.77</td>\n",
       "      <td>0.10</td>\n",
       "      <td>63</td>\n",
       "      <td>0.11</td>\n",
       "      <td>163.15</td>\n",
       "      <td>309.13</td>\n",
       "      <td>CM1</td>\n",
       "      <td>C</td>\n",
       "      <td>0</td>\n",
       "    </tr>\n",
       "    <tr>\n",
       "      <th>1</th>\n",
       "      <td>38.55</td>\n",
       "      <td>21.52</td>\n",
       "      <td>17846.19</td>\n",
       "      <td>0.28</td>\n",
       "      <td>141</td>\n",
       "      <td>0.05</td>\n",
       "      <td>991.46</td>\n",
       "      <td>829.45</td>\n",
       "      <td>CM1</td>\n",
       "      <td>C</td>\n",
       "      <td>1</td>\n",
       "    </tr>\n",
       "    <tr>\n",
       "      <th>2</th>\n",
       "      <td>52.03</td>\n",
       "      <td>12.33</td>\n",
       "      <td>7914.68</td>\n",
       "      <td>0.21</td>\n",
       "      <td>111</td>\n",
       "      <td>0.08</td>\n",
       "      <td>439.70</td>\n",
       "      <td>641.73</td>\n",
       "      <td>CM1</td>\n",
       "      <td>C</td>\n",
       "      <td>1</td>\n",
       "    </tr>\n",
       "    <tr>\n",
       "      <th>3</th>\n",
       "      <td>17.43</td>\n",
       "      <td>2.00</td>\n",
       "      <td>69.74</td>\n",
       "      <td>0.01</td>\n",
       "      <td>11</td>\n",
       "      <td>0.50</td>\n",
       "      <td>3.87</td>\n",
       "      <td>34.87</td>\n",
       "      <td>CM1</td>\n",
       "      <td>C</td>\n",
       "      <td>0</td>\n",
       "    </tr>\n",
       "    <tr>\n",
       "      <th>4</th>\n",
       "      <td>14.62</td>\n",
       "      <td>6.43</td>\n",
       "      <td>604.36</td>\n",
       "      <td>0.03</td>\n",
       "      <td>23</td>\n",
       "      <td>0.16</td>\n",
       "      <td>33.58</td>\n",
       "      <td>94.01</td>\n",
       "      <td>CM1</td>\n",
       "      <td>C</td>\n",
       "      <td>0</td>\n",
       "    </tr>\n",
       "  </tbody>\n",
       "</table>\n",
       "</div>"
      ],
      "text/plain": [
       "   HALSTEAD_CONTENT  HALSTEAD_DIFFICULTY  HALSTEAD_EFFORT  HALSTEAD_ERROR_EST  \\\n",
       "0             32.54                 9.50          2936.77                0.10   \n",
       "1             38.55                21.52         17846.19                0.28   \n",
       "2             52.03                12.33          7914.68                0.21   \n",
       "3             17.43                 2.00            69.74                0.01   \n",
       "4             14.62                 6.43           604.36                0.03   \n",
       "\n",
       "   HALSTEAD_LENGTH  HALSTEAD_LEVEL  HALSTEAD_PROG_TIME  HALSTEAD_VOLUME  \\\n",
       "0               63            0.11              163.15           309.13   \n",
       "1              141            0.05              991.46           829.45   \n",
       "2              111            0.08              439.70           641.73   \n",
       "3               11            0.50                3.87            34.87   \n",
       "4               23            0.16               33.58            94.01   \n",
       "\n",
       "  SOFTWARE LANGUAGE  Defective  \n",
       "0      CM1        C          0  \n",
       "1      CM1        C          1  \n",
       "2      CM1        C          1  \n",
       "3      CM1        C          0  \n",
       "4      CM1        C          0  "
      ]
     },
     "execution_count": 14,
     "metadata": {},
     "output_type": "execute_result"
    }
   ],
   "source": [
    "data.head()"
   ]
  },
  {
   "cell_type": "code",
   "execution_count": 15,
   "metadata": {
    "scrolled": true
   },
   "outputs": [
    {
     "data": {
      "text/plain": [
       "Index(['HALSTEAD_CONTENT', 'HALSTEAD_DIFFICULTY', 'HALSTEAD_EFFORT',\n",
       "       'HALSTEAD_ERROR_EST', 'HALSTEAD_LENGTH', 'HALSTEAD_LEVEL',\n",
       "       'HALSTEAD_PROG_TIME', 'HALSTEAD_VOLUME', 'SOFTWARE', 'LANGUAGE',\n",
       "       'Defective'],\n",
       "      dtype='object')"
      ]
     },
     "execution_count": 15,
     "metadata": {},
     "output_type": "execute_result"
    }
   ],
   "source": [
    "data.columns"
   ]
  },
  {
   "cell_type": "markdown",
   "metadata": {},
   "source": [
    "Após a junção é interessante saber a quantidade de registros referente a cada linguaguem e software."
   ]
  },
  {
   "cell_type": "code",
   "execution_count": 16,
   "metadata": {
    "scrolled": true
   },
   "outputs": [
    {
     "data": {
      "text/plain": [
       "<matplotlib.axes._subplots.AxesSubplot at 0x20e0fc6ca58>"
      ]
     },
     "execution_count": 16,
     "metadata": {},
     "output_type": "execute_result"
    },
    {
     "data": {
      "image/png": "[encoded data removed]",
      "text/plain": [
       "<Figure size 432x288 with 1 Axes>"
      ]
     },
     "metadata": {
      "needs_background": "light"
     },
     "output_type": "display_data"
    }
   ],
   "source": [
    "data['LANGUAGE'].value_counts().plot.barh(title=\"Linguagens\")"
   ]
  },
  {
   "cell_type": "code",
   "execution_count": 17,
   "metadata": {},
   "outputs": [
    {
     "data": {
      "text/plain": [
       "<matplotlib.axes._subplots.AxesSubplot at 0x20e10eae0f0>"
      ]
     },
     "execution_count": 17,
     "metadata": {},
     "output_type": "execute_result"
    },
    {
     "data": {
      "image/png": "[encoded data removed]",
      "text/plain": [
       "<Figure size 432x288 with 1 Axes>"
      ]
     },
     "metadata": {
      "needs_background": "light"
     },
     "output_type": "display_data"
    }
   ],
   "source": [
    "data['SOFTWARE'].value_counts().plot.barh(title=\"Software\")"
   ]
  },
  {
   "cell_type": "markdown",
   "metadata": {},
   "source": [
    "A relação de observações que apresentaram ou não falha."
   ]
  },
  {
   "cell_type": "code",
   "execution_count": 18,
   "metadata": {
    "scrolled": true
   },
   "outputs": [
    {
     "data": {
      "text/plain": [
       "<matplotlib.axes._subplots.AxesSubplot at 0x20e10f25358>"
      ]
     },
     "execution_count": 18,
     "metadata": {},
     "output_type": "execute_result"
    },
    {
     "data": {
      "image/png": "[encoded data removed]",
      "text/plain": [
       "<Figure size 432x288 with 1 Axes>"
      ]
     },
     "metadata": {
      "needs_background": "light"
     },
     "output_type": "display_data"
    }
   ],
   "source": [
    "data['Defective'].value_counts().plot.barh(title=\"Defeitos\")"
   ]
  },
  {
   "cell_type": "markdown",
   "metadata": {},
   "source": [
    "Matriz de correlação dos dados."
   ]
  },
  {
   "cell_type": "code",
   "execution_count": 19,
   "metadata": {
    "scrolled": false
   },
   "outputs": [
    {
     "data": {
      "image/png": "[encoded data removed]",
      "text/plain": [
       "<Figure size 720x720 with 2 Axes>"
      ]
     },
     "metadata": {
      "needs_background": "light"
     },
     "output_type": "display_data"
    }
   ],
   "source": [
    "f,ax = plt.subplots(figsize = (10, 10))\n",
    "sns.heatmap(data.corr(), annot = True, linewidths = .2, fmt = '.2f')\n",
    "plt.show()"
   ]
  },
  {
   "cell_type": "markdown",
   "metadata": {},
   "source": [
    "Como se pode observar as linguagens que tem mais dados são C++ e C, tendo uma grande diferença entre os valores das outras, tendo isso em vista talvez seja interessnte analisar somente os software relativos a estas duas linguagens.<br>\n",
    "Por isso foi griado o subconjunto somente com estas informações."
   ]
  },
  {
   "cell_type": "code",
   "execution_count": 20,
   "metadata": {},
   "outputs": [],
   "source": [
    "newData = pd.concat([PC1,PC2,PC3,PC4,PC5, MC2, CM1, MW1], ignore_index=True, sort=True)"
   ]
  },
  {
   "cell_type": "code",
   "execution_count": 21,
   "metadata": {},
   "outputs": [],
   "source": [
    "newData['Defective'] = newData['Defective'].map(d)"
   ]
  },
  {
   "cell_type": "code",
   "execution_count": 22,
   "metadata": {},
   "outputs": [],
   "source": [
    "newData = newData[['HALSTEAD_CONTENT',\n",
    "'HALSTEAD_DIFFICULTY',\n",
    "'HALSTEAD_EFFORT',\n",
    "'HALSTEAD_ERROR_EST',\n",
    "'HALSTEAD_LENGTH',\n",
    "'HALSTEAD_LEVEL',\n",
    "'HALSTEAD_PROG_TIME',\n",
    "'HALSTEAD_VOLUME','SOFTWARE','LANGUAGE','Defective']]"
   ]
  },
  {
   "cell_type": "code",
   "execution_count": 23,
   "metadata": {},
   "outputs": [
    {
     "data": {
      "text/plain": [
       "<matplotlib.axes._subplots.AxesSubplot at 0x20e118cd780>"
      ]
     },
     "execution_count": 23,
     "metadata": {},
     "output_type": "execute_result"
    },
    {
     "data": {
      "image/png": "[encoded data removed]",
      "text/plain": [
       "<Figure size 432x288 with 1 Axes>"
      ]
     },
     "metadata": {
      "needs_background": "light"
     },
     "output_type": "display_data"
    }
   ],
   "source": [
    "newData['LANGUAGE'].value_counts().plot.barh(title=\"Linguagens\")"
   ]
  },
  {
   "cell_type": "code",
   "execution_count": 24,
   "metadata": {
    "scrolled": true
   },
   "outputs": [
    {
     "data": {
      "text/plain": [
       "<matplotlib.axes._subplots.AxesSubplot at 0x20e0fc31208>"
      ]
     },
     "execution_count": 24,
     "metadata": {},
     "output_type": "execute_result"
    },
    {
     "data": {
      "image/png": "[encoded data removed]",
      "text/plain": [
       "<Figure size 432x288 with 1 Axes>"
      ]
     },
     "metadata": {
      "needs_background": "light"
     },
     "output_type": "display_data"
    }
   ],
   "source": [
    "newData['SOFTWARE'].value_counts().plot.barh(title=\"Software\")"
   ]
  },
  {
   "cell_type": "code",
   "execution_count": 25,
   "metadata": {},
   "outputs": [
    {
     "data": {
      "text/plain": [
       "<matplotlib.axes._subplots.AxesSubplot at 0x20e12e47208>"
      ]
     },
     "execution_count": 25,
     "metadata": {},
     "output_type": "execute_result"
    },
    {
     "data": {
      "image/png": "[encoded data removed]",
      "text/plain": [
       "<Figure size 432x288 with 1 Axes>"
      ]
     },
     "metadata": {
      "needs_background": "light"
     },
     "output_type": "display_data"
    }
   ],
   "source": [
    "newData['Defective'].value_counts().plot.barh(title=\"Defeitos\")"
   ]
  },
  {
   "cell_type": "code",
   "execution_count": 26,
   "metadata": {},
   "outputs": [
    {
     "data": {
      "image/png": "[encoded data removed]",
      "text/plain": [
       "<Figure size 720x720 with 2 Axes>"
      ]
     },
     "metadata": {
      "needs_background": "light"
     },
     "output_type": "display_data"
    }
   ],
   "source": [
    "f,ax = plt.subplots(figsize = (10, 10))\n",
    "sns.heatmap(newData.corr(), annot = True, linewidths = .2, fmt = '.2f')\n",
    "plt.show()"
   ]
  },
  {
   "cell_type": "markdown",
   "metadata": {},
   "source": [
    "### <span style=\"color:#336699\">Referências</span>\n",
    "<hr>\n",
    "D. Gray, D. Bowes, N. Davey, Y. Sun and B. Christianson, \"The misuse of the NASA metrics data program data sets for automated software defect prediction,\" 15th Annual Conference on Evaluation & Assessment in Software Engineering (EASE 2011), Durham, 2011, pp. 96-103.\n",
    "doi: 10.1049/ic.2011.0012\n",
    "keywords: {data mining;fault tolerant computing;NASA metrics data program data set;automated software defect prediction;data cleansing process},\n",
    "URL: http://ieeexplore.ieee.org/stamp/stamp.jsp?tp=&arnumber=6083167&isnumber=6083155"
   ]
  }
 ],
 "metadata": {
  "kernelspec": {
   "display_name": "Python [conda env:pdi] *",
   "language": "python",
   "name": "conda-env-pdi-py"
  },
  "language_info": {
   "codemirror_mode": {
    "name": "ipython",
    "version": 3
   },
   "file_extension": ".py",
   "mimetype": "text/x-python",
   "name": "python",
   "nbconvert_exporter": "python",
   "pygments_lexer": "ipython3",
   "version": "3.7.3"
  }
 },
 "nbformat": 4,
 "nbformat_minor": 2
}
