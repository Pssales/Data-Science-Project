{
 "cells": [
  {
   "cell_type": "markdown",
   "metadata": {},
   "source": [
    "A seleção de variáveis é um componente muito importante no fluxo de trabalho de um cientista de dados. \n",
    "<br> Quando apresentados dados com altíssima dimensionalidade (quantidade excessiva de colunas), os modelos geralmente apresentam lentidão porque o tempo de treinamento aumenta exponencialmente com o número de features!\n",
    "<br>\n",
    "A seleção de recursos é um processo no qual você seleciona automaticamente os recursos em seus dados que mais contribuem para a variável de previsão ou saída em que você está interessado.\n",
    "<br>\n",
    "Os modelos tem um risco crescente de overfitting com o aumento do número de colunas, desta forma, perde-se eficácia ao tentar aplicar o modelo aos novos dados."
   ]
  },
  {
   "cell_type": "code",
   "execution_count": 1,
   "metadata": {
    "ExecuteTime": {
     "end_time": "2019-10-03T14:20:33.444479Z",
     "start_time": "2019-10-03T14:20:31.399108Z"
    }
   },
   "outputs": [],
   "source": [
    "%matplotlib inline\n",
    "import pandas as pd\n",
    "import numpy as np\n",
    "import matplotlib.pyplot as plt\n",
    "import seaborn as sns\n",
    "import math\n",
    "import datetime as dt\n",
    "from sklearn.preprocessing import MinMaxScaler, StandardScaler, Normalizer\n",
    "from sklearn.model_selection import train_test_split\n",
    "from sklearn.feature_selection import mutual_info_classif, mutual_info_regression, SelectKBest, SelectPercentile"
   ]
  },
  {
   "cell_type": "code",
   "execution_count": 2,
   "metadata": {
    "ExecuteTime": {
     "end_time": "2019-10-03T14:20:33.591448Z",
     "start_time": "2019-10-03T14:20:33.447536Z"
    }
   },
   "outputs": [
    {
     "name": "stdout",
     "output_type": "stream",
     "text": [
      "Quantidade de linhas no Dataset 14596\n"
     ]
    },
    {
     "data": {
      "text/html": [
       "<div>\n",
       "<style scoped>\n",
       "    .dataframe tbody tr th:only-of-type {\n",
       "        vertical-align: middle;\n",
       "    }\n",
       "\n",
       "    .dataframe tbody tr th {\n",
       "        vertical-align: top;\n",
       "    }\n",
       "\n",
       "    .dataframe thead th {\n",
       "        text-align: right;\n",
       "    }\n",
       "</style>\n",
       "<table border=\"1\" class=\"dataframe\">\n",
       "  <thead>\n",
       "    <tr style=\"text-align: right;\">\n",
       "      <th></th>\n",
       "      <th>Halstead_b</th>\n",
       "      <th>Halstead_d</th>\n",
       "      <th>Halstead_e</th>\n",
       "      <th>Halstead_i</th>\n",
       "      <th>Halstead_l</th>\n",
       "      <th>Halstead_lOBlank</th>\n",
       "      <th>Halstead_lOCode</th>\n",
       "      <th>Halstead_lOComment</th>\n",
       "      <th>Halstead_n</th>\n",
       "      <th>Halstead_t</th>\n",
       "      <th>...</th>\n",
       "      <th>McCabe_loc</th>\n",
       "      <th>McCabe_v(g)</th>\n",
       "      <th>SOFTWARE</th>\n",
       "      <th>branchCount</th>\n",
       "      <th>defects</th>\n",
       "      <th>locCodeAndComment</th>\n",
       "      <th>total_Op</th>\n",
       "      <th>total_Opnd</th>\n",
       "      <th>uniq_Op</th>\n",
       "      <th>uniq_Opnd</th>\n",
       "    </tr>\n",
       "  </thead>\n",
       "  <tbody>\n",
       "    <tr>\n",
       "      <th>0</th>\n",
       "      <td>1.30</td>\n",
       "      <td>1.30</td>\n",
       "      <td>1.30</td>\n",
       "      <td>1.30</td>\n",
       "      <td>1.30</td>\n",
       "      <td>2</td>\n",
       "      <td>2</td>\n",
       "      <td>2</td>\n",
       "      <td>1.3</td>\n",
       "      <td>1.30</td>\n",
       "      <td>...</td>\n",
       "      <td>1.1</td>\n",
       "      <td>1.4</td>\n",
       "      <td>0</td>\n",
       "      <td>1.4</td>\n",
       "      <td>0</td>\n",
       "      <td>2</td>\n",
       "      <td>1.2</td>\n",
       "      <td>1.2</td>\n",
       "      <td>1.2</td>\n",
       "      <td>1.2</td>\n",
       "    </tr>\n",
       "    <tr>\n",
       "      <th>1</th>\n",
       "      <td>1.00</td>\n",
       "      <td>1.00</td>\n",
       "      <td>1.00</td>\n",
       "      <td>1.00</td>\n",
       "      <td>1.00</td>\n",
       "      <td>1</td>\n",
       "      <td>1</td>\n",
       "      <td>1</td>\n",
       "      <td>1.0</td>\n",
       "      <td>1.00</td>\n",
       "      <td>...</td>\n",
       "      <td>1.0</td>\n",
       "      <td>1.0</td>\n",
       "      <td>0</td>\n",
       "      <td>1.0</td>\n",
       "      <td>1</td>\n",
       "      <td>1</td>\n",
       "      <td>1.0</td>\n",
       "      <td>1.0</td>\n",
       "      <td>1.0</td>\n",
       "      <td>1.0</td>\n",
       "    </tr>\n",
       "    <tr>\n",
       "      <th>2</th>\n",
       "      <td>0.10</td>\n",
       "      <td>9.50</td>\n",
       "      <td>2936.77</td>\n",
       "      <td>32.54</td>\n",
       "      <td>0.11</td>\n",
       "      <td>6</td>\n",
       "      <td>1</td>\n",
       "      <td>0</td>\n",
       "      <td>63.0</td>\n",
       "      <td>163.15</td>\n",
       "      <td>...</td>\n",
       "      <td>24.0</td>\n",
       "      <td>5.0</td>\n",
       "      <td>0</td>\n",
       "      <td>9.0</td>\n",
       "      <td>0</td>\n",
       "      <td>0</td>\n",
       "      <td>44.0</td>\n",
       "      <td>19.0</td>\n",
       "      <td>15.0</td>\n",
       "      <td>15.0</td>\n",
       "    </tr>\n",
       "    <tr>\n",
       "      <th>3</th>\n",
       "      <td>0.07</td>\n",
       "      <td>16.00</td>\n",
       "      <td>3447.89</td>\n",
       "      <td>13.47</td>\n",
       "      <td>0.06</td>\n",
       "      <td>3</td>\n",
       "      <td>0</td>\n",
       "      <td>0</td>\n",
       "      <td>47.0</td>\n",
       "      <td>191.55</td>\n",
       "      <td>...</td>\n",
       "      <td>20.0</td>\n",
       "      <td>4.0</td>\n",
       "      <td>0</td>\n",
       "      <td>7.0</td>\n",
       "      <td>0</td>\n",
       "      <td>0</td>\n",
       "      <td>31.0</td>\n",
       "      <td>16.0</td>\n",
       "      <td>16.0</td>\n",
       "      <td>8.0</td>\n",
       "    </tr>\n",
       "    <tr>\n",
       "      <th>4</th>\n",
       "      <td>0.12</td>\n",
       "      <td>17.33</td>\n",
       "      <td>5999.58</td>\n",
       "      <td>19.97</td>\n",
       "      <td>0.06</td>\n",
       "      <td>3</td>\n",
       "      <td>0</td>\n",
       "      <td>0</td>\n",
       "      <td>72.0</td>\n",
       "      <td>333.31</td>\n",
       "      <td>...</td>\n",
       "      <td>24.0</td>\n",
       "      <td>6.0</td>\n",
       "      <td>0</td>\n",
       "      <td>11.0</td>\n",
       "      <td>0</td>\n",
       "      <td>0</td>\n",
       "      <td>46.0</td>\n",
       "      <td>26.0</td>\n",
       "      <td>16.0</td>\n",
       "      <td>12.0</td>\n",
       "    </tr>\n",
       "  </tbody>\n",
       "</table>\n",
       "<p>5 rows × 24 columns</p>\n",
       "</div>"
      ],
      "text/plain": [
       "   Halstead_b  Halstead_d  Halstead_e  Halstead_i  Halstead_l  \\\n",
       "0        1.30        1.30        1.30        1.30        1.30   \n",
       "1        1.00        1.00        1.00        1.00        1.00   \n",
       "2        0.10        9.50     2936.77       32.54        0.11   \n",
       "3        0.07       16.00     3447.89       13.47        0.06   \n",
       "4        0.12       17.33     5999.58       19.97        0.06   \n",
       "\n",
       "   Halstead_lOBlank  Halstead_lOCode  Halstead_lOComment  Halstead_n  \\\n",
       "0                 2                2                   2         1.3   \n",
       "1                 1                1                   1         1.0   \n",
       "2                 6                1                   0        63.0   \n",
       "3                 3                0                   0        47.0   \n",
       "4                 3                0                   0        72.0   \n",
       "\n",
       "   Halstead_t  ...  McCabe_loc  McCabe_v(g)  SOFTWARE  branchCount  defects  \\\n",
       "0        1.30  ...         1.1          1.4         0          1.4        0   \n",
       "1        1.00  ...         1.0          1.0         0          1.0        1   \n",
       "2      163.15  ...        24.0          5.0         0          9.0        0   \n",
       "3      191.55  ...        20.0          4.0         0          7.0        0   \n",
       "4      333.31  ...        24.0          6.0         0         11.0        0   \n",
       "\n",
       "   locCodeAndComment  total_Op  total_Opnd  uniq_Op  uniq_Opnd  \n",
       "0                  2       1.2         1.2      1.2        1.2  \n",
       "1                  1       1.0         1.0      1.0        1.0  \n",
       "2                  0      44.0        19.0     15.0       15.0  \n",
       "3                  0      31.0        16.0     16.0        8.0  \n",
       "4                  0      46.0        26.0     16.0       12.0  \n",
       "\n",
       "[5 rows x 24 columns]"
      ]
     },
     "execution_count": 2,
     "metadata": {},
     "output_type": "execute_result"
    }
   ],
   "source": [
    "data = pd.read_csv('./dataset2/dataset_completo.csv')\n",
    "print('Quantidade de linhas no Dataset {}'.format(data.shape[0]))\n",
    "data.head()"
   ]
  },
  {
   "cell_type": "markdown",
   "metadata": {},
   "source": [
    "### Selecionando somente as variaveis numéricas para nossa análise!"
   ]
  },
  {
   "cell_type": "code",
   "execution_count": 3,
   "metadata": {
    "ExecuteTime": {
     "end_time": "2019-10-03T14:20:33.664404Z",
     "start_time": "2019-10-03T14:20:33.596446Z"
    }
   },
   "outputs": [
    {
     "name": "stdout",
     "output_type": "stream",
     "text": [
      "(14596, 24)\n"
     ]
    },
    {
     "data": {
      "text/html": [
       "<div>\n",
       "<style scoped>\n",
       "    .dataframe tbody tr th:only-of-type {\n",
       "        vertical-align: middle;\n",
       "    }\n",
       "\n",
       "    .dataframe tbody tr th {\n",
       "        vertical-align: top;\n",
       "    }\n",
       "\n",
       "    .dataframe thead th {\n",
       "        text-align: right;\n",
       "    }\n",
       "</style>\n",
       "<table border=\"1\" class=\"dataframe\">\n",
       "  <thead>\n",
       "    <tr style=\"text-align: right;\">\n",
       "      <th></th>\n",
       "      <th>Halstead_b</th>\n",
       "      <th>Halstead_d</th>\n",
       "      <th>Halstead_e</th>\n",
       "      <th>Halstead_i</th>\n",
       "      <th>Halstead_l</th>\n",
       "      <th>Halstead_lOBlank</th>\n",
       "      <th>Halstead_lOCode</th>\n",
       "      <th>Halstead_lOComment</th>\n",
       "      <th>Halstead_n</th>\n",
       "      <th>Halstead_t</th>\n",
       "      <th>...</th>\n",
       "      <th>McCabe_loc</th>\n",
       "      <th>McCabe_v(g)</th>\n",
       "      <th>SOFTWARE</th>\n",
       "      <th>branchCount</th>\n",
       "      <th>defects</th>\n",
       "      <th>locCodeAndComment</th>\n",
       "      <th>total_Op</th>\n",
       "      <th>total_Opnd</th>\n",
       "      <th>uniq_Op</th>\n",
       "      <th>uniq_Opnd</th>\n",
       "    </tr>\n",
       "  </thead>\n",
       "  <tbody>\n",
       "    <tr>\n",
       "      <th>0</th>\n",
       "      <td>1.30</td>\n",
       "      <td>1.30</td>\n",
       "      <td>1.30</td>\n",
       "      <td>1.30</td>\n",
       "      <td>1.30</td>\n",
       "      <td>2</td>\n",
       "      <td>2</td>\n",
       "      <td>2</td>\n",
       "      <td>1.3</td>\n",
       "      <td>1.30</td>\n",
       "      <td>...</td>\n",
       "      <td>1.1</td>\n",
       "      <td>1.4</td>\n",
       "      <td>0</td>\n",
       "      <td>1.4</td>\n",
       "      <td>0</td>\n",
       "      <td>2</td>\n",
       "      <td>1.2</td>\n",
       "      <td>1.2</td>\n",
       "      <td>1.2</td>\n",
       "      <td>1.2</td>\n",
       "    </tr>\n",
       "    <tr>\n",
       "      <th>1</th>\n",
       "      <td>1.00</td>\n",
       "      <td>1.00</td>\n",
       "      <td>1.00</td>\n",
       "      <td>1.00</td>\n",
       "      <td>1.00</td>\n",
       "      <td>1</td>\n",
       "      <td>1</td>\n",
       "      <td>1</td>\n",
       "      <td>1.0</td>\n",
       "      <td>1.00</td>\n",
       "      <td>...</td>\n",
       "      <td>1.0</td>\n",
       "      <td>1.0</td>\n",
       "      <td>0</td>\n",
       "      <td>1.0</td>\n",
       "      <td>1</td>\n",
       "      <td>1</td>\n",
       "      <td>1.0</td>\n",
       "      <td>1.0</td>\n",
       "      <td>1.0</td>\n",
       "      <td>1.0</td>\n",
       "    </tr>\n",
       "    <tr>\n",
       "      <th>2</th>\n",
       "      <td>0.10</td>\n",
       "      <td>9.50</td>\n",
       "      <td>2936.77</td>\n",
       "      <td>32.54</td>\n",
       "      <td>0.11</td>\n",
       "      <td>6</td>\n",
       "      <td>1</td>\n",
       "      <td>0</td>\n",
       "      <td>63.0</td>\n",
       "      <td>163.15</td>\n",
       "      <td>...</td>\n",
       "      <td>24.0</td>\n",
       "      <td>5.0</td>\n",
       "      <td>0</td>\n",
       "      <td>9.0</td>\n",
       "      <td>0</td>\n",
       "      <td>0</td>\n",
       "      <td>44.0</td>\n",
       "      <td>19.0</td>\n",
       "      <td>15.0</td>\n",
       "      <td>15.0</td>\n",
       "    </tr>\n",
       "    <tr>\n",
       "      <th>3</th>\n",
       "      <td>0.07</td>\n",
       "      <td>16.00</td>\n",
       "      <td>3447.89</td>\n",
       "      <td>13.47</td>\n",
       "      <td>0.06</td>\n",
       "      <td>3</td>\n",
       "      <td>0</td>\n",
       "      <td>0</td>\n",
       "      <td>47.0</td>\n",
       "      <td>191.55</td>\n",
       "      <td>...</td>\n",
       "      <td>20.0</td>\n",
       "      <td>4.0</td>\n",
       "      <td>0</td>\n",
       "      <td>7.0</td>\n",
       "      <td>0</td>\n",
       "      <td>0</td>\n",
       "      <td>31.0</td>\n",
       "      <td>16.0</td>\n",
       "      <td>16.0</td>\n",
       "      <td>8.0</td>\n",
       "    </tr>\n",
       "    <tr>\n",
       "      <th>4</th>\n",
       "      <td>0.12</td>\n",
       "      <td>17.33</td>\n",
       "      <td>5999.58</td>\n",
       "      <td>19.97</td>\n",
       "      <td>0.06</td>\n",
       "      <td>3</td>\n",
       "      <td>0</td>\n",
       "      <td>0</td>\n",
       "      <td>72.0</td>\n",
       "      <td>333.31</td>\n",
       "      <td>...</td>\n",
       "      <td>24.0</td>\n",
       "      <td>6.0</td>\n",
       "      <td>0</td>\n",
       "      <td>11.0</td>\n",
       "      <td>0</td>\n",
       "      <td>0</td>\n",
       "      <td>46.0</td>\n",
       "      <td>26.0</td>\n",
       "      <td>16.0</td>\n",
       "      <td>12.0</td>\n",
       "    </tr>\n",
       "  </tbody>\n",
       "</table>\n",
       "<p>5 rows × 24 columns</p>\n",
       "</div>"
      ],
      "text/plain": [
       "   Halstead_b  Halstead_d  Halstead_e  Halstead_i  Halstead_l  \\\n",
       "0        1.30        1.30        1.30        1.30        1.30   \n",
       "1        1.00        1.00        1.00        1.00        1.00   \n",
       "2        0.10        9.50     2936.77       32.54        0.11   \n",
       "3        0.07       16.00     3447.89       13.47        0.06   \n",
       "4        0.12       17.33     5999.58       19.97        0.06   \n",
       "\n",
       "   Halstead_lOBlank  Halstead_lOCode  Halstead_lOComment  Halstead_n  \\\n",
       "0                 2                2                   2         1.3   \n",
       "1                 1                1                   1         1.0   \n",
       "2                 6                1                   0        63.0   \n",
       "3                 3                0                   0        47.0   \n",
       "4                 3                0                   0        72.0   \n",
       "\n",
       "   Halstead_t  ...  McCabe_loc  McCabe_v(g)  SOFTWARE  branchCount  defects  \\\n",
       "0        1.30  ...         1.1          1.4         0          1.4        0   \n",
       "1        1.00  ...         1.0          1.0         0          1.0        1   \n",
       "2      163.15  ...        24.0          5.0         0          9.0        0   \n",
       "3      191.55  ...        20.0          4.0         0          7.0        0   \n",
       "4      333.31  ...        24.0          6.0         0         11.0        0   \n",
       "\n",
       "   locCodeAndComment  total_Op  total_Opnd  uniq_Op  uniq_Opnd  \n",
       "0                  2       1.2         1.2      1.2        1.2  \n",
       "1                  1       1.0         1.0      1.0        1.0  \n",
       "2                  0      44.0        19.0     15.0       15.0  \n",
       "3                  0      31.0        16.0     16.0        8.0  \n",
       "4                  0      46.0        26.0     16.0       12.0  \n",
       "\n",
       "[5 rows x 24 columns]"
      ]
     },
     "execution_count": 3,
     "metadata": {},
     "output_type": "execute_result"
    }
   ],
   "source": [
    "numerics = ['int16', 'int32', 'int64', 'float16', 'float32', 'float64']\n",
    "numerical = list(data.select_dtypes(include=numerics).columns)\n",
    "data = data[numerical]\n",
    "print(data.shape)\n",
    "data.head()"
   ]
  },
  {
   "cell_type": "markdown",
   "metadata": {},
   "source": [
    "Para simplificar a separação dos dados de treino e teste iremos utilizar o train_test_split"
   ]
  },
  {
   "cell_type": "code",
   "execution_count": 4,
   "metadata": {
    "ExecuteTime": {
     "end_time": "2019-10-03T14:20:33.748351Z",
     "start_time": "2019-10-03T14:20:33.672400Z"
    }
   },
   "outputs": [
    {
     "name": "stdout",
     "output_type": "stream",
     "text": [
      "Dados de treino (10217, 23)\n",
      "\n",
      "\n",
      "Dados de teste(4379, 23)\n"
     ]
    }
   ],
   "source": [
    "X_train, X_test, y_train, y_test = train_test_split(data.drop(['defects'], axis=1), data['defects'],\n",
    "                                                   test_size = 0.3, random_state = 0)\n",
    "print('Dados de treino {}'.format(X_train.shape))\n",
    "print('\\n')\n",
    "print('Dados de teste{}'.format(X_test.shape))"
   ]
  },
  {
   "cell_type": "markdown",
   "metadata": {},
   "source": [
    "Seleção de recursos como a maioria das coisas na ciência de dados é altamente dependente de contexto e do conjunto de dados, Desta forma, não há uma solução única para a seleção de recursos. \n",
    "<br>\n",
    "A melhor maneira de avançar é entender o mecanismo de cada método e usá-lo quando necessário.\n",
    "<br>\n",
    "Vamos aplicar alguns métodos de seleção de variáveis e verificar o comportamento!"
   ]
  },
  {
   "cell_type": "markdown",
   "metadata": {},
   "source": [
    "## Mutual information\n",
    "\n",
    "### Relação entre as variaveis e a variavel target.\n",
    "\n",
    "Se X e Y são independentes, então nenhuma informação sobre Y pode ser obtida conhecendo X ou vice-versa. \n",
    "<br>\n",
    "Portanto sua informação mútua é 0.\n",
    "\n",
    "<br>\n",
    "Se X é uma função determinística de Y, então podemos determinar X de Y e Y de X com informação mútua 1.\n",
    "\n",
    "<br>\n",
    "Quanto menor o valor, menos a variavel descreve  a relação com o Target!\n",
    "\n",
    "<br>\n",
    "A vantagem de usar informações mútuas sobre o F-Test é que ele se dá bem com a relação não linear entre as variáveis de recursos e de Target."
   ]
  },
  {
   "cell_type": "code",
   "execution_count": 5,
   "metadata": {
    "ExecuteTime": {
     "end_time": "2019-10-03T14:20:37.359668Z",
     "start_time": "2019-10-03T14:20:33.755348Z"
    }
   },
   "outputs": [
    {
     "data": {
      "text/plain": [
       "array([0.02988241, 0.03557915, 0.04246898, 0.0423559 , 0.02667628,\n",
       "       0.03352767, 0.03769464, 0.01080609, 0.04383745, 0.0464798 ,\n",
       "       0.04437835, 0.00227549, 0.00758049, 0.03264633, 0.0593619 ,\n",
       "       0.03916076, 0.01133529, 0.02771868, 0.00362783, 0.04810996,\n",
       "       0.03488859, 0.03300102, 0.02994299])"
      ]
     },
     "execution_count": 5,
     "metadata": {},
     "output_type": "execute_result"
    }
   ],
   "source": [
    "mi = mutual_info_classif(X_train.fillna(0), y_train)\n",
    "mi"
   ]
  },
  {
   "cell_type": "markdown",
   "metadata": {},
   "source": [
    "Geramos o fator de relação entre variáveis e target porém a visualização em número para o ser humano não é agradável.\n",
    "<br>\n",
    "Vamos Criar um Series do Pandas com os valores para facilitar a visualização em um plot!"
   ]
  },
  {
   "cell_type": "code",
   "execution_count": 6,
   "metadata": {
    "ExecuteTime": {
     "end_time": "2019-10-03T14:20:37.373655Z",
     "start_time": "2019-10-03T14:20:37.363663Z"
    }
   },
   "outputs": [],
   "source": [
    "mi = pd.Series(mi)\n",
    "mi.index = X_train.columns\n",
    "mi = mi.sort_values(ascending = False)"
   ]
  },
  {
   "cell_type": "code",
   "execution_count": 7,
   "metadata": {
    "ExecuteTime": {
     "end_time": "2019-10-03T14:20:38.058156Z",
     "start_time": "2019-10-03T14:20:37.377655Z"
    }
   },
   "outputs": [
    {
     "data": {
      "image/png": "[encoded data removed]",
      "text/plain": [
       "<Figure size 1584x720 with 1 Axes>"
      ]
     },
     "metadata": {
      "needs_background": "light"
     },
     "output_type": "display_data"
    }
   ],
   "source": [
    "mi.plot.bar(figsize=(22,10));"
   ]
  },
  {
   "cell_type": "markdown",
   "metadata": {},
   "source": [
    "O código usando a classe SelectKBest da biblioteca feature_selection combinada com o método de máximo coeficiente de informações para selecionar recursos é a seguinte:"
   ]
  },
  {
   "cell_type": "code",
   "execution_count": 8,
   "metadata": {
    "ExecuteTime": {
     "end_time": "2019-10-03T14:20:41.626321Z",
     "start_time": "2019-10-03T14:20:38.065149Z"
    }
   },
   "outputs": [
    {
     "data": {
      "text/plain": [
       "Index(['Halstead_d', 'Halstead_e', 'Halstead_i', 'Halstead_n', 'Halstead_t',\n",
       "       'Halstead_v', 'McCabe_loc', 'total_Op', 'total_Opnd', 'uniq_Opnd'],\n",
       "      dtype='object')"
      ]
     },
     "execution_count": 8,
     "metadata": {},
     "output_type": "execute_result"
    }
   ],
   "source": [
    "sel_ = SelectKBest(mutual_info_classif, k= 10).fit(X_train.fillna(0), y_train)\n",
    "X_train.columns[sel_.get_support()]"
   ]
  },
  {
   "cell_type": "markdown",
   "metadata": {},
   "source": [
    "Abaixo estão as melhores features de acordo com o método Mutual Information\n",
    "<br>\n",
    "Assim, poderíamos aplicar esta lista no Dataset Original como Slice e trabalhar somente com a variáveis mais relevantes."
   ]
  },
  {
   "cell_type": "code",
   "execution_count": 9,
   "metadata": {
    "ExecuteTime": {
     "end_time": "2019-10-03T14:20:41.640824Z",
     "start_time": "2019-10-03T14:20:41.630847Z"
    }
   },
   "outputs": [
    {
     "data": {
      "text/plain": [
       "['Halstead_d',\n",
       " 'Halstead_e',\n",
       " 'Halstead_i',\n",
       " 'Halstead_n',\n",
       " 'Halstead_t',\n",
       " 'Halstead_v',\n",
       " 'McCabe_loc',\n",
       " 'total_Op',\n",
       " 'total_Opnd',\n",
       " 'uniq_Opnd']"
      ]
     },
     "execution_count": 9,
     "metadata": {},
     "output_type": "execute_result"
    }
   ],
   "source": [
    "list(X_train.columns[sel_.get_support()])"
   ]
  },
  {
   "cell_type": "markdown",
   "metadata": {},
   "source": [
    "## Aplicando o método de Regressao (mutual_info_regression)\n"
   ]
  },
  {
   "cell_type": "code",
   "execution_count": 10,
   "metadata": {
    "ExecuteTime": {
     "end_time": "2019-10-03T14:20:41.760603Z",
     "start_time": "2019-10-03T14:20:41.643825Z"
    }
   },
   "outputs": [],
   "source": [
    "# Selecionando somente as variaveis numericas\n",
    "numerics = ['int16', 'int32', 'int64', 'float16', 'float32', 'float64']\n",
    "numerical = list(data.select_dtypes(include=numerics).columns)\n",
    "data = data[numerical]"
   ]
  },
  {
   "cell_type": "code",
   "execution_count": 11,
   "metadata": {
    "ExecuteTime": {
     "end_time": "2019-10-03T14:20:41.859513Z",
     "start_time": "2019-10-03T14:20:41.762592Z"
    }
   },
   "outputs": [
    {
     "data": {
      "text/plain": [
       "((10217, 23), (4379, 23))"
      ]
     },
     "execution_count": 11,
     "metadata": {},
     "output_type": "execute_result"
    }
   ],
   "source": [
    "# Separando os dados de treino e teste\n",
    "X_train, X_test, y_train, y_test = train_test_split(data.drop(['defects'], axis=1), data['defects'],\n",
    "                                                   test_size = 0.3, random_state = 0)\n",
    "X_train.shape, X_test.shape"
   ]
  },
  {
   "cell_type": "markdown",
   "metadata": {},
   "source": [
    "## Encontrando o Mutual Information com Regressão!"
   ]
  },
  {
   "cell_type": "code",
   "execution_count": 12,
   "metadata": {
    "ExecuteTime": {
     "end_time": "2019-10-03T14:20:52.415521Z",
     "start_time": "2019-10-03T14:20:41.863513Z"
    }
   },
   "outputs": [
    {
     "data": {
      "text/plain": [
       "Halstead_i            0.049198\n",
       "Halstead_e            0.047761\n",
       "McCabe_loc            0.044788\n",
       "Halstead_v            0.044478\n",
       "Halstead_t            0.039491\n",
       "Halstead_d            0.038596\n",
       "Halstead_n            0.038187\n",
       "Halstead_l            0.034504\n",
       "total_Opnd            0.032018\n",
       "uniq_Opnd             0.031154\n",
       "McCabe_v(g)           0.030736\n",
       "Halstead_lOCode       0.030423\n",
       "total_Op              0.029564\n",
       "Halstead_lOBlank      0.027154\n",
       "uniq_Op               0.025911\n",
       "branchCount           0.024832\n",
       "Halstead_b            0.023302\n",
       "Halstead_lOComment    0.023266\n",
       "McCabe_iv(g)          0.021557\n",
       "locCodeAndComment     0.009160\n",
       "McCabe_ev(g)          0.005085\n",
       "SOFTWARE              0.002777\n",
       "Language              0.000000\n",
       "dtype: float64"
      ]
     },
     "execution_count": 12,
     "metadata": {},
     "output_type": "execute_result"
    }
   ],
   "source": [
    "mi = mutual_info_regression(X_train.fillna(0), y_train)\n",
    "mi = pd.Series(mi)\n",
    "mi.index = X_train.columns\n",
    "mi.sort_values(ascending=False)"
   ]
  },
  {
   "cell_type": "code",
   "execution_count": 13,
   "metadata": {
    "ExecuteTime": {
     "end_time": "2019-10-03T14:20:52.938612Z",
     "start_time": "2019-10-03T14:20:52.419520Z"
    }
   },
   "outputs": [
    {
     "data": {
      "image/png": "[encoded data removed]",
      "text/plain": [
       "<Figure size 936x576 with 1 Axes>"
      ]
     },
     "metadata": {
      "needs_background": "light"
     },
     "output_type": "display_data"
    }
   ],
   "source": [
    "mi.sort_values(ascending=False).plot.bar(figsize = (13,8));"
   ]
  },
  {
   "cell_type": "markdown",
   "metadata": {},
   "source": [
    "## Aplicando o método  Select Percentile"
   ]
  },
  {
   "cell_type": "code",
   "execution_count": 14,
   "metadata": {
    "ExecuteTime": {
     "end_time": "2019-10-03T14:21:02.829672Z",
     "start_time": "2019-10-03T14:20:52.942608Z"
    }
   },
   "outputs": [
    {
     "data": {
      "text/plain": [
       "Index(['Halstead_e', 'Halstead_v', 'McCabe_iv(g)', 'McCabe_loc', 'total_Op'], dtype='object')"
      ]
     },
     "execution_count": 14,
     "metadata": {},
     "output_type": "execute_result"
    }
   ],
   "source": [
    "sel_ = SelectPercentile(mutual_info_regression, percentile= 20).fit(X_train.fillna(0), y_train)\n",
    "X_train.columns[sel_.get_support()]"
   ]
  },
  {
   "cell_type": "code",
   "execution_count": 15,
   "metadata": {
    "ExecuteTime": {
     "end_time": "2019-10-03T14:21:02.848662Z",
     "start_time": "2019-10-03T14:21:02.835669Z"
    }
   },
   "outputs": [
    {
     "name": "stdout",
     "output_type": "stream",
     "text": [
      "Halstead_e True\n",
      "Halstead_v True\n",
      "McCabe_iv(g) True\n",
      "McCabe_loc True\n",
      "total_Op True\n"
     ]
    }
   ],
   "source": [
    "for i, y in zip(X_train.columns, sel_.get_support()):\n",
    "    if y == True:\n",
    "        print(i,y)"
   ]
  },
  {
   "cell_type": "code",
   "execution_count": 16,
   "metadata": {
    "ExecuteTime": {
     "end_time": "2019-10-03T14:21:02.957614Z",
     "start_time": "2019-10-03T14:21:02.852659Z"
    }
   },
   "outputs": [],
   "source": [
    "from sklearn.feature_selection import f_classif, f_regression"
   ]
  },
  {
   "cell_type": "markdown",
   "metadata": {},
   "source": [
    "# Regressão"
   ]
  },
  {
   "cell_type": "code",
   "execution_count": 17,
   "metadata": {
    "ExecuteTime": {
     "end_time": "2019-10-03T14:21:03.196373Z",
     "start_time": "2019-10-03T14:21:02.961610Z"
    }
   },
   "outputs": [
    {
     "name": "stdout",
     "output_type": "stream",
     "text": [
      "(14596, 24)\n"
     ]
    },
    {
     "data": {
      "text/html": [
       "<div>\n",
       "<style scoped>\n",
       "    .dataframe tbody tr th:only-of-type {\n",
       "        vertical-align: middle;\n",
       "    }\n",
       "\n",
       "    .dataframe tbody tr th {\n",
       "        vertical-align: top;\n",
       "    }\n",
       "\n",
       "    .dataframe thead th {\n",
       "        text-align: right;\n",
       "    }\n",
       "</style>\n",
       "<table border=\"1\" class=\"dataframe\">\n",
       "  <thead>\n",
       "    <tr style=\"text-align: right;\">\n",
       "      <th></th>\n",
       "      <th>Halstead_b</th>\n",
       "      <th>Halstead_d</th>\n",
       "      <th>Halstead_e</th>\n",
       "      <th>Halstead_i</th>\n",
       "      <th>Halstead_l</th>\n",
       "      <th>Halstead_lOBlank</th>\n",
       "      <th>Halstead_lOCode</th>\n",
       "      <th>Halstead_lOComment</th>\n",
       "      <th>Halstead_n</th>\n",
       "      <th>Halstead_t</th>\n",
       "      <th>...</th>\n",
       "      <th>McCabe_loc</th>\n",
       "      <th>McCabe_v(g)</th>\n",
       "      <th>SOFTWARE</th>\n",
       "      <th>branchCount</th>\n",
       "      <th>defects</th>\n",
       "      <th>locCodeAndComment</th>\n",
       "      <th>total_Op</th>\n",
       "      <th>total_Opnd</th>\n",
       "      <th>uniq_Op</th>\n",
       "      <th>uniq_Opnd</th>\n",
       "    </tr>\n",
       "  </thead>\n",
       "  <tbody>\n",
       "    <tr>\n",
       "      <th>0</th>\n",
       "      <td>1.30</td>\n",
       "      <td>1.30</td>\n",
       "      <td>1.30</td>\n",
       "      <td>1.30</td>\n",
       "      <td>1.30</td>\n",
       "      <td>2</td>\n",
       "      <td>2</td>\n",
       "      <td>2</td>\n",
       "      <td>1.3</td>\n",
       "      <td>1.30</td>\n",
       "      <td>...</td>\n",
       "      <td>1.1</td>\n",
       "      <td>1.4</td>\n",
       "      <td>0</td>\n",
       "      <td>1.4</td>\n",
       "      <td>0</td>\n",
       "      <td>2</td>\n",
       "      <td>1.2</td>\n",
       "      <td>1.2</td>\n",
       "      <td>1.2</td>\n",
       "      <td>1.2</td>\n",
       "    </tr>\n",
       "    <tr>\n",
       "      <th>1</th>\n",
       "      <td>1.00</td>\n",
       "      <td>1.00</td>\n",
       "      <td>1.00</td>\n",
       "      <td>1.00</td>\n",
       "      <td>1.00</td>\n",
       "      <td>1</td>\n",
       "      <td>1</td>\n",
       "      <td>1</td>\n",
       "      <td>1.0</td>\n",
       "      <td>1.00</td>\n",
       "      <td>...</td>\n",
       "      <td>1.0</td>\n",
       "      <td>1.0</td>\n",
       "      <td>0</td>\n",
       "      <td>1.0</td>\n",
       "      <td>1</td>\n",
       "      <td>1</td>\n",
       "      <td>1.0</td>\n",
       "      <td>1.0</td>\n",
       "      <td>1.0</td>\n",
       "      <td>1.0</td>\n",
       "    </tr>\n",
       "    <tr>\n",
       "      <th>2</th>\n",
       "      <td>0.10</td>\n",
       "      <td>9.50</td>\n",
       "      <td>2936.77</td>\n",
       "      <td>32.54</td>\n",
       "      <td>0.11</td>\n",
       "      <td>6</td>\n",
       "      <td>1</td>\n",
       "      <td>0</td>\n",
       "      <td>63.0</td>\n",
       "      <td>163.15</td>\n",
       "      <td>...</td>\n",
       "      <td>24.0</td>\n",
       "      <td>5.0</td>\n",
       "      <td>0</td>\n",
       "      <td>9.0</td>\n",
       "      <td>0</td>\n",
       "      <td>0</td>\n",
       "      <td>44.0</td>\n",
       "      <td>19.0</td>\n",
       "      <td>15.0</td>\n",
       "      <td>15.0</td>\n",
       "    </tr>\n",
       "    <tr>\n",
       "      <th>3</th>\n",
       "      <td>0.07</td>\n",
       "      <td>16.00</td>\n",
       "      <td>3447.89</td>\n",
       "      <td>13.47</td>\n",
       "      <td>0.06</td>\n",
       "      <td>3</td>\n",
       "      <td>0</td>\n",
       "      <td>0</td>\n",
       "      <td>47.0</td>\n",
       "      <td>191.55</td>\n",
       "      <td>...</td>\n",
       "      <td>20.0</td>\n",
       "      <td>4.0</td>\n",
       "      <td>0</td>\n",
       "      <td>7.0</td>\n",
       "      <td>0</td>\n",
       "      <td>0</td>\n",
       "      <td>31.0</td>\n",
       "      <td>16.0</td>\n",
       "      <td>16.0</td>\n",
       "      <td>8.0</td>\n",
       "    </tr>\n",
       "    <tr>\n",
       "      <th>4</th>\n",
       "      <td>0.12</td>\n",
       "      <td>17.33</td>\n",
       "      <td>5999.58</td>\n",
       "      <td>19.97</td>\n",
       "      <td>0.06</td>\n",
       "      <td>3</td>\n",
       "      <td>0</td>\n",
       "      <td>0</td>\n",
       "      <td>72.0</td>\n",
       "      <td>333.31</td>\n",
       "      <td>...</td>\n",
       "      <td>24.0</td>\n",
       "      <td>6.0</td>\n",
       "      <td>0</td>\n",
       "      <td>11.0</td>\n",
       "      <td>0</td>\n",
       "      <td>0</td>\n",
       "      <td>46.0</td>\n",
       "      <td>26.0</td>\n",
       "      <td>16.0</td>\n",
       "      <td>12.0</td>\n",
       "    </tr>\n",
       "  </tbody>\n",
       "</table>\n",
       "<p>5 rows × 24 columns</p>\n",
       "</div>"
      ],
      "text/plain": [
       "   Halstead_b  Halstead_d  Halstead_e  Halstead_i  Halstead_l  \\\n",
       "0        1.30        1.30        1.30        1.30        1.30   \n",
       "1        1.00        1.00        1.00        1.00        1.00   \n",
       "2        0.10        9.50     2936.77       32.54        0.11   \n",
       "3        0.07       16.00     3447.89       13.47        0.06   \n",
       "4        0.12       17.33     5999.58       19.97        0.06   \n",
       "\n",
       "   Halstead_lOBlank  Halstead_lOCode  Halstead_lOComment  Halstead_n  \\\n",
       "0                 2                2                   2         1.3   \n",
       "1                 1                1                   1         1.0   \n",
       "2                 6                1                   0        63.0   \n",
       "3                 3                0                   0        47.0   \n",
       "4                 3                0                   0        72.0   \n",
       "\n",
       "   Halstead_t  ...  McCabe_loc  McCabe_v(g)  SOFTWARE  branchCount  defects  \\\n",
       "0        1.30  ...         1.1          1.4         0          1.4        0   \n",
       "1        1.00  ...         1.0          1.0         0          1.0        1   \n",
       "2      163.15  ...        24.0          5.0         0          9.0        0   \n",
       "3      191.55  ...        20.0          4.0         0          7.0        0   \n",
       "4      333.31  ...        24.0          6.0         0         11.0        0   \n",
       "\n",
       "   locCodeAndComment  total_Op  total_Opnd  uniq_Op  uniq_Opnd  \n",
       "0                  2       1.2         1.2      1.2        1.2  \n",
       "1                  1       1.0         1.0      1.0        1.0  \n",
       "2                  0      44.0        19.0     15.0       15.0  \n",
       "3                  0      31.0        16.0     16.0        8.0  \n",
       "4                  0      46.0        26.0     16.0       12.0  \n",
       "\n",
       "[5 rows x 24 columns]"
      ]
     },
     "execution_count": 17,
     "metadata": {},
     "output_type": "execute_result"
    }
   ],
   "source": [
    "data = pd.read_csv('./dataset2/dataset_completo.csv')\n",
    "\n",
    "numerics = ['int16', 'int32', 'int64', 'float16', 'float32', 'float64']\n",
    "numerical = list(data.select_dtypes(include=numerics).columns)\n",
    "data = data[numerical]\n",
    "print(data.shape)\n",
    "data.head()"
   ]
  },
  {
   "cell_type": "code",
   "execution_count": 18,
   "metadata": {
    "ExecuteTime": {
     "end_time": "2019-10-03T14:21:03.226354Z",
     "start_time": "2019-10-03T14:21:03.201370Z"
    }
   },
   "outputs": [
    {
     "data": {
      "text/plain": [
       "((10217, 23), (4379, 23))"
      ]
     },
     "execution_count": 18,
     "metadata": {},
     "output_type": "execute_result"
    }
   ],
   "source": [
    "# Separando os dados de treino e teste\n",
    "X_train, X_test, y_train, y_test = train_test_split(data.drop(['defects'], axis=1), data['defects'],\n",
    "                                                   test_size = 0.3, random_state = 0)\n",
    "X_train.shape, X_test.shape"
   ]
  },
  {
   "cell_type": "code",
   "execution_count": 19,
   "metadata": {
    "ExecuteTime": {
     "end_time": "2019-10-03T14:21:03.324485Z",
     "start_time": "2019-10-03T14:21:03.229353Z"
    }
   },
   "outputs": [],
   "source": [
    "# Calculando os P-Values \n",
    "\n",
    "univariate = f_regression(X_train.fillna(0), y_train)\n",
    "\n",
    "# Utilizado a selecao [1] para selecionar o P-value\n",
    "univariate = pd.Series(univariate[1])\n",
    "\n",
    "# Passando as colunas como indices\n",
    "univariate.index = X_train.columns\n",
    "univariate.sort_values(ascending = False, inplace = True)\n"
   ]
  },
  {
   "cell_type": "code",
   "execution_count": 20,
   "metadata": {
    "ExecuteTime": {
     "end_time": "2019-10-03T14:21:03.923416Z",
     "start_time": "2019-10-03T14:21:03.327484Z"
    }
   },
   "outputs": [
    {
     "data": {
      "image/png": "[encoded data removed]",
      "text/plain": [
       "<Figure size 1080x576 with 1 Axes>"
      ]
     },
     "metadata": {
      "needs_background": "light"
     },
     "output_type": "display_data"
    }
   ],
   "source": [
    "univariate.plot.bar(figsize = (15, 8));"
   ]
  },
  {
   "cell_type": "markdown",
   "metadata": {},
   "source": [
    "### As variáveis acima dos 0.05 definidos como thershold estão demonstradas acima no plot!\n",
    "\n",
    "# Selecionando os 10 tops - Percentile\n",
    "\n",
    "#### Obs: Estes métodos são raramente usados para machine learning, e mais usados para verificar o relacionamento entre as variáveis, facilitando o trabalho para datasets grandes!"
   ]
  },
  {
   "cell_type": "code",
   "execution_count": 21,
   "metadata": {
    "ExecuteTime": {
     "end_time": "2019-10-03T14:21:03.948403Z",
     "start_time": "2019-10-03T14:21:03.927413Z"
    }
   },
   "outputs": [
    {
     "data": {
      "text/plain": [
       "Index(['McCabe_loc', 'branchCount', 'uniq_Opnd'], dtype='object')"
      ]
     },
     "execution_count": 21,
     "metadata": {},
     "output_type": "execute_result"
    }
   ],
   "source": [
    "sel_ = SelectPercentile(f_regression, percentile= 10).fit(X_train.fillna(0), y_train)\n",
    "X_train.columns[sel_.get_support()]"
   ]
  },
  {
   "cell_type": "markdown",
   "metadata": {},
   "source": [
    "# Univariada ROC-AUC ou MSE"
   ]
  },
  {
   "cell_type": "markdown",
   "metadata": {},
   "source": [
    "* Primeiramente, cria-se uma árvore de decisao para cada variavel.\n",
    "* Realiza a predição com a árvore de decisao mencionada.\n",
    "* Ranqueia os itens de acordo com a metrica ROC-AUC ou MSE.\n",
    "* Seleciona os mais altos índices das variaveis. "
   ]
  },
  {
   "cell_type": "code",
   "execution_count": 22,
   "metadata": {
    "ExecuteTime": {
     "end_time": "2019-10-03T14:21:04.448268Z",
     "start_time": "2019-10-03T14:21:03.952398Z"
    }
   },
   "outputs": [],
   "source": [
    "from sklearn.tree import DecisionTreeClassifier, DecisionTreeRegressor\n",
    "from sklearn.metrics import roc_auc_score, mean_squared_error"
   ]
  },
  {
   "cell_type": "code",
   "execution_count": 23,
   "metadata": {
    "ExecuteTime": {
     "end_time": "2019-10-03T14:21:04.741865Z",
     "start_time": "2019-10-03T14:21:04.457262Z"
    }
   },
   "outputs": [
    {
     "name": "stdout",
     "output_type": "stream",
     "text": [
      "(14596, 24)\n"
     ]
    },
    {
     "data": {
      "text/html": [
       "<div>\n",
       "<style scoped>\n",
       "    .dataframe tbody tr th:only-of-type {\n",
       "        vertical-align: middle;\n",
       "    }\n",
       "\n",
       "    .dataframe tbody tr th {\n",
       "        vertical-align: top;\n",
       "    }\n",
       "\n",
       "    .dataframe thead th {\n",
       "        text-align: right;\n",
       "    }\n",
       "</style>\n",
       "<table border=\"1\" class=\"dataframe\">\n",
       "  <thead>\n",
       "    <tr style=\"text-align: right;\">\n",
       "      <th></th>\n",
       "      <th>Halstead_b</th>\n",
       "      <th>Halstead_d</th>\n",
       "      <th>Halstead_e</th>\n",
       "      <th>Halstead_i</th>\n",
       "      <th>Halstead_l</th>\n",
       "      <th>Halstead_lOBlank</th>\n",
       "      <th>Halstead_lOCode</th>\n",
       "      <th>Halstead_lOComment</th>\n",
       "      <th>Halstead_n</th>\n",
       "      <th>Halstead_t</th>\n",
       "      <th>...</th>\n",
       "      <th>McCabe_loc</th>\n",
       "      <th>McCabe_v(g)</th>\n",
       "      <th>SOFTWARE</th>\n",
       "      <th>branchCount</th>\n",
       "      <th>defects</th>\n",
       "      <th>locCodeAndComment</th>\n",
       "      <th>total_Op</th>\n",
       "      <th>total_Opnd</th>\n",
       "      <th>uniq_Op</th>\n",
       "      <th>uniq_Opnd</th>\n",
       "    </tr>\n",
       "  </thead>\n",
       "  <tbody>\n",
       "    <tr>\n",
       "      <th>0</th>\n",
       "      <td>1.30</td>\n",
       "      <td>1.30</td>\n",
       "      <td>1.30</td>\n",
       "      <td>1.30</td>\n",
       "      <td>1.30</td>\n",
       "      <td>2</td>\n",
       "      <td>2</td>\n",
       "      <td>2</td>\n",
       "      <td>1.3</td>\n",
       "      <td>1.30</td>\n",
       "      <td>...</td>\n",
       "      <td>1.1</td>\n",
       "      <td>1.4</td>\n",
       "      <td>0</td>\n",
       "      <td>1.4</td>\n",
       "      <td>0</td>\n",
       "      <td>2</td>\n",
       "      <td>1.2</td>\n",
       "      <td>1.2</td>\n",
       "      <td>1.2</td>\n",
       "      <td>1.2</td>\n",
       "    </tr>\n",
       "    <tr>\n",
       "      <th>1</th>\n",
       "      <td>1.00</td>\n",
       "      <td>1.00</td>\n",
       "      <td>1.00</td>\n",
       "      <td>1.00</td>\n",
       "      <td>1.00</td>\n",
       "      <td>1</td>\n",
       "      <td>1</td>\n",
       "      <td>1</td>\n",
       "      <td>1.0</td>\n",
       "      <td>1.00</td>\n",
       "      <td>...</td>\n",
       "      <td>1.0</td>\n",
       "      <td>1.0</td>\n",
       "      <td>0</td>\n",
       "      <td>1.0</td>\n",
       "      <td>1</td>\n",
       "      <td>1</td>\n",
       "      <td>1.0</td>\n",
       "      <td>1.0</td>\n",
       "      <td>1.0</td>\n",
       "      <td>1.0</td>\n",
       "    </tr>\n",
       "    <tr>\n",
       "      <th>2</th>\n",
       "      <td>0.10</td>\n",
       "      <td>9.50</td>\n",
       "      <td>2936.77</td>\n",
       "      <td>32.54</td>\n",
       "      <td>0.11</td>\n",
       "      <td>6</td>\n",
       "      <td>1</td>\n",
       "      <td>0</td>\n",
       "      <td>63.0</td>\n",
       "      <td>163.15</td>\n",
       "      <td>...</td>\n",
       "      <td>24.0</td>\n",
       "      <td>5.0</td>\n",
       "      <td>0</td>\n",
       "      <td>9.0</td>\n",
       "      <td>0</td>\n",
       "      <td>0</td>\n",
       "      <td>44.0</td>\n",
       "      <td>19.0</td>\n",
       "      <td>15.0</td>\n",
       "      <td>15.0</td>\n",
       "    </tr>\n",
       "    <tr>\n",
       "      <th>3</th>\n",
       "      <td>0.07</td>\n",
       "      <td>16.00</td>\n",
       "      <td>3447.89</td>\n",
       "      <td>13.47</td>\n",
       "      <td>0.06</td>\n",
       "      <td>3</td>\n",
       "      <td>0</td>\n",
       "      <td>0</td>\n",
       "      <td>47.0</td>\n",
       "      <td>191.55</td>\n",
       "      <td>...</td>\n",
       "      <td>20.0</td>\n",
       "      <td>4.0</td>\n",
       "      <td>0</td>\n",
       "      <td>7.0</td>\n",
       "      <td>0</td>\n",
       "      <td>0</td>\n",
       "      <td>31.0</td>\n",
       "      <td>16.0</td>\n",
       "      <td>16.0</td>\n",
       "      <td>8.0</td>\n",
       "    </tr>\n",
       "    <tr>\n",
       "      <th>4</th>\n",
       "      <td>0.12</td>\n",
       "      <td>17.33</td>\n",
       "      <td>5999.58</td>\n",
       "      <td>19.97</td>\n",
       "      <td>0.06</td>\n",
       "      <td>3</td>\n",
       "      <td>0</td>\n",
       "      <td>0</td>\n",
       "      <td>72.0</td>\n",
       "      <td>333.31</td>\n",
       "      <td>...</td>\n",
       "      <td>24.0</td>\n",
       "      <td>6.0</td>\n",
       "      <td>0</td>\n",
       "      <td>11.0</td>\n",
       "      <td>0</td>\n",
       "      <td>0</td>\n",
       "      <td>46.0</td>\n",
       "      <td>26.0</td>\n",
       "      <td>16.0</td>\n",
       "      <td>12.0</td>\n",
       "    </tr>\n",
       "  </tbody>\n",
       "</table>\n",
       "<p>5 rows × 24 columns</p>\n",
       "</div>"
      ],
      "text/plain": [
       "   Halstead_b  Halstead_d  Halstead_e  Halstead_i  Halstead_l  \\\n",
       "0        1.30        1.30        1.30        1.30        1.30   \n",
       "1        1.00        1.00        1.00        1.00        1.00   \n",
       "2        0.10        9.50     2936.77       32.54        0.11   \n",
       "3        0.07       16.00     3447.89       13.47        0.06   \n",
       "4        0.12       17.33     5999.58       19.97        0.06   \n",
       "\n",
       "   Halstead_lOBlank  Halstead_lOCode  Halstead_lOComment  Halstead_n  \\\n",
       "0                 2                2                   2         1.3   \n",
       "1                 1                1                   1         1.0   \n",
       "2                 6                1                   0        63.0   \n",
       "3                 3                0                   0        47.0   \n",
       "4                 3                0                   0        72.0   \n",
       "\n",
       "   Halstead_t  ...  McCabe_loc  McCabe_v(g)  SOFTWARE  branchCount  defects  \\\n",
       "0        1.30  ...         1.1          1.4         0          1.4        0   \n",
       "1        1.00  ...         1.0          1.0         0          1.0        1   \n",
       "2      163.15  ...        24.0          5.0         0          9.0        0   \n",
       "3      191.55  ...        20.0          4.0         0          7.0        0   \n",
       "4      333.31  ...        24.0          6.0         0         11.0        0   \n",
       "\n",
       "   locCodeAndComment  total_Op  total_Opnd  uniq_Op  uniq_Opnd  \n",
       "0                  2       1.2         1.2      1.2        1.2  \n",
       "1                  1       1.0         1.0      1.0        1.0  \n",
       "2                  0      44.0        19.0     15.0       15.0  \n",
       "3                  0      31.0        16.0     16.0        8.0  \n",
       "4                  0      46.0        26.0     16.0       12.0  \n",
       "\n",
       "[5 rows x 24 columns]"
      ]
     },
     "execution_count": 23,
     "metadata": {},
     "output_type": "execute_result"
    }
   ],
   "source": [
    "data = pd.read_csv('./dataset2/dataset_completo.csv')\n",
    "data.head()\n",
    "\n",
    "# Selecionando somente as variaveis numericas\n",
    "numerics = ['int16', 'int32', 'int64', 'float16', 'float32', 'float64']\n",
    "numerical = list(data.select_dtypes(include=numerics).columns)\n",
    "data = data[numerical]\n",
    "print(data.shape)\n",
    "data.head()"
   ]
  },
  {
   "cell_type": "code",
   "execution_count": 24,
   "metadata": {
    "ExecuteTime": {
     "end_time": "2019-10-03T14:21:04.768847Z",
     "start_time": "2019-10-03T14:21:04.746859Z"
    }
   },
   "outputs": [
    {
     "data": {
      "text/plain": [
       "((10217, 23), (4379, 23))"
      ]
     },
     "execution_count": 24,
     "metadata": {},
     "output_type": "execute_result"
    }
   ],
   "source": [
    "# Separando os dados de treino e teste\n",
    "X_train, X_test, y_train, y_test = train_test_split(data.drop(['defects'], axis=1), data['defects'],\n",
    "                                                   test_size = 0.3, random_state = 0)\n",
    "X_train.shape, X_test.shape"
   ]
  },
  {
   "cell_type": "markdown",
   "metadata": {},
   "source": [
    "### Criação do laço para preencher a variavel roc_values com as prediçoes da árvore de decisão!"
   ]
  },
  {
   "cell_type": "code",
   "execution_count": 25,
   "metadata": {
    "ExecuteTime": {
     "end_time": "2019-10-03T14:21:05.210586Z",
     "start_time": "2019-10-03T14:21:04.772843Z"
    }
   },
   "outputs": [],
   "source": [
    "roc_values = []\n",
    "for feature in X_train.columns:\n",
    "    clf = DecisionTreeClassifier()\n",
    "    clf.fit(X_train[feature].fillna(0).to_frame(), y_train)\n",
    "    y_scored = clf.predict_proba(X_test[feature].fillna(0).to_frame())\n",
    "    roc_values.append(roc_auc_score(y_test, y_scored[:, 1]))"
   ]
  },
  {
   "cell_type": "markdown",
   "metadata": {},
   "source": [
    "#### Ordenando as colunas em roc_values para facilitar a visualização"
   ]
  },
  {
   "cell_type": "code",
   "execution_count": 26,
   "metadata": {
    "ExecuteTime": {
     "end_time": "2019-10-03T14:21:05.227565Z",
     "start_time": "2019-10-03T14:21:05.213571Z"
    }
   },
   "outputs": [
    {
     "data": {
      "text/plain": [
       "McCabe_loc          0.694282\n",
       "uniq_Op             0.678897\n",
       "uniq_Opnd           0.678535\n",
       "McCabe_iv(g)        0.678238\n",
       "branchCount         0.671742\n",
       "McCabe_v(g)         0.671145\n",
       "Halstead_l          0.663235\n",
       "Halstead_lOCode     0.658135\n",
       "Halstead_lOBlank    0.654683\n",
       "total_Opnd          0.644578\n",
       "dtype: float64"
      ]
     },
     "execution_count": 26,
     "metadata": {},
     "output_type": "execute_result"
    }
   ],
   "source": [
    "roc_values = pd.Series(roc_values)\n",
    "roc_values.index = X_train.columns\n",
    "roc_values.sort_values(ascending = False)[0:10]"
   ]
  },
  {
   "cell_type": "markdown",
   "metadata": {},
   "source": [
    "#### Pode-se notar que diversas variaveis estão com o mesmo score 0.5"
   ]
  },
  {
   "cell_type": "code",
   "execution_count": 27,
   "metadata": {
    "ExecuteTime": {
     "end_time": "2019-10-03T14:21:05.824342Z",
     "start_time": "2019-10-03T14:21:05.233560Z"
    },
    "scrolled": false
   },
   "outputs": [
    {
     "data": {
      "image/png": "[encoded data removed]",
      "text/plain": [
       "<Figure size 1224x432 with 1 Axes>"
      ]
     },
     "metadata": {
      "needs_background": "light"
     },
     "output_type": "display_data"
    }
   ],
   "source": [
    "roc_values.sort_values(ascending = False).plot.bar(figsize = (17,6));"
   ]
  },
  {
   "cell_type": "markdown",
   "metadata": {},
   "source": [
    "### Verificando quantas variaveis estão acima do threshold de 0.5"
   ]
  },
  {
   "cell_type": "code",
   "execution_count": 28,
   "metadata": {
    "ExecuteTime": {
     "end_time": "2019-10-03T14:21:05.838331Z",
     "start_time": "2019-10-03T14:21:05.828337Z"
    }
   },
   "outputs": [
    {
     "data": {
      "text/plain": [
       "23"
      ]
     },
     "execution_count": 28,
     "metadata": {},
     "output_type": "execute_result"
    }
   ],
   "source": [
    "len(roc_values[roc_values > 0.5])"
   ]
  },
  {
   "cell_type": "markdown",
   "metadata": {},
   "source": [
    "### Exemplo com o caso de Regressão"
   ]
  },
  {
   "cell_type": "code",
   "execution_count": 29,
   "metadata": {
    "ExecuteTime": {
     "end_time": "2019-10-03T14:21:06.069310Z",
     "start_time": "2019-10-03T14:21:05.842330Z"
    }
   },
   "outputs": [
    {
     "name": "stdout",
     "output_type": "stream",
     "text": [
      "(14596, 24)\n"
     ]
    },
    {
     "data": {
      "text/html": [
       "<div>\n",
       "<style scoped>\n",
       "    .dataframe tbody tr th:only-of-type {\n",
       "        vertical-align: middle;\n",
       "    }\n",
       "\n",
       "    .dataframe tbody tr th {\n",
       "        vertical-align: top;\n",
       "    }\n",
       "\n",
       "    .dataframe thead th {\n",
       "        text-align: right;\n",
       "    }\n",
       "</style>\n",
       "<table border=\"1\" class=\"dataframe\">\n",
       "  <thead>\n",
       "    <tr style=\"text-align: right;\">\n",
       "      <th></th>\n",
       "      <th>Halstead_b</th>\n",
       "      <th>Halstead_d</th>\n",
       "      <th>Halstead_e</th>\n",
       "      <th>Halstead_i</th>\n",
       "      <th>Halstead_l</th>\n",
       "      <th>Halstead_lOBlank</th>\n",
       "      <th>Halstead_lOCode</th>\n",
       "      <th>Halstead_lOComment</th>\n",
       "      <th>Halstead_n</th>\n",
       "      <th>Halstead_t</th>\n",
       "      <th>...</th>\n",
       "      <th>McCabe_loc</th>\n",
       "      <th>McCabe_v(g)</th>\n",
       "      <th>SOFTWARE</th>\n",
       "      <th>branchCount</th>\n",
       "      <th>defects</th>\n",
       "      <th>locCodeAndComment</th>\n",
       "      <th>total_Op</th>\n",
       "      <th>total_Opnd</th>\n",
       "      <th>uniq_Op</th>\n",
       "      <th>uniq_Opnd</th>\n",
       "    </tr>\n",
       "  </thead>\n",
       "  <tbody>\n",
       "    <tr>\n",
       "      <th>0</th>\n",
       "      <td>1.30</td>\n",
       "      <td>1.30</td>\n",
       "      <td>1.30</td>\n",
       "      <td>1.30</td>\n",
       "      <td>1.30</td>\n",
       "      <td>2</td>\n",
       "      <td>2</td>\n",
       "      <td>2</td>\n",
       "      <td>1.3</td>\n",
       "      <td>1.30</td>\n",
       "      <td>...</td>\n",
       "      <td>1.1</td>\n",
       "      <td>1.4</td>\n",
       "      <td>0</td>\n",
       "      <td>1.4</td>\n",
       "      <td>0</td>\n",
       "      <td>2</td>\n",
       "      <td>1.2</td>\n",
       "      <td>1.2</td>\n",
       "      <td>1.2</td>\n",
       "      <td>1.2</td>\n",
       "    </tr>\n",
       "    <tr>\n",
       "      <th>1</th>\n",
       "      <td>1.00</td>\n",
       "      <td>1.00</td>\n",
       "      <td>1.00</td>\n",
       "      <td>1.00</td>\n",
       "      <td>1.00</td>\n",
       "      <td>1</td>\n",
       "      <td>1</td>\n",
       "      <td>1</td>\n",
       "      <td>1.0</td>\n",
       "      <td>1.00</td>\n",
       "      <td>...</td>\n",
       "      <td>1.0</td>\n",
       "      <td>1.0</td>\n",
       "      <td>0</td>\n",
       "      <td>1.0</td>\n",
       "      <td>1</td>\n",
       "      <td>1</td>\n",
       "      <td>1.0</td>\n",
       "      <td>1.0</td>\n",
       "      <td>1.0</td>\n",
       "      <td>1.0</td>\n",
       "    </tr>\n",
       "    <tr>\n",
       "      <th>2</th>\n",
       "      <td>0.10</td>\n",
       "      <td>9.50</td>\n",
       "      <td>2936.77</td>\n",
       "      <td>32.54</td>\n",
       "      <td>0.11</td>\n",
       "      <td>6</td>\n",
       "      <td>1</td>\n",
       "      <td>0</td>\n",
       "      <td>63.0</td>\n",
       "      <td>163.15</td>\n",
       "      <td>...</td>\n",
       "      <td>24.0</td>\n",
       "      <td>5.0</td>\n",
       "      <td>0</td>\n",
       "      <td>9.0</td>\n",
       "      <td>0</td>\n",
       "      <td>0</td>\n",
       "      <td>44.0</td>\n",
       "      <td>19.0</td>\n",
       "      <td>15.0</td>\n",
       "      <td>15.0</td>\n",
       "    </tr>\n",
       "    <tr>\n",
       "      <th>3</th>\n",
       "      <td>0.07</td>\n",
       "      <td>16.00</td>\n",
       "      <td>3447.89</td>\n",
       "      <td>13.47</td>\n",
       "      <td>0.06</td>\n",
       "      <td>3</td>\n",
       "      <td>0</td>\n",
       "      <td>0</td>\n",
       "      <td>47.0</td>\n",
       "      <td>191.55</td>\n",
       "      <td>...</td>\n",
       "      <td>20.0</td>\n",
       "      <td>4.0</td>\n",
       "      <td>0</td>\n",
       "      <td>7.0</td>\n",
       "      <td>0</td>\n",
       "      <td>0</td>\n",
       "      <td>31.0</td>\n",
       "      <td>16.0</td>\n",
       "      <td>16.0</td>\n",
       "      <td>8.0</td>\n",
       "    </tr>\n",
       "    <tr>\n",
       "      <th>4</th>\n",
       "      <td>0.12</td>\n",
       "      <td>17.33</td>\n",
       "      <td>5999.58</td>\n",
       "      <td>19.97</td>\n",
       "      <td>0.06</td>\n",
       "      <td>3</td>\n",
       "      <td>0</td>\n",
       "      <td>0</td>\n",
       "      <td>72.0</td>\n",
       "      <td>333.31</td>\n",
       "      <td>...</td>\n",
       "      <td>24.0</td>\n",
       "      <td>6.0</td>\n",
       "      <td>0</td>\n",
       "      <td>11.0</td>\n",
       "      <td>0</td>\n",
       "      <td>0</td>\n",
       "      <td>46.0</td>\n",
       "      <td>26.0</td>\n",
       "      <td>16.0</td>\n",
       "      <td>12.0</td>\n",
       "    </tr>\n",
       "  </tbody>\n",
       "</table>\n",
       "<p>5 rows × 24 columns</p>\n",
       "</div>"
      ],
      "text/plain": [
       "   Halstead_b  Halstead_d  Halstead_e  Halstead_i  Halstead_l  \\\n",
       "0        1.30        1.30        1.30        1.30        1.30   \n",
       "1        1.00        1.00        1.00        1.00        1.00   \n",
       "2        0.10        9.50     2936.77       32.54        0.11   \n",
       "3        0.07       16.00     3447.89       13.47        0.06   \n",
       "4        0.12       17.33     5999.58       19.97        0.06   \n",
       "\n",
       "   Halstead_lOBlank  Halstead_lOCode  Halstead_lOComment  Halstead_n  \\\n",
       "0                 2                2                   2         1.3   \n",
       "1                 1                1                   1         1.0   \n",
       "2                 6                1                   0        63.0   \n",
       "3                 3                0                   0        47.0   \n",
       "4                 3                0                   0        72.0   \n",
       "\n",
       "   Halstead_t  ...  McCabe_loc  McCabe_v(g)  SOFTWARE  branchCount  defects  \\\n",
       "0        1.30  ...         1.1          1.4         0          1.4        0   \n",
       "1        1.00  ...         1.0          1.0         0          1.0        1   \n",
       "2      163.15  ...        24.0          5.0         0          9.0        0   \n",
       "3      191.55  ...        20.0          4.0         0          7.0        0   \n",
       "4      333.31  ...        24.0          6.0         0         11.0        0   \n",
       "\n",
       "   locCodeAndComment  total_Op  total_Opnd  uniq_Op  uniq_Opnd  \n",
       "0                  2       1.2         1.2      1.2        1.2  \n",
       "1                  1       1.0         1.0      1.0        1.0  \n",
       "2                  0      44.0        19.0     15.0       15.0  \n",
       "3                  0      31.0        16.0     16.0        8.0  \n",
       "4                  0      46.0        26.0     16.0       12.0  \n",
       "\n",
       "[5 rows x 24 columns]"
      ]
     },
     "execution_count": 29,
     "metadata": {},
     "output_type": "execute_result"
    }
   ],
   "source": [
    "data = pd.read_csv('./dataset2/dataset_completo.csv')\n",
    "\n",
    "numerics = ['int16', 'int32', 'int64', 'float16', 'float32', 'float64']\n",
    "numerical = list(data.select_dtypes(include=numerics).columns)\n",
    "data = data[numerical]\n",
    "print(data.shape)\n",
    "data.head()"
   ]
  },
  {
   "cell_type": "code",
   "execution_count": 30,
   "metadata": {
    "ExecuteTime": {
     "end_time": "2019-10-03T14:21:06.096290Z",
     "start_time": "2019-10-03T14:21:06.073305Z"
    }
   },
   "outputs": [
    {
     "data": {
      "text/plain": [
       "((10217, 23), (4379, 23))"
      ]
     },
     "execution_count": 30,
     "metadata": {},
     "output_type": "execute_result"
    }
   ],
   "source": [
    "# Separando os dados de treino e teste\n",
    "X_train, X_test, y_train, y_test = train_test_split(data.drop(['defects'], axis=1), data['defects'],\n",
    "                                                   test_size = 0.3, random_state = 0)\n",
    "X_train.shape, X_test.shape"
   ]
  },
  {
   "cell_type": "code",
   "execution_count": 31,
   "metadata": {
    "ExecuteTime": {
     "end_time": "2019-10-03T14:21:06.512055Z",
     "start_time": "2019-10-03T14:21:06.100289Z"
    }
   },
   "outputs": [],
   "source": [
    "# Criacao do laco para gerar o classificador de arvore de decisao (MSE)\n",
    "mse_values = []\n",
    "for feature in X_train.columns:\n",
    "    clf = DecisionTreeRegressor()\n",
    "    clf.fit(X_train[feature].fillna(0).to_frame(), y_train)\n",
    "    y_scored = clf.predict(X_test[feature].fillna(0).to_frame())\n",
    "    mse_values.append(mean_squared_error(y_test, y_scored))"
   ]
  },
  {
   "cell_type": "code",
   "execution_count": 32,
   "metadata": {
    "ExecuteTime": {
     "end_time": "2019-10-03T14:21:06.524044Z",
     "start_time": "2019-10-03T14:21:06.515050Z"
    }
   },
   "outputs": [],
   "source": [
    "mse_values = pd.Series(mse_values)\n",
    "mse_values.index = X_train.columns\n",
    "mse_values.sort_values(ascending = False, inplace = True)"
   ]
  },
  {
   "cell_type": "code",
   "execution_count": 33,
   "metadata": {
    "ExecuteTime": {
     "end_time": "2019-10-03T14:21:06.612377Z",
     "start_time": "2019-10-03T14:21:06.528041Z"
    }
   },
   "outputs": [
    {
     "data": {
      "text/plain": [
       "Halstead_e           0.230749\n",
       "Halstead_t           0.229860\n",
       "Halstead_i           0.209888\n",
       "Halstead_v           0.201122\n",
       "Halstead_d           0.186532\n",
       "Halstead_n           0.150841\n",
       "total_Op             0.147550\n",
       "locCodeAndComment    0.143780\n",
       "Language             0.143408\n",
       "total_Opnd           0.143216\n",
       "dtype: float64"
      ]
     },
     "execution_count": 33,
     "metadata": {},
     "output_type": "execute_result"
    }
   ],
   "source": [
    "mse_values[0:10]"
   ]
  },
  {
   "cell_type": "code",
   "execution_count": 34,
   "metadata": {
    "ExecuteTime": {
     "end_time": "2019-10-03T14:21:07.189716Z",
     "start_time": "2019-10-03T14:21:06.616373Z"
    }
   },
   "outputs": [
    {
     "data": {
      "image/png": "[encoded data removed]",
      "text/plain": [
       "<Figure size 864x432 with 1 Axes>"
      ]
     },
     "metadata": {
      "needs_background": "light"
     },
     "output_type": "display_data"
    }
   ],
   "source": [
    "mse_values.plot.bar(figsize = (12,6));"
   ]
  },
  {
   "cell_type": "markdown",
   "metadata": {},
   "source": [
    "## Vale lembrar que para o caso  de regressão, quanto menor o valor de MSE, melhor!!!\n",
    "* Metodo útil quando se esta trabalhando com datasets enormes!\n",
    "\n",
    "* Experimente valores diferentes para as diversas opções de parâmetros e assim verificar quais funcionam melhor para uma tarefa de machine learning.\n",
    "\n",
    "* A seleção de variáveis é uma etapa crítica de um fluxo de trabalho no aprendizado de máquina. O cientista de dados precisa executar várias iterações para otimizar os dados e modelos.\n"
   ]
  }
 ],
 "metadata": {
  "kernelspec": {
   "display_name": "Python 3",
   "language": "python",
   "name": "python3"
  },
  "language_info": {
   "codemirror_mode": {
    "name": "ipython",
    "version": 3
   },
   "file_extension": ".py",
   "mimetype": "text/x-python",
   "name": "python",
   "nbconvert_exporter": "python",
   "pygments_lexer": "ipython3",
   "version": "3.7.3"
  }
 },
 "nbformat": 4,
 "nbformat_minor": 2
}
